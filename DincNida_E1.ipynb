{
 "cells": [
  {
   "cell_type": "markdown",
   "id": "455684ad",
   "metadata": {},
   "source": [
    "### Exercise 1.1: The interpreter"
   ]
  },
  {
   "cell_type": "code",
   "execution_count": 1,
   "id": "12872696",
   "metadata": {},
   "outputs": [
    {
     "data": {
      "text/plain": [
       "4"
      ]
     },
     "execution_count": 1,
     "metadata": {},
     "output_type": "execute_result"
    }
   ],
   "source": [
    "3+1"
   ]
  },
  {
   "cell_type": "code",
   "execution_count": 2,
   "id": "1a9fae9c",
   "metadata": {},
   "outputs": [
    {
     "data": {
      "text/plain": [
       "9"
      ]
     },
     "execution_count": 2,
     "metadata": {},
     "output_type": "execute_result"
    }
   ],
   "source": [
    "3*3"
   ]
  },
  {
   "cell_type": "code",
   "execution_count": 3,
   "id": "d8ef88ac",
   "metadata": {},
   "outputs": [
    {
     "data": {
      "text/plain": [
       "8"
      ]
     },
     "execution_count": 3,
     "metadata": {},
     "output_type": "execute_result"
    }
   ],
   "source": [
    "2 ** 3"
   ]
  },
  {
   "cell_type": "code",
   "execution_count": 4,
   "id": "f5708a5c",
   "metadata": {},
   "outputs": [
    {
     "data": {
      "text/plain": [
       "'Hello, world!'"
      ]
     },
     "execution_count": 4,
     "metadata": {},
     "output_type": "execute_result"
    }
   ],
   "source": [
    "\"Hello, world!\""
   ]
  },
  {
   "cell_type": "markdown",
   "id": "4611816e",
   "metadata": {},
   "source": [
    "It runs every code piece correcly. There is no errors."
   ]
  },
  {
   "cell_type": "markdown",
   "id": "acf53cf9",
   "metadata": {},
   "source": [
    "### Exercise 1.2: Scripts"
   ]
  },
  {
   "cell_type": "markdown",
   "id": "8bcb12fd",
   "metadata": {},
   "source": [
    "If we ran codes that given at above, it gives error. We can fix this by:"
   ]
  },
  {
   "cell_type": "code",
   "execution_count": 15,
   "id": "464d7828",
   "metadata": {},
   "outputs": [
    {
     "name": "stdout",
     "output_type": "stream",
     "text": [
      "4\n",
      "9\n",
      "8\n"
     ]
    },
    {
     "data": {
      "text/plain": [
       "'Hello, world!'"
      ]
     },
     "execution_count": 15,
     "metadata": {},
     "output_type": "execute_result"
    }
   ],
   "source": [
    "print(3+1)\n",
    "print(3*3)\n",
    "print(2 ** 3)\n",
    "\"Hello, world!\""
   ]
  },
  {
   "cell_type": "markdown",
   "id": "3bc21d47",
   "metadata": {},
   "source": [
    "### Exercise 1.3: More Interpreter"
   ]
  },
  {
   "cell_type": "code",
   "execution_count": 11,
   "id": "1a5869a4",
   "metadata": {},
   "outputs": [
    {
     "data": {
      "text/plain": [
       "'python'"
      ]
     },
     "execution_count": 11,
     "metadata": {},
     "output_type": "execute_result"
    }
   ],
   "source": [
    "'py' + 'thon'"
   ]
  },
  {
   "cell_type": "markdown",
   "id": "dd033224",
   "metadata": {},
   "source": [
    "'py' + 'thon' gives output as 'python'. It concanates strings."
   ]
  },
  {
   "cell_type": "code",
   "execution_count": 12,
   "id": "d1dd1fde",
   "metadata": {},
   "outputs": [
    {
     "data": {
      "text/plain": [
       "'pypypyton'"
      ]
     },
     "execution_count": 12,
     "metadata": {},
     "output_type": "execute_result"
    }
   ],
   "source": [
    "'py'*3 + 'ton'"
   ]
  },
  {
   "cell_type": "markdown",
   "id": "d61cb05c",
   "metadata": {},
   "source": [
    "'py' * 3 + 'ton' gives output as 'pypypyton'. It concats 'py' * x times. And adds 'ton'."
   ]
  },
  {
   "cell_type": "code",
   "execution_count": 14,
   "id": "f0f06f47",
   "metadata": {},
   "outputs": [
    {
     "ename": "TypeError",
     "evalue": "unsupported operand type(s) for -: 'str' and 'str'",
     "output_type": "error",
     "traceback": [
      "\u001b[0;31m---------------------------------------------------------------------------\u001b[0m",
      "\u001b[0;31mTypeError\u001b[0m                                 Traceback (most recent call last)",
      "Input \u001b[0;32mIn [14]\u001b[0m, in \u001b[0;36m<cell line: 1>\u001b[0;34m()\u001b[0m\n\u001b[0;32m----> 1\u001b[0m \u001b[38;5;124;43m'\u001b[39;49m\u001b[38;5;124;43mpy\u001b[39;49m\u001b[38;5;124;43m'\u001b[39;49m\u001b[38;5;241;43m-\u001b[39;49m\u001b[43m \u001b[49m\u001b[38;5;124;43m'\u001b[39;49m\u001b[38;5;124;43mpy\u001b[39;49m\u001b[38;5;124;43m'\u001b[39;49m\n",
      "\u001b[0;31mTypeError\u001b[0m: unsupported operand type(s) for -: 'str' and 'str'"
     ]
    }
   ],
   "source": [
    "'py'- 'py'"
   ]
  },
  {
   "cell_type": "markdown",
   "id": "3faefc07",
   "metadata": {},
   "source": [
    "It returns TypeError: unsupported operand type(s) for -: 'str' and 'str'. "
   ]
  },
  {
   "cell_type": "markdown",
   "id": "7e3e6439",
   "metadata": {},
   "source": [
    "Because '-' operand can not be applied to strings."
   ]
  },
  {
   "cell_type": "code",
   "execution_count": 17,
   "id": "674bac0c",
   "metadata": {},
   "outputs": [
    {
     "ename": "TypeError",
     "evalue": "can only concatenate str (not \"int\") to str",
     "output_type": "error",
     "traceback": [
      "\u001b[0;31m---------------------------------------------------------------------------\u001b[0m",
      "\u001b[0;31mTypeError\u001b[0m                                 Traceback (most recent call last)",
      "Input \u001b[0;32mIn [17]\u001b[0m, in \u001b[0;36m<cell line: 1>\u001b[0;34m()\u001b[0m\n\u001b[0;32m----> 1\u001b[0m \u001b[38;5;124;43m'\u001b[39;49m\u001b[38;5;124;43m3\u001b[39;49m\u001b[38;5;124;43m'\u001b[39;49m\u001b[38;5;241;43m+\u001b[39;49m\u001b[38;5;241;43m3\u001b[39;49m\n",
      "\u001b[0;31mTypeError\u001b[0m: can only concatenate str (not \"int\") to str"
     ]
    }
   ],
   "source": [
    "'3'+3"
   ]
  },
  {
   "cell_type": "markdown",
   "id": "722a707b",
   "metadata": {},
   "source": [
    "It returns TypeError: can only concatenate str (not \"int\") to str. "
   ]
  },
  {
   "cell_type": "code",
   "execution_count": 20,
   "id": "52d614a1",
   "metadata": {},
   "outputs": [
    {
     "data": {
      "text/plain": [
       "'333'"
      ]
     },
     "execution_count": 20,
     "metadata": {},
     "output_type": "execute_result"
    }
   ],
   "source": [
    "3 * '3'"
   ]
  },
  {
   "cell_type": "markdown",
   "id": "9d22f4ff",
   "metadata": {},
   "source": [
    "It returns '333', concanates '3' by *x times"
   ]
  },
  {
   "cell_type": "code",
   "execution_count": 21,
   "id": "98a355d5",
   "metadata": {},
   "outputs": [
    {
     "ename": "NameError",
     "evalue": "name 'a' is not defined",
     "output_type": "error",
     "traceback": [
      "\u001b[0;31m---------------------------------------------------------------------------\u001b[0m",
      "\u001b[0;31mNameError\u001b[0m                                 Traceback (most recent call last)",
      "Input \u001b[0;32mIn [21]\u001b[0m, in \u001b[0;36m<cell line: 1>\u001b[0;34m()\u001b[0m\n\u001b[0;32m----> 1\u001b[0m \u001b[43ma\u001b[49m\n",
      "\u001b[0;31mNameError\u001b[0m: name 'a' is not defined"
     ]
    }
   ],
   "source": [
    "a"
   ]
  },
  {
   "cell_type": "markdown",
   "id": "5129a894",
   "metadata": {},
   "source": [
    "It returns NameError, because a is not defined."
   ]
  },
  {
   "cell_type": "code",
   "execution_count": 22,
   "id": "d99d8994",
   "metadata": {},
   "outputs": [],
   "source": [
    "a = 3"
   ]
  },
  {
   "cell_type": "code",
   "execution_count": 23,
   "id": "7e1ddbd4",
   "metadata": {},
   "outputs": [
    {
     "data": {
      "text/plain": [
       "3"
      ]
     },
     "execution_count": 23,
     "metadata": {},
     "output_type": "execute_result"
    }
   ],
   "source": [
    "a"
   ]
  },
  {
   "cell_type": "markdown",
   "id": "db4d2946",
   "metadata": {},
   "source": [
    "Now it returns 3, because we have declared a as 3 at above."
   ]
  },
  {
   "cell_type": "markdown",
   "id": "de6d3d74",
   "metadata": {},
   "source": [
    "### Exercise 1.4: Booleans"
   ]
  },
  {
   "cell_type": "code",
   "execution_count": 25,
   "id": "58e81cd9",
   "metadata": {
    "scrolled": true
   },
   "outputs": [
    {
     "data": {
      "text/plain": [
       "True"
      ]
     },
     "execution_count": 25,
     "metadata": {},
     "output_type": "execute_result"
    }
   ],
   "source": [
    "1 == 1"
   ]
  },
  {
   "cell_type": "markdown",
   "id": "050c565c",
   "metadata": {},
   "source": [
    "Returns true."
   ]
  },
  {
   "cell_type": "code",
   "execution_count": 27,
   "id": "1f5eb46a",
   "metadata": {
    "scrolled": true
   },
   "outputs": [
    {
     "data": {
      "text/plain": [
       "True"
      ]
     },
     "execution_count": 27,
     "metadata": {},
     "output_type": "execute_result"
    }
   ],
   "source": [
    "1 == True"
   ]
  },
  {
   "cell_type": "markdown",
   "id": "f17b3a30",
   "metadata": {},
   "source": [
    "Returns true.Because true is equal to 1 in binary."
   ]
  },
  {
   "cell_type": "code",
   "execution_count": 28,
   "id": "d3ff9e8c",
   "metadata": {
    "scrolled": true
   },
   "outputs": [
    {
     "data": {
      "text/plain": [
       "False"
      ]
     },
     "execution_count": 28,
     "metadata": {},
     "output_type": "execute_result"
    }
   ],
   "source": [
    "0 == True"
   ]
  },
  {
   "cell_type": "markdown",
   "id": "f522ec30",
   "metadata": {},
   "source": [
    "Returns false because of the same reason at above."
   ]
  },
  {
   "cell_type": "code",
   "execution_count": 29,
   "id": "0d880481",
   "metadata": {
    "scrolled": true
   },
   "outputs": [
    {
     "data": {
      "text/plain": [
       "True"
      ]
     },
     "execution_count": 29,
     "metadata": {},
     "output_type": "execute_result"
    }
   ],
   "source": [
    "0 == False"
   ]
  },
  {
   "cell_type": "markdown",
   "id": "1aea435b",
   "metadata": {},
   "source": [
    "Returns true.Because false is equal to 0 in binary."
   ]
  },
  {
   "cell_type": "code",
   "execution_count": 30,
   "id": "7bf13b3c",
   "metadata": {
    "scrolled": true
   },
   "outputs": [
    {
     "data": {
      "text/plain": [
       "True"
      ]
     },
     "execution_count": 30,
     "metadata": {},
     "output_type": "execute_result"
    }
   ],
   "source": [
    "3 == 1 * 3"
   ]
  },
  {
   "cell_type": "markdown",
   "id": "b98906ac",
   "metadata": {},
   "source": [
    "Returns true."
   ]
  },
  {
   "cell_type": "code",
   "execution_count": 29,
   "id": "6e786c03",
   "metadata": {
    "scrolled": true
   },
   "outputs": [
    {
     "data": {
      "text/plain": [
       "True"
      ]
     },
     "execution_count": 29,
     "metadata": {},
     "output_type": "execute_result"
    }
   ],
   "source": [
    "0 == False"
   ]
  },
  {
   "cell_type": "markdown",
   "id": "499b8179",
   "metadata": {},
   "source": [
    "Returns true.Because false is equal to 0 in binary."
   ]
  },
  {
   "cell_type": "code",
   "execution_count": 32,
   "id": "6d53445d",
   "metadata": {
    "scrolled": true
   },
   "outputs": [
    {
     "data": {
      "text/plain": [
       "0"
      ]
     },
     "execution_count": 32,
     "metadata": {},
     "output_type": "execute_result"
    }
   ],
   "source": [
    "(3 == 1) * 3"
   ]
  },
  {
   "cell_type": "markdown",
   "id": "988f311a",
   "metadata": {},
   "source": [
    "Returns 0.Because 3 is not equal to 1 thus, first expression comes 0. And any number multiplication by 0 is 0."
   ]
  },
  {
   "cell_type": "code",
   "execution_count": 34,
   "id": "c5b2e655",
   "metadata": {
    "scrolled": false
   },
   "outputs": [
    {
     "data": {
      "text/plain": [
       "False"
      ]
     },
     "execution_count": 34,
     "metadata": {},
     "output_type": "execute_result"
    }
   ],
   "source": [
    "(3 == 3) * 4 + 3 == 1"
   ]
  },
  {
   "cell_type": "markdown",
   "id": "e3e7191f",
   "metadata": {},
   "source": [
    "Returns false.(true) = 1, and 1 * 4 = 4, 4 +3 =7 and 7 == 1 equals false."
   ]
  },
  {
   "cell_type": "code",
   "execution_count": 35,
   "id": "5cc1f1c1",
   "metadata": {
    "scrolled": false
   },
   "outputs": [
    {
     "data": {
      "text/plain": [
       "False"
      ]
     },
     "execution_count": 35,
     "metadata": {},
     "output_type": "execute_result"
    }
   ],
   "source": [
    "3**5 >= 4**4"
   ]
  },
  {
   "cell_type": "markdown",
   "id": "c2b6ffa8",
   "metadata": {},
   "source": [
    "Returns false.Because 3ˆ5 is not equal or greater than 4ˆ4"
   ]
  },
  {
   "cell_type": "markdown",
   "id": "61126bd2",
   "metadata": {},
   "source": [
    "### Exercise 1.5: Integers"
   ]
  },
  {
   "cell_type": "code",
   "execution_count": 36,
   "id": "c013ef37",
   "metadata": {},
   "outputs": [
    {
     "data": {
      "text/plain": [
       "1.6666666666666667"
      ]
     },
     "execution_count": 36,
     "metadata": {},
     "output_type": "execute_result"
    }
   ],
   "source": [
    "5 / 3"
   ]
  },
  {
   "cell_type": "markdown",
   "id": "edaf5272",
   "metadata": {},
   "source": [
    "It returns 5 division by 3."
   ]
  },
  {
   "cell_type": "code",
   "execution_count": 38,
   "id": "d74a0e55",
   "metadata": {},
   "outputs": [
    {
     "data": {
      "text/plain": [
       "2"
      ]
     },
     "execution_count": 38,
     "metadata": {},
     "output_type": "execute_result"
    }
   ],
   "source": [
    "5 % 3"
   ]
  },
  {
   "cell_type": "markdown",
   "id": "4ae08016",
   "metadata": {},
   "source": [
    "It returns reminder of dividing 5 by 3."
   ]
  },
  {
   "cell_type": "code",
   "execution_count": 40,
   "id": "d1a07ef0",
   "metadata": {},
   "outputs": [
    {
     "data": {
      "text/plain": [
       "1.6666666666666667"
      ]
     },
     "execution_count": 40,
     "metadata": {},
     "output_type": "execute_result"
    }
   ],
   "source": [
    "5.0 / 3"
   ]
  },
  {
   "cell_type": "markdown",
   "id": "6e07fbba",
   "metadata": {},
   "source": [
    "It returns 5 division by 3. Types are not important."
   ]
  },
  {
   "cell_type": "code",
   "execution_count": 41,
   "id": "7cfc3bc6",
   "metadata": {},
   "outputs": [
    {
     "data": {
      "text/plain": [
       "1.6666666666666667"
      ]
     },
     "execution_count": 41,
     "metadata": {},
     "output_type": "execute_result"
    }
   ],
   "source": [
    "5 / 3.0"
   ]
  },
  {
   "cell_type": "markdown",
   "id": "120f2285",
   "metadata": {},
   "source": [
    "It returns 5 division by 3. Types are not important."
   ]
  },
  {
   "cell_type": "code",
   "execution_count": 42,
   "id": "2e69b769",
   "metadata": {},
   "outputs": [
    {
     "data": {
      "text/plain": [
       "2.2"
      ]
     },
     "execution_count": 42,
     "metadata": {},
     "output_type": "execute_result"
    }
   ],
   "source": [
    "5.2 % 3"
   ]
  },
  {
   "cell_type": "markdown",
   "id": "9e72c291",
   "metadata": {},
   "source": [
    "It returns reminder of dividing 5.2 by 3."
   ]
  },
  {
   "cell_type": "code",
   "execution_count": 43,
   "id": "c34f3f85",
   "metadata": {},
   "outputs": [
    {
     "data": {
      "text/plain": [
       "1775896810483121914350934797871501063452843428843794422323202530887281536545210629921129898113201749875234297340507804201761453596034016264189501186924066128377025843892373608427790859511135990682732202975330824797118808624727351608183194154557208730494440110429635650057431833674286462463508755276302896154336475782768613964332764108132533925570342220340698973761380541294970139762186212823359128790706292900765512137078550033912252338262922477518858757114840012576514724742388124595061301502222934806074032688691170880996881967426442947828261057852871032366879179996122216385870273020506079240103910728766397733398071775041745854959302025036249707279600400001"
      ]
     },
     "execution_count": 43,
     "metadata": {},
     "output_type": "execute_result"
    }
   ],
   "source": [
    "2001 ** 200"
   ]
  },
  {
   "cell_type": "markdown",
   "id": "9025904a",
   "metadata": {},
   "source": [
    "It returns 2001ˆ200. (2001 * 2001 * 2001 *....* (200 times)"
   ]
  },
  {
   "cell_type": "markdown",
   "id": "3c718aa3",
   "metadata": {},
   "source": [
    "### Exercise 1.6: Floats"
   ]
  },
  {
   "cell_type": "code",
   "execution_count": 44,
   "id": "b205704c",
   "metadata": {},
   "outputs": [
    {
     "ename": "OverflowError",
     "evalue": "(34, 'Result too large')",
     "output_type": "error",
     "traceback": [
      "\u001b[0;31m---------------------------------------------------------------------------\u001b[0m",
      "\u001b[0;31mOverflowError\u001b[0m                             Traceback (most recent call last)",
      "Input \u001b[0;32mIn [44]\u001b[0m, in \u001b[0;36m<cell line: 1>\u001b[0;34m()\u001b[0m\n\u001b[0;32m----> 1\u001b[0m \u001b[38;5;241;43m2000.3\u001b[39;49m\u001b[43m \u001b[49m\u001b[38;5;241;43m*\u001b[39;49m\u001b[38;5;241;43m*\u001b[39;49m\u001b[43m \u001b[49m\u001b[38;5;241;43m200\u001b[39;49m\n",
      "\u001b[0;31mOverflowError\u001b[0m: (34, 'Result too large')"
     ]
    }
   ],
   "source": [
    "2000.3 ** 200"
   ]
  },
  {
   "cell_type": "markdown",
   "id": "f7f85753",
   "metadata": {},
   "source": [
    "It returns OverflowError: (34, 'Result too large'). Python floats are neither arbitary precision nor of unlimited size. When k = 349, 16.** k is much too large - thats almost 2^1400. Fortunately, the decimal library allows arbitrary precision and can handle the size. We can use decimal library."
   ]
  },
  {
   "cell_type": "code",
   "execution_count": 46,
   "id": "7c6b73b3",
   "metadata": {},
   "outputs": [
    {
     "data": {
      "text/plain": [
       "1.0"
      ]
     },
     "execution_count": 46,
     "metadata": {},
     "output_type": "execute_result"
    }
   ],
   "source": [
    "1.0 + 1.0 - 1.0"
   ]
  },
  {
   "cell_type": "markdown",
   "id": "75559276",
   "metadata": {},
   "source": [
    "It returns 1.0. "
   ]
  },
  {
   "cell_type": "code",
   "execution_count": 47,
   "id": "0920bf6e",
   "metadata": {},
   "outputs": [
    {
     "data": {
      "text/plain": [
       "0.0"
      ]
     },
     "execution_count": 47,
     "metadata": {},
     "output_type": "execute_result"
    }
   ],
   "source": [
    "1.0 + 1.0e20 - 1.0e20"
   ]
  },
  {
   "cell_type": "markdown",
   "id": "3eb83ee2",
   "metadata": {},
   "source": [
    "It returns 0.0. Because, 1.0e20 is big float and if we substract itself and add 1.0 then it rounds the nearest point and it was 0.0."
   ]
  },
  {
   "cell_type": "markdown",
   "id": "816c9c36",
   "metadata": {},
   "source": [
    "### Exercise 1.7: Variables"
   ]
  },
  {
   "cell_type": "code",
   "execution_count": 72,
   "id": "70c8e842",
   "metadata": {},
   "outputs": [],
   "source": [
    "name = 'Nida Dinc'"
   ]
  },
  {
   "cell_type": "code",
   "execution_count": 73,
   "id": "a3abdc0c",
   "metadata": {},
   "outputs": [
    {
     "name": "stdout",
     "output_type": "stream",
     "text": [
      "Hello, Nida Dinc !\n"
     ]
    }
   ],
   "source": [
    "print('Hello,', name,'!')"
   ]
  },
  {
   "cell_type": "code",
   "execution_count": 74,
   "id": "7dc9f57f",
   "metadata": {},
   "outputs": [],
   "source": [
    "name = 'John Doe'"
   ]
  },
  {
   "cell_type": "code",
   "execution_count": 75,
   "id": "55c78852",
   "metadata": {},
   "outputs": [
    {
     "name": "stdout",
     "output_type": "stream",
     "text": [
      "Hello, John Doe !\n"
     ]
    }
   ],
   "source": [
    "print('Hello,', name,'!')"
   ]
  },
  {
   "cell_type": "markdown",
   "id": "6ba6ccd1",
   "metadata": {},
   "source": [
    "### Exercise 1.8: Type casting"
   ]
  },
  {
   "cell_type": "code",
   "execution_count": 76,
   "id": "fab73c04",
   "metadata": {},
   "outputs": [
    {
     "data": {
      "text/plain": [
       "123.0"
      ]
     },
     "execution_count": 76,
     "metadata": {},
     "output_type": "execute_result"
    }
   ],
   "source": [
    "float(123)"
   ]
  },
  {
   "cell_type": "markdown",
   "id": "f1290af1",
   "metadata": {},
   "source": [
    "It returns 123.0, it casts integer to float"
   ]
  },
  {
   "cell_type": "code",
   "execution_count": 78,
   "id": "d5eba94b",
   "metadata": {
    "scrolled": true
   },
   "outputs": [
    {
     "data": {
      "text/plain": [
       "123.0"
      ]
     },
     "execution_count": 78,
     "metadata": {},
     "output_type": "execute_result"
    }
   ],
   "source": [
    "float('123')"
   ]
  },
  {
   "cell_type": "markdown",
   "id": "8b419a51",
   "metadata": {},
   "source": [
    "It returns 123.0, it casts string to float"
   ]
  },
  {
   "cell_type": "code",
   "execution_count": 81,
   "id": "d0c36f82",
   "metadata": {
    "scrolled": true
   },
   "outputs": [
    {
     "data": {
      "text/plain": [
       "123.23"
      ]
     },
     "execution_count": 81,
     "metadata": {},
     "output_type": "execute_result"
    }
   ],
   "source": [
    "float('123.23')"
   ]
  },
  {
   "cell_type": "markdown",
   "id": "28b59540",
   "metadata": {},
   "source": [
    "It returns 123.23, it casts float to float"
   ]
  },
  {
   "cell_type": "code",
   "execution_count": 82,
   "id": "eb71eea0",
   "metadata": {
    "scrolled": false
   },
   "outputs": [
    {
     "data": {
      "text/plain": [
       "123"
      ]
     },
     "execution_count": 82,
     "metadata": {},
     "output_type": "execute_result"
    }
   ],
   "source": [
    "int(123.23)"
   ]
  },
  {
   "cell_type": "markdown",
   "id": "966ead85",
   "metadata": {},
   "source": [
    "It returns 123, it casts float to int"
   ]
  },
  {
   "cell_type": "code",
   "execution_count": 88,
   "id": "7b4009a3",
   "metadata": {
    "scrolled": true
   },
   "outputs": [
    {
     "ename": "ValueError",
     "evalue": "invalid literal for int() with base 10: '123.23'",
     "output_type": "error",
     "traceback": [
      "\u001b[0;31m---------------------------------------------------------------------------\u001b[0m",
      "\u001b[0;31mValueError\u001b[0m                                Traceback (most recent call last)",
      "Input \u001b[0;32mIn [88]\u001b[0m, in \u001b[0;36m<cell line: 1>\u001b[0;34m()\u001b[0m\n\u001b[0;32m----> 1\u001b[0m \u001b[38;5;28;43mint\u001b[39;49m\u001b[43m(\u001b[49m\u001b[38;5;124;43m'\u001b[39;49m\u001b[38;5;124;43m123.23\u001b[39;49m\u001b[38;5;124;43m'\u001b[39;49m\u001b[43m)\u001b[49m\n",
      "\u001b[0;31mValueError\u001b[0m: invalid literal for int() with base 10: '123.23'"
     ]
    }
   ],
   "source": [
    "int('123.23')"
   ]
  },
  {
   "cell_type": "markdown",
   "id": "9b49199f",
   "metadata": {},
   "source": [
    "It returns ValueError, it can not string to int because string looks like a float. If we give int('123'), it can cast string to int."
   ]
  },
  {
   "cell_type": "code",
   "execution_count": 89,
   "id": "b2641975",
   "metadata": {
    "scrolled": true
   },
   "outputs": [
    {
     "data": {
      "text/plain": [
       "123"
      ]
     },
     "execution_count": 89,
     "metadata": {},
     "output_type": "execute_result"
    }
   ],
   "source": [
    "int(float('123.23'))"
   ]
  },
  {
   "cell_type": "markdown",
   "id": "6c828750",
   "metadata": {},
   "source": [
    "It returns 123, it casts string to float and after it casts float to int."
   ]
  },
  {
   "cell_type": "code",
   "execution_count": 90,
   "id": "4d9320ad",
   "metadata": {
    "scrolled": true
   },
   "outputs": [
    {
     "data": {
      "text/plain": [
       "'12'"
      ]
     },
     "execution_count": 90,
     "metadata": {},
     "output_type": "execute_result"
    }
   ],
   "source": [
    "str(12)"
   ]
  },
  {
   "cell_type": "markdown",
   "id": "ac849f5a",
   "metadata": {},
   "source": [
    "It returns '12', it casts int to string"
   ]
  },
  {
   "cell_type": "code",
   "execution_count": 91,
   "id": "115b5209",
   "metadata": {
    "scrolled": true
   },
   "outputs": [
    {
     "data": {
      "text/plain": [
       "'12.2'"
      ]
     },
     "execution_count": 91,
     "metadata": {},
     "output_type": "execute_result"
    }
   ],
   "source": [
    "str(12.2)"
   ]
  },
  {
   "cell_type": "markdown",
   "id": "4de415eb",
   "metadata": {},
   "source": [
    "It returns '12.2', it casts float to string"
   ]
  },
  {
   "cell_type": "code",
   "execution_count": 98,
   "id": "75c34b06",
   "metadata": {
    "scrolled": true
   },
   "outputs": [
    {
     "data": {
      "text/plain": [
       "True"
      ]
     },
     "execution_count": 98,
     "metadata": {},
     "output_type": "execute_result"
    }
   ],
   "source": [
    "bool('a')"
   ]
  },
  {
   "cell_type": "markdown",
   "id": "e7ffff61",
   "metadata": {},
   "source": [
    "It returns true.Because a string is truthy, if it is non-empty. Only empty strings convert to False."
   ]
  },
  {
   "cell_type": "code",
   "execution_count": 95,
   "id": "720c32e9",
   "metadata": {
    "scrolled": true
   },
   "outputs": [
    {
     "data": {
      "text/plain": [
       "False"
      ]
     },
     "execution_count": 95,
     "metadata": {},
     "output_type": "execute_result"
    }
   ],
   "source": [
    "bool(0)"
   ]
  },
  {
   "cell_type": "markdown",
   "id": "ff24cf79",
   "metadata": {},
   "source": [
    "It returns false, because 0 equals false in binary"
   ]
  },
  {
   "cell_type": "code",
   "execution_count": 96,
   "id": "473c6e75",
   "metadata": {
    "scrolled": true
   },
   "outputs": [
    {
     "data": {
      "text/plain": [
       "True"
      ]
     },
     "execution_count": 96,
     "metadata": {},
     "output_type": "execute_result"
    }
   ],
   "source": [
    "bool(0.1)"
   ]
  },
  {
   "cell_type": "markdown",
   "id": "ab359d8d",
   "metadata": {},
   "source": [
    "It returns true, because 0.1 is not equal to 0 thus, is not false."
   ]
  },
  {
   "cell_type": "markdown",
   "id": "43ba8625",
   "metadata": {},
   "source": [
    "## 2. Control flow"
   ]
  },
  {
   "cell_type": "markdown",
   "id": "43ecbecd",
   "metadata": {},
   "source": [
    "### Exercise 2.1: Range"
   ]
  },
  {
   "cell_type": "code",
   "execution_count": 1,
   "id": "85d3a3a2",
   "metadata": {},
   "outputs": [
    {
     "data": {
      "text/plain": [
       "range(0, 5)"
      ]
     },
     "execution_count": 1,
     "metadata": {},
     "output_type": "execute_result"
    }
   ],
   "source": [
    "range(5)"
   ]
  },
  {
   "cell_type": "code",
   "execution_count": 11,
   "id": "09ace09c",
   "metadata": {},
   "outputs": [
    {
     "name": "stdout",
     "output_type": "stream",
     "text": [
      "\n",
      "\n",
      "\n",
      "\n",
      "\n"
     ]
    }
   ],
   "source": [
    "for i in range(5):\n",
    "    print()"
   ]
  },
  {
   "cell_type": "code",
   "execution_count": 4,
   "id": "b3a12bee",
   "metadata": {},
   "outputs": [
    {
     "data": {
      "text/plain": [
       "range"
      ]
     },
     "execution_count": 4,
     "metadata": {},
     "output_type": "execute_result"
    }
   ],
   "source": [
    "type(range(5))"
   ]
  },
  {
   "cell_type": "markdown",
   "id": "d7208139",
   "metadata": {},
   "source": [
    "### Exercise 2.2: For loops"
   ]
  },
  {
   "cell_type": "markdown",
   "id": "40b62bf3",
   "metadata": {},
   "source": [
    "- (a) Print the numbers 0 to 100"
   ]
  },
  {
   "cell_type": "code",
   "execution_count": 9,
   "id": "cb51617f",
   "metadata": {},
   "outputs": [
    {
     "name": "stdout",
     "output_type": "stream",
     "text": [
      "0\n",
      "1\n",
      "2\n",
      "3\n",
      "4\n",
      "5\n",
      "6\n",
      "7\n",
      "8\n",
      "9\n",
      "10\n",
      "11\n",
      "12\n",
      "13\n",
      "14\n",
      "15\n",
      "16\n",
      "17\n",
      "18\n",
      "19\n",
      "20\n",
      "21\n",
      "22\n",
      "23\n",
      "24\n",
      "25\n",
      "26\n",
      "27\n",
      "28\n",
      "29\n",
      "30\n",
      "31\n",
      "32\n",
      "33\n",
      "34\n",
      "35\n",
      "36\n",
      "37\n",
      "38\n",
      "39\n",
      "40\n",
      "41\n",
      "42\n",
      "43\n",
      "44\n",
      "45\n",
      "46\n",
      "47\n",
      "48\n",
      "49\n",
      "50\n",
      "51\n",
      "52\n",
      "53\n",
      "54\n",
      "55\n",
      "56\n",
      "57\n",
      "58\n",
      "59\n",
      "60\n",
      "61\n",
      "62\n",
      "63\n",
      "64\n",
      "65\n",
      "66\n",
      "67\n",
      "68\n",
      "69\n",
      "70\n",
      "71\n",
      "72\n",
      "73\n",
      "74\n",
      "75\n",
      "76\n",
      "77\n",
      "78\n",
      "79\n",
      "80\n",
      "81\n",
      "82\n",
      "83\n",
      "84\n",
      "85\n",
      "86\n",
      "87\n",
      "88\n",
      "89\n",
      "90\n",
      "91\n",
      "92\n",
      "93\n",
      "94\n",
      "95\n",
      "96\n",
      "97\n",
      "98\n",
      "99\n"
     ]
    }
   ],
   "source": [
    "for i in range(100):\n",
    "    print(i)"
   ]
  },
  {
   "cell_type": "markdown",
   "id": "383ef26f",
   "metadata": {},
   "source": [
    "- (b) Print the numbers 0 to 100 that are divisible by 7"
   ]
  },
  {
   "cell_type": "code",
   "execution_count": 12,
   "id": "43e65367",
   "metadata": {},
   "outputs": [
    {
     "name": "stdout",
     "output_type": "stream",
     "text": [
      "0\n",
      "7\n",
      "14\n",
      "21\n",
      "28\n",
      "35\n",
      "42\n",
      "49\n",
      "56\n",
      "63\n",
      "70\n",
      "77\n",
      "84\n",
      "91\n",
      "98\n"
     ]
    }
   ],
   "source": [
    "for i in range(100):\n",
    "    if i % 7 == 0:\n",
    "        print(i)"
   ]
  },
  {
   "cell_type": "markdown",
   "id": "4ad63504",
   "metadata": {},
   "source": [
    "- (c) Print the numbers 1 to 100 that are divisible by 5 but not by 3"
   ]
  },
  {
   "cell_type": "code",
   "execution_count": 25,
   "id": "4621743b",
   "metadata": {},
   "outputs": [
    {
     "name": "stdout",
     "output_type": "stream",
     "text": [
      "5\n",
      "10\n",
      "20\n",
      "25\n",
      "35\n",
      "40\n",
      "50\n",
      "55\n",
      "65\n",
      "70\n",
      "80\n",
      "85\n",
      "95\n"
     ]
    }
   ],
   "source": [
    "for i in range(1,100):\n",
    "    if i % 5 == 0 and i % 3 != 0:\n",
    "            print(i)"
   ]
  },
  {
   "cell_type": "markdown",
   "id": "2ff9dacd",
   "metadata": {},
   "source": [
    "- (d) Print for each of the numbers x = 2, . . . 20, all numbers that divide x, excluding 1 and x. Hence, for 18, it should print 2 3 6 9."
   ]
  },
  {
   "cell_type": "code",
   "execution_count": 29,
   "id": "60c37134",
   "metadata": {},
   "outputs": [
    {
     "name": "stdout",
     "output_type": "stream",
     "text": [
      "2\n",
      "3\n",
      "6\n",
      "9\n"
     ]
    }
   ],
   "source": [
    "x = 18\n",
    "for i in range(1,x):\n",
    "    if x % i == 0 and i != 1:\n",
    "            print(i)"
   ]
  },
  {
   "cell_type": "markdown",
   "id": "6a25ea3d",
   "metadata": {},
   "source": [
    "### Exercise 2.3: Simple while loops"
   ]
  },
  {
   "cell_type": "markdown",
   "id": "cac998c4",
   "metadata": {},
   "source": [
    "- (a) Print the numbers 0 to 100"
   ]
  },
  {
   "cell_type": "code",
   "execution_count": 33,
   "id": "83c43601",
   "metadata": {},
   "outputs": [
    {
     "name": "stdout",
     "output_type": "stream",
     "text": [
      "0\n",
      "1\n",
      "2\n",
      "3\n",
      "4\n",
      "5\n",
      "6\n",
      "7\n",
      "8\n",
      "9\n",
      "10\n",
      "11\n",
      "12\n",
      "13\n",
      "14\n",
      "15\n",
      "16\n",
      "17\n",
      "18\n",
      "19\n",
      "20\n",
      "21\n",
      "22\n",
      "23\n",
      "24\n",
      "25\n",
      "26\n",
      "27\n",
      "28\n",
      "29\n",
      "30\n",
      "31\n",
      "32\n",
      "33\n",
      "34\n",
      "35\n",
      "36\n",
      "37\n",
      "38\n",
      "39\n",
      "40\n",
      "41\n",
      "42\n",
      "43\n",
      "44\n",
      "45\n",
      "46\n",
      "47\n",
      "48\n",
      "49\n",
      "50\n",
      "51\n",
      "52\n",
      "53\n",
      "54\n",
      "55\n",
      "56\n",
      "57\n",
      "58\n",
      "59\n",
      "60\n",
      "61\n",
      "62\n",
      "63\n",
      "64\n",
      "65\n",
      "66\n",
      "67\n",
      "68\n",
      "69\n",
      "70\n",
      "71\n",
      "72\n",
      "73\n",
      "74\n",
      "75\n",
      "76\n",
      "77\n",
      "78\n",
      "79\n",
      "80\n",
      "81\n",
      "82\n",
      "83\n",
      "84\n",
      "85\n",
      "86\n",
      "87\n",
      "88\n",
      "89\n",
      "90\n",
      "91\n",
      "92\n",
      "93\n",
      "94\n",
      "95\n",
      "96\n",
      "97\n",
      "98\n",
      "99\n"
     ]
    }
   ],
   "source": [
    "i = 0\n",
    "while i < 100:\n",
    "    print(i)\n",
    "    i+=1"
   ]
  },
  {
   "cell_type": "markdown",
   "id": "b0ba7c8b",
   "metadata": {},
   "source": [
    "- (b) Print the numbers 0 to 100 that are divisible by 7"
   ]
  },
  {
   "cell_type": "code",
   "execution_count": 36,
   "id": "53bf3df1",
   "metadata": {},
   "outputs": [
    {
     "name": "stdout",
     "output_type": "stream",
     "text": [
      "0\n",
      "7\n",
      "14\n",
      "21\n",
      "28\n",
      "35\n",
      "42\n",
      "49\n",
      "56\n",
      "63\n",
      "70\n",
      "77\n",
      "84\n",
      "91\n",
      "98\n"
     ]
    }
   ],
   "source": [
    "i = 0 \n",
    "while i <100:\n",
    "    if i % 7 == 0:\n",
    "        print(i)\n",
    "    i += 1"
   ]
  },
  {
   "cell_type": "markdown",
   "id": "7a58b1c8",
   "metadata": {},
   "source": [
    "### Exercise 2.5: While Loops"
   ]
  },
  {
   "cell_type": "markdown",
   "id": "349a526c",
   "metadata": {},
   "source": [
    "- Use a while loop to find the first 20 numbers that are divisible by 5, 7 and 11, and print them Hint: store the number found so far in a variable."
   ]
  },
  {
   "cell_type": "code",
   "execution_count": 38,
   "id": "fe0eba78",
   "metadata": {},
   "outputs": [
    {
     "name": "stdout",
     "output_type": "stream",
     "text": [
      "0\n",
      "385\n",
      "770\n",
      "1155\n",
      "1540\n",
      "1925\n",
      "2310\n",
      "2695\n",
      "3080\n",
      "3465\n",
      "3850\n",
      "4235\n",
      "4620\n",
      "5005\n",
      "5390\n",
      "5775\n",
      "6160\n",
      "6545\n",
      "6930\n",
      "7315\n"
     ]
    }
   ],
   "source": [
    "counter = 0 \n",
    "x = 0\n",
    "while counter < 20:\n",
    "    if x % 5 == 0 and x % 7 == 0 and x % 11 == 0:\n",
    "        print(x)\n",
    "        counter += 1\n",
    "    x += 1"
   ]
  },
  {
   "cell_type": "markdown",
   "id": "50a1e26e",
   "metadata": {},
   "source": [
    "### Exercise 2.6: More while loops"
   ]
  },
  {
   "cell_type": "markdown",
   "id": "20fec0cf",
   "metadata": {},
   "source": [
    "- The smallest number that is divisible by 2, 3 and 4 is 12. Find the smallest number that is divisible by all integers between 1 and 10."
   ]
  },
  {
   "cell_type": "code",
   "execution_count": 59,
   "id": "a98d2c55",
   "metadata": {
    "scrolled": true
   },
   "outputs": [
    {
     "name": "stdout",
     "output_type": "stream",
     "text": [
      "362880\n"
     ]
    }
   ],
   "source": [
    "x = 1\n",
    "while 1:\n",
    "    if x % (1*2*3*4*5*6*7*8*9) == 0:\n",
    "        print(x)\n",
    "        break\n",
    "    x += 1"
   ]
  },
  {
   "cell_type": "markdown",
   "id": "c7c21b1a",
   "metadata": {},
   "source": [
    "### Exercise 2.7: Collatz sequence"
   ]
  },
  {
   "cell_type": "markdown",
   "id": "ec329cdf",
   "metadata": {},
   "source": [
    "- Print the Collatz sequence starting at x0 = 103."
   ]
  },
  {
   "cell_type": "code",
   "execution_count": 68,
   "id": "e9e2be09",
   "metadata": {},
   "outputs": [
    {
     "name": "stdout",
     "output_type": "stream",
     "text": [
      "310 155 466 233 700 350 175 526 263 790 395 1186 593 1780 890 445 1336 668 334 167 502 251 754 377 1132 566 283 850 425 1276 638 319 958 479 1438 719 2158 1079 3238 1619 4858 2429 7288 3644 1822 911 2734 1367 4102 2051 6154 3077 9232 4616 2308 1154 577 1732 866 433 1300 650 325 976 488 244 122 61 184 92 46 23 70 35 106 53 160 80 40 20 10 5 16 8 4 2 1 "
     ]
    }
   ],
   "source": [
    "x = 103\n",
    "while x != 1:\n",
    "    if x % 2 == 0:\n",
    "        x = x/2\n",
    "    else:\n",
    "        x = 3*x+1\n",
    "    print(int(x), end=\" \")\n",
    "    "
   ]
  },
  {
   "cell_type": "markdown",
   "id": "0b5a27f0",
   "metadata": {},
   "source": [
    "## 3. Functions"
   ]
  },
  {
   "cell_type": "markdown",
   "id": "6fdd4966",
   "metadata": {},
   "source": [
    "### Exercise 3.1: Hello"
   ]
  },
  {
   "cell_type": "markdown",
   "id": "9740e1f2",
   "metadata": {},
   "source": [
    "- (a) Write a function hello_world that prints ’Hello, world!’"
   ]
  },
  {
   "cell_type": "code",
   "execution_count": 77,
   "id": "ffcb4b9e",
   "metadata": {},
   "outputs": [
    {
     "name": "stdout",
     "output_type": "stream",
     "text": [
      "Hello, world!\n"
     ]
    }
   ],
   "source": [
    "def hello():\n",
    "  print(\"Hello, world!\")\n",
    "\n",
    "hello()"
   ]
  },
  {
   "cell_type": "markdown",
   "id": "ee338e65",
   "metadata": {},
   "source": [
    "- (b) Write a function hello_name(name) that prints ’Hello, name!’ where name is a string."
   ]
  },
  {
   "cell_type": "code",
   "execution_count": 79,
   "id": "87e3f434",
   "metadata": {},
   "outputs": [
    {
     "name": "stdout",
     "output_type": "stream",
     "text": [
      "Hello, Nida !\n"
     ]
    }
   ],
   "source": [
    "def hello(name):\n",
    "  print(\"Hello,\", name, \"!\")\n",
    "\n",
    "hello(\"Nida\")"
   ]
  },
  {
   "cell_type": "markdown",
   "id": "b1007673",
   "metadata": {},
   "source": [
    "- (c) Explain the difference between the print and return keywords. What would change if instead of print you would use return?"
   ]
  },
  {
   "cell_type": "markdown",
   "id": "0bf6629c",
   "metadata": {},
   "source": [
    "Print keyword prints to screen but return keyword returns something. So, we can use print in everywhere, but we can not use return in everywhere. We can only use it in functions. If I change print to return statement, Its not necessary to call function into print like print(hello(\"Nida\")) in like these interpreters."
   ]
  },
  {
   "cell_type": "markdown",
   "id": "444a73d9",
   "metadata": {},
   "source": [
    "### Exercise 3.2: Polynomial"
   ]
  },
  {
   "cell_type": "markdown",
   "id": "3b764f96",
   "metadata": {},
   "source": [
    "- Write a function that evaluates the polynomial 3x2 − x + 2."
   ]
  },
  {
   "cell_type": "code",
   "execution_count": 85,
   "id": "0c297f77",
   "metadata": {},
   "outputs": [
    {
     "data": {
      "text/plain": [
       "26"
      ]
     },
     "execution_count": 85,
     "metadata": {},
     "output_type": "execute_result"
    }
   ],
   "source": [
    "def polynomial(x):\n",
    "    return 3*x **2 - x + 2\n",
    "\n",
    "polynomial(3)"
   ]
  },
  {
   "cell_type": "markdown",
   "id": "ab671f4e",
   "metadata": {},
   "source": [
    "### Exercise 3.3: Maximum"
   ]
  },
  {
   "cell_type": "code",
   "execution_count": 90,
   "id": "3cb1d3b4",
   "metadata": {},
   "outputs": [
    {
     "data": {
      "text/plain": [
       "39"
      ]
     },
     "execution_count": 90,
     "metadata": {},
     "output_type": "execute_result"
    }
   ],
   "source": [
    "def my_max(x,y):\n",
    "    if x > y:\n",
    "        return x\n",
    "    return y\n",
    "\n",
    "my_max(39,5)"
   ]
  },
  {
   "cell_type": "markdown",
   "id": "6ac1e859",
   "metadata": {},
   "source": [
    "### Exercise 3.4: Primes"
   ]
  },
  {
   "cell_type": "markdown",
   "id": "27ceba9c",
   "metadata": {},
   "source": [
    "- (a) Write a function is_prime(n) that returns True only if n is prime."
   ]
  },
  {
   "cell_type": "code",
   "execution_count": 159,
   "id": "d9d8d7c6",
   "metadata": {},
   "outputs": [
    {
     "data": {
      "text/plain": [
       "True"
      ]
     },
     "execution_count": 159,
     "metadata": {},
     "output_type": "execute_result"
    }
   ],
   "source": [
    "from math import sqrt\n",
    "\n",
    "def is_prime(num):\n",
    "     if num > 1:\n",
    "        for i in range(2, num):\n",
    "            if (num % i) == 0:\n",
    "                return False\n",
    "        else:\n",
    "            return True\n",
    "        num += 1\n",
    "        \n",
    "is_prime(29)"
   ]
  },
  {
   "cell_type": "markdown",
   "id": "1f504d97",
   "metadata": {},
   "source": [
    "- (b) Note that apart from 2 and 3, all primes are of the form 6k ± 1 (though not all numbers of the form 6k ± 1 are prime of course). Using this, we can improve the computation time by a factor 3. Update your function to use this.\n"
   ]
  },
  {
   "cell_type": "code",
   "execution_count": 130,
   "id": "d0daf2ff",
   "metadata": {},
   "outputs": [
    {
     "data": {
      "text/plain": [
       "True"
      ]
     },
     "execution_count": 130,
     "metadata": {},
     "output_type": "execute_result"
    }
   ],
   "source": [
    "def is_prime(n):\n",
    "    if (n <= 1):\n",
    "        return False\n",
    " \n",
    "    if ((n - 1) % 6 == 0) or ((n + 1) % 6 == 0) or n == 2 or n == 3  :\n",
    "        return True\n",
    "    \n",
    "    return False\n",
    "\n",
    "is_prime(41)"
   ]
  },
  {
   "cell_type": "markdown",
   "id": "112f9748",
   "metadata": {},
   "source": [
    "- (c) Write a function that returns all primes up to n."
   ]
  },
  {
   "cell_type": "code",
   "execution_count": 146,
   "id": "9b5839c6",
   "metadata": {},
   "outputs": [
    {
     "name": "stdout",
     "output_type": "stream",
     "text": [
      "2\n",
      "3\n",
      "5\n",
      "7\n",
      "11\n",
      "13\n",
      "17\n",
      "19\n",
      "23\n",
      "29\n",
      "31\n",
      "37\n",
      "41\n",
      "43\n",
      "47\n",
      "53\n",
      "59\n",
      "61\n",
      "67\n",
      "71\n",
      "73\n",
      "79\n",
      "83\n",
      "89\n",
      "97\n",
      "101\n",
      "103\n",
      "107\n",
      "109\n",
      "113\n"
     ]
    }
   ],
   "source": [
    "def all_primes(n):\n",
    "    num = 1\n",
    "    while num < n:\n",
    "        if num > 1:\n",
    "            for i in range(2, num):\n",
    "                if (num % i) == 0:\n",
    "                    break\n",
    "            else:\n",
    "                print(num) \n",
    "        num += 1\n",
    "all_primes(124)"
   ]
  },
  {
   "cell_type": "markdown",
   "id": "2c80b897",
   "metadata": {},
   "source": [
    "- (d) Write a function that returns the first n primes."
   ]
  },
  {
   "cell_type": "code",
   "execution_count": 164,
   "id": "1e4f72d9",
   "metadata": {},
   "outputs": [
    {
     "name": "stdout",
     "output_type": "stream",
     "text": [
      "2\n",
      "3\n",
      "5\n",
      "7\n",
      "11\n",
      "13\n"
     ]
    }
   ],
   "source": [
    "def all_primes(n):\n",
    "    num = 1\n",
    "    count = 0\n",
    "    while count < n:\n",
    "        if num > 1:\n",
    "            for i in range(2, num):\n",
    "                if (num % i) == 0:\n",
    "                    break\n",
    "            else:\n",
    "                print(num) \n",
    "                count += 1\n",
    "        num += 1\n",
    "        \n",
    "all_primes(6)"
   ]
  },
  {
   "cell_type": "markdown",
   "id": "48670c90",
   "metadata": {},
   "source": [
    "### Exercise 3.5: Root finding"
   ]
  },
  {
   "cell_type": "markdown",
   "id": "4f7be797",
   "metadata": {},
   "source": [
    "Suppose f is a continuous function and f(a) < 0 and f(b) > 0 for some known a and b. For simplicity, assume a < b. Then, there must exist some c such that f(c) = 0.\n",
    "- (a) Write a function root(f, a, b) that takes a function f and two floats a and b and returns the root c. Hint: check the sign at the midpoint of the interval."
   ]
  },
  {
   "cell_type": "code",
   "execution_count": null,
   "id": "cfa514b4",
   "metadata": {},
   "outputs": [],
   "source": [
    "def root(f,a,b):\n",
    "    d = (b**2) - (4*a*c)\n",
    "        if d < 0:\n",
    "            return []\n",
    "\n",
    "        if d > 0:\n",
    "            square_root_d = math.sqrt(d)\n",
    "            t1 = (-b + square_root_d) / (2 * a)\n",
    "            t2 = (-b - square_root_d) / (2 * a)\n",
    "            if t1 > 0:\n",
    "                if t2 > 0:\n",
    "                    if t1 < t2:\n",
    "                        return [t1, t2]\n",
    "                    return [t2, t1]\n",
    "                return [t1]\n",
    "            elif t2 > 0:\n",
    "                return [t2]\n",
    "            else:\n",
    "                return []\n",
    "        else:\n",
    "            t = -b / (2*a)\n",
    "            if t > 0:\n",
    "                return [t]\n",
    "            return []"
   ]
  }
 ],
 "metadata": {
  "kernelspec": {
   "display_name": "Python 3 (ipykernel)",
   "language": "python",
   "name": "python3"
  },
  "language_info": {
   "codemirror_mode": {
    "name": "ipython",
    "version": 3
   },
   "file_extension": ".py",
   "mimetype": "text/x-python",
   "name": "python",
   "nbconvert_exporter": "python",
   "pygments_lexer": "ipython3",
   "version": "3.8.6"
  }
 },
 "nbformat": 4,
 "nbformat_minor": 5
}
