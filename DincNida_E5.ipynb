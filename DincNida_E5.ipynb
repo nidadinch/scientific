{
 "cells": [
  {
   "cell_type": "markdown",
   "id": "caaa0908",
   "metadata": {},
   "source": [
    "## Exercise 9.5: Singular values\n",
    "\n",
    "- Generate an n × n matrix, denoted by C, where each entry is 1 with probability p and 0 otherwise. Use the linear algebra library of Scipy to compute the singular values of C. What can you say about the relationship between n, p and the largest singular value?"
   ]
  },
  {
   "cell_type": "code",
   "execution_count": 72,
   "id": "557dc6df",
   "metadata": {},
   "outputs": [
    {
     "name": "stdout",
     "output_type": "stream",
     "text": [
      "400.4035265101526\n"
     ]
    }
   ],
   "source": [
    "import numpy as np\n",
    "\n",
    "n = 666\n",
    "C = np.random.rand(n,n)\n",
    "p = 0.6\n",
    "C = (C < p) * 1.0\n",
    "largest_singular = np.linalg.norm(C, 2)\n",
    "print(largest_singular)"
   ]
  },
  {
   "cell_type": "markdown",
   "id": "e56f1604",
   "metadata": {},
   "source": [
    "- We can see that n * p is approximately equal largest singular value."
   ]
  },
  {
   "cell_type": "markdown",
   "id": "1f4fcb2b",
   "metadata": {},
   "source": [
    "# 10. Scipy\n",
    "\n",
    "## Exercise 10.1: Least squares\n",
    "\n",
    "- Generate matrix A ∈ Rm×n with m > n. Also generate some vector b ∈ Rm. Now find x = arg minx ∥Ax − b∥2. Print the norm of the residual."
   ]
  },
  {
   "cell_type": "code",
   "execution_count": 71,
   "id": "af4bd5ed",
   "metadata": {},
   "outputs": [],
   "source": [
    "from scipy.linalg import lstsq"
   ]
  },
  {
   "cell_type": "code",
   "execution_count": 9,
   "id": "79ba6179",
   "metadata": {},
   "outputs": [
    {
     "name": "stdout",
     "output_type": "stream",
     "text": [
      "residues =  [0.39780865]\n"
     ]
    }
   ],
   "source": [
    "m = 5\n",
    "n = 3\n",
    "\n",
    "A = np.random.rand(m, n)\n",
    "B = np.random.rand(m, 1)\n",
    "\n",
    "X, residues, rank, s = lstsq(A, B)\n",
    "print(\"residues = \", residues)"
   ]
  },
  {
   "cell_type": "markdown",
   "id": "93ef4a90",
   "metadata": {},
   "source": [
    "## Exercise 10.2: Optimization\n",
    "\n",
    "- Find the maximum of the function\n",
    "- f(x) = sin2(x − 2)e−x2"
   ]
  },
  {
   "cell_type": "code",
   "execution_count": 18,
   "id": "f09923d1",
   "metadata": {},
   "outputs": [
    {
     "name": "stdout",
     "output_type": "stream",
     "text": [
      "Optimization terminated successfully.\n",
      "         Current function value: -0.911685\n",
      "         Iterations: 20\n",
      "         Function evaluations: 40\n",
      "[0.21625]\n"
     ]
    }
   ],
   "source": [
    "from scipy.optimize import fmin\n",
    "import numpy as np\n",
    "\n",
    "def f(x): \n",
    "    y = ((np.sin(x-2)) ** 2) * np.exp(-x ** 2)\n",
    "    return y\n",
    "\n",
    "max_value = fmin(lambda x: -f(x), 0)\n",
    "print(max_value)"
   ]
  },
  {
   "cell_type": "markdown",
   "id": "e5a24c51",
   "metadata": {},
   "source": [
    "## Exercise 10.3: Pairwise distances\n",
    "\n",
    "- Let X be a matrix with n rows and m columns. How can you compute the pairwise distances between every two rows?\n",
    "- As an example application, consider n cities, and we are given their coordinates in two columns. Now we want a nice table that tells us for each two cities, how far they are apart.\n",
    "- Again, make sure you make use of Scipy’s functionality instead of writing your own routine.\n"
   ]
  },
  {
   "cell_type": "markdown",
   "id": "46c309be",
   "metadata": {},
   "source": [
    "#### Answer\n",
    "\n",
    "- I can compute pairwise distances between every two rows by Euclidian Distance. The idea is that we first calculate the H(x) histogram of our M integers; where H(x) is the number of times the value x appears in our input (if all M is different it will be 0 or 1 - but this is not necessary).\n",
    "\n",
    "- Then what we want to calculate is A(d), where A(d) is defined as the number of pairs of integers spaced exactly d.\n",
    "\n",
    "- This can be calculated as A(d) = sum(H(x)*H(x+d) for all x)\n",
    "\n",
    "- This type of function is called a convolution and can be computed efficiently by taking the Fourier transform, multiplying the output with itself, and then calculating the inverse transform.\n",
    "\n",
    "With Scipy: scipy.signal.fftconvolve"
   ]
  },
  {
   "cell_type": "markdown",
   "id": "a4fcd371",
   "metadata": {},
   "source": [
    "# 11. Matplotlib\n",
    "\n",
    "## Exercise 11.1: Plotting a function\n",
    "\n",
    "- Plot the function over the interval [0, 2]. Add proper axis labels, a title, etc.\n",
    "- f(x) = sin2(x − 2)e−x2"
   ]
  },
  {
   "cell_type": "code",
   "execution_count": 20,
   "id": "8c395540",
   "metadata": {},
   "outputs": [
    {
     "data": {
      "image/png": "[encoded data removed]",
      "text/plain": [
       "<Figure size 432x288 with 1 Axes>"
      ]
     },
     "metadata": {
      "needs_background": "light"
     },
     "output_type": "display_data"
    }
   ],
   "source": [
    "import matplotlib.pyplot as plt\n",
    "\n",
    "x_values = np.arange(0, 2, 0.00001, dtype = float)\n",
    "plt.plot(x_values, f(x_values), 'r-')\n",
    "plt.xlabel(\"X-Axis\")\n",
    "plt.ylabel(\"Y-Axis\")\n",
    "plt.title(\"sin^2(x-2)e^(-(x^2))\")\n",
    "plt.show()"
   ]
  },
  {
   "cell_type": "markdown",
   "id": "6cacaeef",
   "metadata": {},
   "source": [
    "## Exercise 11.2: Data\n",
    "\n",
    "- Create a data matrix X with 20 observations of 10 variables. Generate a vector b with parameters Then generate the response vector y = Xb+z where z is a vector with standard normally distributed variables. Now (by only using y and X), find an estimator for b, by solving ˆb = arg min ∥Xb − y∥2 b\n",
    "\n",
    "- Plot the true parameters b and estimated parameters ˆb. See Figure 1 for an example plot.\n"
   ]
  },
  {
   "cell_type": "code",
   "execution_count": 24,
   "id": "f0e2f870",
   "metadata": {},
   "outputs": [
    {
     "name": "stdout",
     "output_type": "stream",
     "text": [
      "(20, 1)\n",
      "Optimization terminated successfully.\n",
      "         Current function value: 19.297419\n",
      "         Iterations: 174\n",
      "         Function evaluations: 306\n"
     ]
    },
    {
     "data": {
      "image/png": "[encoded data removed]",
      "text/plain": [
       "<Figure size 432x288 with 1 Axes>"
      ]
     },
     "metadata": {
      "needs_background": "light"
     },
     "output_type": "display_data"
    }
   ],
   "source": [
    "X = np.random.rand(20,10)\n",
    "b = np.random.rand(10,1)\n",
    "z = np.random.randn(20,1)\n",
    "y = X.dot(b) + z\n",
    "print(y.shape)\n",
    "\n",
    "def f(x):\n",
    "    return np.linalg.norm(X.dot(x) - y, 2)\n",
    "\n",
    "x0 = np.random.rand(10,1)\n",
    "\n",
    "B_optim = fmin(lambda x: f(x), x0)\n",
    "\n",
    "line_up, = plt.plot(range(len(b)), b, 'rx')\n",
    "line_down, = plt.plot(range(len(b)), B_optim, 'bo')\n",
    "\n",
    "plt.xlabel('index')\n",
    "plt.ylabel('value')\n",
    "\n",
    "plt.legend([line_up, line_down], ['True Coefficients', 'Estimated Coefficients'])\n",
    "plt.show()"
   ]
  },
  {
   "cell_type": "markdown",
   "id": "7b65827e",
   "metadata": {},
   "source": [
    "## Exercise 11.3: Histogram and density estimation\n",
    "\n",
    "- Generate a vector z of 10000 observations from your favorite exotic distribution. Then make a plot that shows a histogram of z (with 25 bins), along with an estimate for the density, using a Gaussian kernel density estimator (see scipy.stats). See Figure 2 for an example plot"
   ]
  },
  {
   "cell_type": "code",
   "execution_count": 70,
   "id": "93b343ab",
   "metadata": {},
   "outputs": [
    {
     "data": {
      "image/png": "[encoded data removed]",
      "text/plain": [
       "<Figure size 432x288 with 1 Axes>"
      ]
     },
     "metadata": {
      "needs_background": "light"
     },
     "output_type": "display_data"
    }
   ],
   "source": [
    "num_samples = 10000\n",
    "xmin, xmax = -10, 8\n",
    "\n",
    "gaussian_weights = np.array([2, 1], dtype=np.float)\n",
    "gaussian_weights /= np.sum(gaussian_weights)\n",
    "\n",
    "gaussian_means = np.array([-1, 1])\n",
    "gaussian_std = np.array([2, 1])\n",
    "\n",
    "gaussian_observation = np.array([1, .5])\n",
    "\n",
    "gaussian_samples = np.random.multinomial(num_samples, gaussian_weights)\n",
    "samples = []\n",
    "weights = []\n",
    "\n",
    "for n, m, s, o in zip(gaussian_samples, gaussian_means, gaussian_std, gaussian_observation):\n",
    "    _samples = np.random.normal(m, s, n)\n",
    "    _samples = _samples[o > np.random.uniform(size=n)]\n",
    "    samples.extend(_samples)\n",
    "    weights.extend(np.ones_like(_samples) / o)\n",
    "\n",
    "weights = np.array(weights, np.float)\n",
    "weights /= np.sum(weights)\n",
    "samples = np.array(samples)\n",
    "\n",
    "# Plot histogram\n",
    "plt.hist(samples, bins, (xmin, xmax), histtype='stepfilled', \n",
    "        label='histogram', weights=weights)\n",
    "\n",
    "# Generate KDE\n",
    "pdf = gaussian_kde(samples)\n",
    "y = pdf(x)\n",
    "plt.plot(x, y, label='kde')\n",
    "\n",
    "plt.legend(loc='best', frameon=False)\n",
    "plt.tight_layout()\n",
    "plt.show()"
   ]
  }
 ],
 "metadata": {
  "kernelspec": {
   "display_name": "Python 3 (ipykernel)",
   "language": "python",
   "name": "python3"
  },
  "language_info": {
   "codemirror_mode": {
    "name": "ipython",
    "version": 3
   },
   "file_extension": ".py",
   "mimetype": "text/x-python",
   "name": "python",
   "nbconvert_exporter": "python",
   "pygments_lexer": "ipython3",
   "version": "3.8.6"
  }
 },
 "nbformat": 4,
 "nbformat_minor": 5
}
