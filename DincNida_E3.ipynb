{
 "cells": [
  {
   "cell_type": "markdown",
   "id": "87c1e1a5",
   "metadata": {},
   "source": [
    "## 7. File I/O"
   ]
  },
  {
   "cell_type": "markdown",
   "id": "8f9d6f96",
   "metadata": {},
   "source": [
    "### Exercise 7.1: Open a file"
   ]
  },
  {
   "cell_type": "markdown",
   "id": "c15a9b12",
   "metadata": {},
   "source": [
    "Write a function that opens a file (input: filename), and prints the file line by line."
   ]
  },
  {
   "cell_type": "code",
   "execution_count": 4,
   "id": "dd6b2f6a",
   "metadata": {},
   "outputs": [],
   "source": [
    "def read_file(filename):\n",
    "    file = open(filename, 'r')\n",
    "    Lines = file.readlines()\n",
    "\n",
    "    count = 0\n",
    "\n",
    "    for line in Lines:\n",
    "        count += 1\n",
    "        print(\"Line{}: {}\".format(count, line.strip()))"
   ]
  },
  {
   "cell_type": "markdown",
   "id": "8ae79f3d",
   "metadata": {},
   "source": [
    "### Exercise 7.2: Wordcount"
   ]
  },
  {
   "cell_type": "markdown",
   "id": "d7b28a1d",
   "metadata": {},
   "source": [
    "On the course website you can find a text file containing the complete works of William Shapespeare. \n",
    "\n",
    "- (a) Find the 20 most common words\n"
   ]
  },
  {
   "cell_type": "code",
   "execution_count": 21,
   "id": "79936992",
   "metadata": {},
   "outputs": [
    {
     "name": "stdout",
     "output_type": "stream",
     "text": [
      "[('the', 23362), ('I', 19540), ('and', 18300), ('to', 15674), ('of', 15637), ('a', 12574), ('my', 10824), ('in', 9627), ('you', 9123), ('is', 7867), ('that', 7541), ('And', 7068), ('not', 6966), ('with', 6744), ('his', 6216), ('your', 6012), ('be', 6011), ('for', 5622), ('have', 5235), ('it', 4916)]\n"
     ]
    }
   ],
   "source": [
    "from collections import Counter\n",
    "\n",
    "file = open('shakespeare.txt', 'r')\n",
    "data = file.read().replace('\\n', '').split()\n",
    "\n",
    "Counter = Counter(data)\n",
    "  \n",
    "most_commons = Counter.most_common(20)\n",
    "  \n",
    "print(most_commons)"
   ]
  },
  {
   "cell_type": "markdown",
   "id": "97274975",
   "metadata": {},
   "source": [
    "- (b) How many unique words are used?"
   ]
  },
  {
   "cell_type": "code",
   "execution_count": 27,
   "id": "d58cb07a",
   "metadata": {},
   "outputs": [
    {
     "name": "stdout",
     "output_type": "stream",
     "text": [
      "Unique word count:  37495\n"
     ]
    }
   ],
   "source": [
    "unique = [w for w in data if Counter[w] == 1]\n",
    "\n",
    "print(\"Unique word count: \", len(unique))"
   ]
  },
  {
   "cell_type": "markdown",
   "id": "f74c593f",
   "metadata": {},
   "source": [
    "- (c) How many words are used at least 5 times?"
   ]
  },
  {
   "cell_type": "code",
   "execution_count": 30,
   "id": "5ed0ce3e",
   "metadata": {},
   "outputs": [
    {
     "name": "stdout",
     "output_type": "stream",
     "text": [
      "At least 5 times count:  814588\n"
     ]
    }
   ],
   "source": [
    "at_least_five = [w for w in data if Counter[w] >= 5]\n",
    "\n",
    "print(\"At least 5 times count: \", len(at_least_five))"
   ]
  },
  {
   "cell_type": "markdown",
   "id": "e8a20e42",
   "metadata": {},
   "source": [
    "- (d) Write the 200 most common words, and their counts, to a file."
   ]
  },
  {
   "cell_type": "code",
   "execution_count": 33,
   "id": "5844f913",
   "metadata": {},
   "outputs": [],
   "source": [
    "most_commons = Counter.most_common(200)\n",
    "count = len(most_commons)\n",
    "\n",
    "f = open(\"mostcommon200words.txt\", \"a\")\n",
    "f.write(str(count))\n",
    "f.write(str(most_commons))\n",
    "f.close()"
   ]
  },
  {
   "cell_type": "markdown",
   "id": "cb9897aa",
   "metadata": {},
   "source": [
    "### Exercise 7.4: Sum of lists"
   ]
  },
  {
   "cell_type": "markdown",
   "id": "6f5de294",
   "metadata": {},
   "source": [
    "#### (a) Data generation\n",
    "- Write a function that takes three integers, n, a and b and a filename and writes to the file a list with n random integers between a and b."
   ]
  },
  {
   "cell_type": "code",
   "execution_count": 53,
   "id": "fe22304c",
   "metadata": {},
   "outputs": [],
   "source": [
    "import random\n",
    "\n",
    "def generate(n,a,b,filename):\n",
    "    random_list = random.sample(range(a, b), n)\n",
    "    \n",
    "    f = open(filename, \"a\")\n",
    "    f.write(str(random_list))\n",
    "    f.close()\n",
    "    \n",
    "generate(10,1,15,\"random1.txt\")"
   ]
  },
  {
   "cell_type": "markdown",
   "id": "d659fcdb",
   "metadata": {},
   "source": [
    "#### (b) Reading the data\n",
    "- Write a function that can read the files as generated above and return the values."
   ]
  },
  {
   "cell_type": "code",
   "execution_count": 46,
   "id": "fba91aa2",
   "metadata": {},
   "outputs": [
    {
     "data": {
      "text/plain": [
       "['[4, 16, 11, 19, 18, 8, 9, 7, 12, 3]']"
      ]
     },
     "execution_count": 46,
     "metadata": {},
     "output_type": "execute_result"
    }
   ],
   "source": [
    "def read_and_print(filename):\n",
    "    file = open(filename, 'r')\n",
    "    lines = file.readlines()\n",
    "\n",
    "    return lines\n",
    "    \n",
    "read_and_print(\"random.txt\")"
   ]
  },
  {
   "cell_type": "markdown",
   "id": "fad905d8",
   "metadata": {},
   "source": [
    "#### (c) Sum problem\n",
    "- Write a function that given two filenames (pointing to files as generated by the above function) and an integer k, finds all u and v such that u + v = k, and u is an element of the first list and v is a member of the second list.\n"
   ]
  },
  {
   "cell_type": "code",
   "execution_count": 85,
   "id": "1cff24c1",
   "metadata": {},
   "outputs": [
    {
     "name": "stdout",
     "output_type": "stream",
     "text": [
      "['u1: 16', 'v1: 4', 'u2: 11', 'v2: 9', 'u3: 9', 'v3: 11', 'u4: 12', 'v4: 8']\n"
     ]
    }
   ],
   "source": [
    "def sum_of_both(filename1, filename2, k):\n",
    "    file1 = open(filename1, 'r')\n",
    "    data1 = file1.read().replace('\\n', '').replace('\\'', '').replace('[', '').replace(']', '').split(',')\n",
    "    \n",
    "    file2 = open(filename2, 'r')\n",
    "    data2 = file2.read().replace('\\n', '').replace('\\'', '').replace('[', '').replace(']', '').split(',')\n",
    "    \n",
    "    u_and_v = []\n",
    "    index = 0\n",
    "    for u in data1:\n",
    "        for v in data2:\n",
    "            if (int(u)+int(v)) == k:\n",
    "                index = index+1\n",
    "                u_and_v.append(\"u\" + str(index) + \":\"+ u)\n",
    "                u_and_v.append(\"v\" + str(index) + \":\" + v)\n",
    "\n",
    "    print(u_and_v)\n",
    "    \n",
    "sum_of_both(\"random.txt\", \"random1.txt\", 20)"
   ]
  },
  {
   "cell_type": "markdown",
   "id": "36e75783",
   "metadata": {},
   "source": [
    "#### (d) Testing\n",
    "- Test your functions by generating 2 files with n = 2000, a = 1, b = 10000 and k = 5000 and k = 12000."
   ]
  },
  {
   "cell_type": "code",
   "execution_count": 92,
   "id": "788edd3b",
   "metadata": {},
   "outputs": [
    {
     "name": "stdout",
     "output_type": "stream",
     "text": [
      "['u1:4', 'v1: 16', 'u2:4', 'v2: 16', 'u3:4', 'v3: 16', 'u4: 16', 'v4: 4', 'u5: 16', 'v5: 4', 'u6: 11', 'v6: 9', 'u7: 19', 'v7: 1', 'u8: 8', 'v8: 12', 'u9: 9', 'v9: 11', 'u10: 3', 'v10: 17']\n",
      "['u1:4', 'v1: 16', 'u2:4', 'v2: 16', 'u3:4', 'v3: 16', 'u4: 16', 'v4: 4', 'u5: 16', 'v5: 4', 'u6: 11', 'v6: 9', 'u7: 11', 'v7: 9', 'u8: 19', 'v8: 1', 'u9: 19', 'v9: 1', 'u10: 18', 'v10: 2', 'u11: 18', 'v11: 2', 'u12: 18', 'v12: 2', 'u13: 8', 'v13: 12', 'u14: 8', 'v14: 12', 'u15: 8', 'v15: 12', 'u16: 9', 'v16: 11', 'u17: 9', 'v17: 11', 'u18: 7', 'v18: 13', 'u19: 7', 'v19: 13', 'u20: 12', 'v20: 8', 'u21: 3', 'v21: 17', 'u22: 3', 'v22: 17', 'u23: 3', 'v23: 17']\n",
      "['u1: 11', 'v1: 9', 'u2: 8', 'v2: 12', 'u3: 7', 'v3: 13']\n"
     ]
    }
   ],
   "source": [
    "generate(2000,1,10000,\"random1.txt\")\n",
    "sum_of_both(\"random.txt\", \"random1.txt\", 20)\n",
    "\n",
    "generate(5000,1,10000,\"random2.txt\")\n",
    "sum_of_both(\"random.txt\", \"random2.txt\", 20)\n",
    "\n",
    "generate(12000,1,20000,\"random3.txt\")\n",
    "sum_of_both(\"random.txt\", \"random3.txt\", 20)"
   ]
  },
  {
   "cell_type": "markdown",
   "id": "882865a5",
   "metadata": {},
   "source": [
    "## 8. Classes"
   ]
  },
  {
   "cell_type": "markdown",
   "id": "62bfd82d",
   "metadata": {},
   "source": [
    "### Exercise 8.1: Rational numbers\n",
    "\n",
    "In this problem, we will write a class that can represent rational numbers, i.e. fractions pq .\n",
    "#### (a) Create a class Rational which is initialized by two integers, p and q, the nominator and denominator"
   ]
  },
  {
   "cell_type": "code",
   "execution_count": 96,
   "id": "2411bdaf",
   "metadata": {},
   "outputs": [],
   "source": [
    "class Rational:\n",
    "    def __init__(self, p, q):\n",
    "        self.p = p\n",
    "        self.q = q\n"
   ]
  },
  {
   "cell_type": "markdown",
   "id": "47bfa2d7",
   "metadata": {},
   "source": [
    "#### (b) Add a method to print the rational number as p/q (the __str__ or __repr__ method is useful)."
   ]
  },
  {
   "cell_type": "code",
   "execution_count": 98,
   "id": "18a4fe1e",
   "metadata": {},
   "outputs": [],
   "source": [
    "class Rational:\n",
    "    def __init__(self, p, q):\n",
    "        self.p = p\n",
    "        self.q = q\n",
    "        \n",
    "    def __print_rational__(self):\n",
    "        print(self.p + \"/\" + self.q)\n",
    "   "
   ]
  },
  {
   "cell_type": "markdown",
   "id": "8cd978de",
   "metadata": {},
   "source": [
    "#### (c) We would like to represent 10 by 1 instead, hence write a function that computes the greatest common divisor, and ensure that every rational number is simplified"
   ]
  },
  {
   "cell_type": "code",
   "execution_count": 110,
   "id": "2c66264f",
   "metadata": {},
   "outputs": [],
   "source": [
    "class Rational:\n",
    "    def __init__(self, p, q):\n",
    "        self.p = p\n",
    "        self.q = q\n",
    "        \n",
    "    def __print_rational__(self):\n",
    "        print(self.p + \"/\" + self.q)\n",
    "        \n",
    "    def __simplify__(self):\n",
    "        return \"%s/%s\"%(self.p, self.q)\n"
   ]
  },
  {
   "cell_type": "markdown",
   "id": "fd495409",
   "metadata": {},
   "source": [
    "#### (d) Add a method so that we can add two rational numbers with r1 + r2, here the __add__() method is useful."
   ]
  },
  {
   "cell_type": "code",
   "execution_count": 109,
   "id": "c1256fde",
   "metadata": {},
   "outputs": [],
   "source": [
    "class Rational:\n",
    "    def __init__(self, p, q):\n",
    "        self.p = p\n",
    "        self.q = q\n",
    "        \n",
    "    def __print_rational__(self):\n",
    "        print(self.p + \"/\" + self.q)\n",
    "        \n",
    "    def __simplify__(self):\n",
    "        return \"%s/%s\"%(self.p, self.q)\n",
    "    \n",
    "    def __add__(self):\n",
    "        return add(self.p + self.q)\n",
    "    "
   ]
  },
  {
   "cell_type": "markdown",
   "id": "f789fb59",
   "metadata": {},
   "source": [
    "#### (e) Add a method to subtract two rational numbers. (__sub__)"
   ]
  },
  {
   "cell_type": "code",
   "execution_count": 108,
   "id": "c05c0c3e",
   "metadata": {},
   "outputs": [],
   "source": [
    "class Rational:\n",
    "    def __init__(self, p, q):\n",
    "        self.p = p\n",
    "        self.q = q\n",
    "        \n",
    "    def __print_rational__(self):\n",
    "        print(self.p + \"/\" + self.q)\n",
    "        \n",
    "    def __simplify__(self):\n",
    "        return \"%s/%s\"%(self.p, self.q)\n",
    "    \n",
    "    def __add__(self):\n",
    "        return add(self.p + self.q)\n",
    "    \n",
    "    def __sub__(self):\n",
    "        return self.p - self.q"
   ]
  },
  {
   "cell_type": "markdown",
   "id": "72788cf0",
   "metadata": {},
   "source": [
    "#### (f) Add a method to multiply two rational numbers. (__mul__)"
   ]
  },
  {
   "cell_type": "code",
   "execution_count": 107,
   "id": "70e8b72f",
   "metadata": {},
   "outputs": [],
   "source": [
    "class Rational:\n",
    "    def __init__(self, p, q):\n",
    "        self.p = p\n",
    "        self.q = q\n",
    "        \n",
    "    def __print_rational__(self):\n",
    "        print(self.p + \"/\" + self.q)\n",
    "        \n",
    "    def __simplify__(self):\n",
    "        return \"%s/%s\"%(self.p, self.q)\n",
    "    \n",
    "    def __add__(self):\n",
    "        return add(self.p + self.q)\n",
    "    \n",
    "    def __sub__(self):\n",
    "        return self.p - self.q\n",
    "    \n",
    "    def __mul__(self):\n",
    "        return self.p * self.q\n",
    "    "
   ]
  },
  {
   "cell_type": "markdown",
   "id": "64b01cf1",
   "metadata": {},
   "source": [
    "#### (g) Add a method to divide two rational numbers. (__div__)"
   ]
  },
  {
   "cell_type": "code",
   "execution_count": 106,
   "id": "9940f453",
   "metadata": {},
   "outputs": [],
   "source": [
    "class Rational:\n",
    "    def __init__(self, p, q):\n",
    "        self.p = p\n",
    "        self.q = q\n",
    "        \n",
    "    def __print_rational__(self):\n",
    "        print(self.p + \"/\" + self.q)\n",
    "        \n",
    "    def __simplify__(self):\n",
    "        return \"%s/%s\"%(self.p, self.q)\n",
    "    \n",
    "    def __add__(self):\n",
    "        return add(self.p + self.q)\n",
    "    \n",
    "    def __sub__(self):\n",
    "        return self.p - self.q\n",
    "    \n",
    "    def __mul__(self):\n",
    "        return self.p * self.q\n",
    "    \n",
    "    def __div__(self):\n",
    "        return self.p / self.q\n",
    "    "
   ]
  },
  {
   "cell_type": "markdown",
   "id": "8dc8ad73",
   "metadata": {},
   "source": [
    "#### (h) Add a method that compares whether two rational numbers are equal."
   ]
  },
  {
   "cell_type": "code",
   "execution_count": 111,
   "id": "9bf11394",
   "metadata": {},
   "outputs": [],
   "source": [
    "class Rational:\n",
    "    def __init__(self, p, q):\n",
    "        self.p = p\n",
    "        self.q = q\n",
    "        \n",
    "    def __print_rational__(self):\n",
    "        print(self.p + \"/\" + self.q)\n",
    "        \n",
    "    def __simplify__(self):\n",
    "        return \"%s/%s\"%(self.p, self.q)\n",
    "    \n",
    "    def __add__(self):\n",
    "        return add(self.p + self.q)\n",
    "    \n",
    "    def __sub__(self):\n",
    "        return self.p - self.q\n",
    "    \n",
    "    def __mul__(self):\n",
    "        return self.p * self.q\n",
    "    \n",
    "    def __div__(self):\n",
    "        return self.p / self.q\n",
    "    \n",
    "    def __compare__(self):\n",
    "        return self.p == self.q"
   ]
  },
  {
   "cell_type": "markdown",
   "id": "be52c4bf",
   "metadata": {},
   "source": [
    "#### (i) Add a method to convert the rational number to a floating point (the __float__() method may be handy)."
   ]
  },
  {
   "cell_type": "code",
   "execution_count": 112,
   "id": "241f1a77",
   "metadata": {},
   "outputs": [],
   "source": [
    "class Rational:\n",
    "    def __init__(self, p, q):\n",
    "        self.p = p\n",
    "        self.q = q\n",
    "        \n",
    "    def __print_rational__(self):\n",
    "        print(self.p + \"/\" + self.q)\n",
    "        \n",
    "    def __simplify__(self):\n",
    "        return \"%s/%s\"%(self.p, self.q)\n",
    "    \n",
    "    def __add__(self):\n",
    "        return add(self.p + self.q)\n",
    "    \n",
    "    def __sub__(self):\n",
    "        return self.p - self.q\n",
    "    \n",
    "    def __mul__(self):\n",
    "        return self.p * self.q\n",
    "    \n",
    "    def __div__(self):\n",
    "        return self.p / self.q\n",
    "    \n",
    "    def __compare__(self):\n",
    "        return self.p == self.q\n",
    "    \n",
    "    def __float__(self):\n",
    "        return float(self.p/self.q)"
   ]
  },
  {
   "cell_type": "markdown",
   "id": "a78e04a2",
   "metadata": {},
   "source": [
    "### Exercise 8.5: Implementing the set class\n",
    "Write a class mySet that has the same basic functionality as the Python set data structure. Base your implementation on a dictionary."
   ]
  },
  {
   "cell_type": "code",
   "execution_count": 113,
   "id": "3548a214",
   "metadata": {},
   "outputs": [],
   "source": [
    "class mySet:\n",
    "    def __init__(self, *args):\n",
    "        self._dict = {}\n",
    "        for arg in args:\n",
    "            self.add(arg)\n",
    "\n",
    "    def __repr__(self):\n",
    "        import string\n",
    "        elems = map(repr, self._dict.keys( ))\n",
    "        elems.sort(  )\n",
    "        return \"%s(%s)\" % (self.__class__.__name__, string.join(elems, ', '))\n",
    "\n",
    "    def extend(self, args):\n",
    "        for arg in args:\n",
    "            self.add(arg)\n",
    "\n",
    "    def add(self, item):\n",
    "        self._dict[item] = item\n",
    "\n",
    "    def remove(self, item):\n",
    "        del self._dict[item]\n",
    "\n",
    "    def contains(self, item):\n",
    "        return self._dict.has_key(item)\n",
    "\n",
    "    def __getitem__(self, index):\n",
    "        return self._dict.keys( )[index]\n",
    "\n",
    "    def __iter__(self):\n",
    "        return iter(self._dict.copy( ))\n",
    "\n",
    "    def __len__(self):\n",
    "        return len(self._dict)\n",
    "\n",
    "    def items(self):\n",
    "        result = self._dict.keys( )\n",
    "        try: result.sort( )\n",
    "        except: pass\n",
    "        return result\n",
    "\n",
    "    def __copy__(self):\n",
    "        return Set(self)"
   ]
  },
  {
   "cell_type": "markdown",
   "id": "0d0b4487",
   "metadata": {},
   "source": [
    "### Exercise 8.6: Binary search tree\n",
    "In this exercise, we will implement a binary search tree. See http://en.wikipedia.org/wiki/Binary_ search_tree for an explanation.\n",
    "#### (a) Define a class Node, and write the constructor, which takes one argument, value, and initializes the left and right children to None."
   ]
  },
  {
   "cell_type": "code",
   "execution_count": 114,
   "id": "3862590a",
   "metadata": {},
   "outputs": [],
   "source": [
    "class Node:\n",
    "    def __init__(self, val=None):\n",
    "        self.left = None\n",
    "        self.right = None\n",
    "        self.val = val\n",
    "    "
   ]
  },
  {
   "cell_type": "markdown",
   "id": "6b85282e",
   "metadata": {},
   "source": [
    "#### (b) Write a function to print the tree."
   ]
  },
  {
   "cell_type": "code",
   "execution_count": null,
   "id": "e51738cb",
   "metadata": {},
   "outputs": [],
   "source": [
    "nums = [1, 16, 28, 1, 3, 5, 24, 4, 18]\n",
    "bst = Node()\n",
    "for num in nums:\n",
    "    bst.insert(num)\n",
    "\n",
    "print((bst))"
   ]
  },
  {
   "cell_type": "markdown",
   "id": "69490573",
   "metadata": {},
   "source": [
    "#### (c) Write a function that inserts a new value in the tree at the right location."
   ]
  },
  {
   "cell_type": "code",
   "execution_count": 117,
   "id": "0a86c478",
   "metadata": {},
   "outputs": [],
   "source": [
    "class Node:\n",
    "    def __init__(self, val=None):\n",
    "        self.left = None\n",
    "        self.right = None\n",
    "        self.val = val\n",
    "        \n",
    "    def insert(self, val):\n",
    "        if not self.val:\n",
    "            self.val = val\n",
    "            return\n",
    "\n",
    "        if self.val == val:\n",
    "            return\n",
    "\n",
    "        if val < self.val:\n",
    "            if self.left:\n",
    "                self.left.insert(val)\n",
    "                return\n",
    "            self.left = Node(val)\n",
    "            return\n",
    "\n",
    "        if self.right:\n",
    "            self.right.insert(val)\n",
    "            return\n",
    "        self.right = Node(val)"
   ]
  },
  {
   "cell_type": "markdown",
   "id": "a71933ca",
   "metadata": {},
   "source": [
    "#### (d) Write a function that looks up a value in the tree."
   ]
  },
  {
   "cell_type": "code",
   "execution_count": 123,
   "id": "7c90c5db",
   "metadata": {},
   "outputs": [],
   "source": [
    "class Node:\n",
    "    def __init__(self, val=None):\n",
    "        self.left = None\n",
    "        self.right = None\n",
    "        self.val = val\n",
    "        \n",
    "    def insert(self, val):\n",
    "        if not self.val:\n",
    "            self.val = val\n",
    "            return\n",
    "\n",
    "        if self.val == val:\n",
    "            return\n",
    "\n",
    "        if val < self.val:\n",
    "            if self.left:\n",
    "                self.left.insert(val)\n",
    "                return\n",
    "            self.left = Node(val)\n",
    "            return\n",
    "\n",
    "        if self.right:\n",
    "            self.right.insert(val)\n",
    "            return\n",
    "        self.right = Node(val)\n",
    "        \n",
    "        def exists(self, val):\n",
    "            if val == self.val:\n",
    "                return True\n",
    "\n",
    "            if val < self.val:\n",
    "                if self.left == None:\n",
    "                    return False\n",
    "                return self.left.exists(val)\n",
    "\n",
    "            if self.right == None:\n",
    "                return False\n",
    "            return self.right.exists(val)\n",
    "        "
   ]
  },
  {
   "cell_type": "markdown",
   "id": "c0eb04bc",
   "metadata": {},
   "source": [
    "#### (e) Write a function that removes a value from the tree."
   ]
  },
  {
   "cell_type": "code",
   "execution_count": 130,
   "id": "c3397e01",
   "metadata": {},
   "outputs": [],
   "source": [
    "class Node:\n",
    "    def __init__(self, val=None):\n",
    "        self.left = None\n",
    "        self.right = None\n",
    "        self.val = val\n",
    "        \n",
    "    def insert(self, val):\n",
    "        if not self.val:\n",
    "            self.val = val\n",
    "            return\n",
    "\n",
    "        if self.val == val:\n",
    "            return\n",
    "\n",
    "        if val < self.val:\n",
    "            if self.left:\n",
    "                self.left.insert(val)\n",
    "                return\n",
    "            self.left = Node(val)\n",
    "            return\n",
    "\n",
    "        if self.right:\n",
    "            self.right.insert(val)\n",
    "            return\n",
    "        self.right = Node(val)\n",
    "        \n",
    "        def exists(self, val):\n",
    "            if val == self.val:\n",
    "                return True\n",
    "\n",
    "            if val < self.val:\n",
    "                if self.left == None:\n",
    "                    return False\n",
    "                return self.left.exists(val)\n",
    "\n",
    "            if self.right == None:\n",
    "                return False\n",
    "            return self.right.exists(val)\n",
    "        \n",
    "        def remove(self, val):\n",
    "            if self == None:\n",
    "                return self\n",
    "            if val < self.val:\n",
    "                self.left = self.left.remove(val)\n",
    "                return self\n",
    "            if val > self.val:\n",
    "                self.right = self.right.remove(val)\n",
    "                return self\n",
    "            if self.right == None:\n",
    "                return self.left\n",
    "            if self.left == None:\n",
    "                return self.right\n",
    "            min_larger_node = self.right\n",
    "            while min_larger_node.left:\n",
    "                min_larger_node = min_larger_node.left\n",
    "            self.val = min_larger_node.val\n",
    "            self.right = self.right.remove(min_larger_node.val)\n",
    "            return self "
   ]
  }
 ],
 "metadata": {
  "kernelspec": {
   "display_name": "Python 3 (ipykernel)",
   "language": "python",
   "name": "python3"
  },
  "language_info": {
   "codemirror_mode": {
    "name": "ipython",
    "version": 3
   },
   "file_extension": ".py",
   "mimetype": "text/x-python",
   "name": "python",
   "nbconvert_exporter": "python",
   "pygments_lexer": "ipython3",
   "version": "3.8.6"
  }
 },
 "nbformat": 4,
 "nbformat_minor": 5
}
