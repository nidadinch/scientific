{
  "cells": [
    {
      "cell_type": "markdown",
      "source": [
        "# Volkan Kalın - 20180808021 - Nida Dinc - 20160808047 \n",
        "## Scientific Programming - Homework 1"
      ],
      "metadata": {
        "id": "mJ0NHJeKTy1v"
      }
    },
    {
      "cell_type": "markdown",
      "metadata": {
        "id": "zAwGBxD_oRgM"
      },
      "source": [
        "# CME193 - Assignment 1\n",
        "\n",
        "In this assignment you will be learning about and implementing [Markov Chains](https://en.wikipedia.org/wiki/Markov_chain), if you have never heard  of them before, do not worry, this notebook will explain everything needed for the assignment.\n",
        "\n",
        "## Markov chains\n",
        "The best way to introduce what a Markov chain is with a simple example. Suppose you have a simple counter that you can set to any number between 0 and 9 (including 0 and 9). At every step you roll a standard 6 -sided die and depending on whether the rolled number is even or odd you either increment or decrement the counter. If you try to increment at 9, lets say it wraps around to 0 and similarly for trying to decrement at 0. Now you can play this game for multiple steps and record the counter value after every step, this is just a simple markov chain.\n",
        "\n",
        "Here is an example evolution of the markov chain,\n",
        "Start with counter at 1.\n",
        "- Step 1 : Roll a 4, its even so increment the counter to 2.\n",
        "- Step 2 : Roll a 2, its even so increment the counter to 3.\n",
        "- Step 3 : Roll a 5, its odd so decrement the counter to 2.\n",
        "\n",
        "etc.\n",
        "\n",
        "A markov chain consists of a set of n states (in our example it was the 10 states of the counter) and a probabilistic rule to jump to another state every step (the dice rolls). Although in our simple example we had a similar rule for each state, you can have a different rule for each state. For example you may say that if you the counter is odd, dont roll a die, always increment, and follow the die for even states. The rule is always in the form of n probabilities that sum to one. Each probability indicates the chance that it jumps to that state.\n",
        "\n",
        "In our example the rule for state 0 can be represented by the below numpy vector\n",
        "\n",
        "When you are in state 0, you have 50% chance of landing on state 1 (you rolled even) or a 50% chance of landing in state 9 ( you rolled odd and tried to decrement at 0)"
      ]
    },
    {
      "cell_type": "markdown",
      "source": [
        "> Here when `numpy.array` function is called with a `list` parameter it is casted to `ndarray` type of numpy."
      ],
      "metadata": {
        "id": "27GeENStx5KZ"
      }
    },
    {
      "cell_type": "code",
      "execution_count": null,
      "metadata": {
        "colab": {
          "base_uri": "https://localhost:8080/"
        },
        "id": "RUYucLiBoRgO",
        "outputId": "b91e9ddb-cb27-45ef-f47c-aa065e6e355e"
      },
      "outputs": [
        {
          "output_type": "execute_result",
          "data": {
            "text/plain": [
              "array([0. , 0.5, 0. , 0. , 0. , 0. , 0. , 0. , 0. , 0.5])"
            ]
          },
          "metadata": {},
          "execution_count": 1
        }
      ],
      "source": [
        "import numpy as np\n",
        "np.array([0. , 0.5, 0. , 0. , 0. , 0. , 0. , 0. , 0. , 0.5])"
      ]
    },
    {
      "cell_type": "markdown",
      "metadata": {
        "id": "3_0HnN2noRgP"
      },
      "source": [
        "The index in the array represents the state and the value represents the probability with which you will jump to that state. Similarly this is the rule for state 4"
      ]
    },
    {
      "cell_type": "code",
      "execution_count": null,
      "metadata": {
        "colab": {
          "base_uri": "https://localhost:8080/"
        },
        "id": "WpEqWM4QoRgP",
        "outputId": "37584201-f45c-4982-f3fd-b0dd443e0da6"
      },
      "outputs": [
        {
          "output_type": "execute_result",
          "data": {
            "text/plain": [
              "array([0. , 0. , 0. , 0.5, 0. , 0.5, 0. , 0. , 0. , 0. ])"
            ]
          },
          "metadata": {},
          "execution_count": 2
        }
      ],
      "source": [
        "np.array([0. , 0. , 0. , 0.5, 0. , 0.5, 0. , 0. , 0. , 0. ])"
      ]
    },
    {
      "cell_type": "markdown",
      "metadata": {
        "id": "LhMgt8BloRgQ"
      },
      "source": [
        "## Transition Matrix\n",
        "\n",
        "The way to represent markov chains is with a transition matrix $T$ of size (n,n), where the column i will the rule vector for the state i ( Here we are assuming that the states ae numbered 0 to n-1 ).\n",
        "\n",
        "Thus you can interpret the element $T_{ij}$ of the matrix as the probability you will jump to state i from the state j."
      ]
    },
    {
      "cell_type": "markdown",
      "metadata": {
        "id": "QddKV6_7oRgQ"
      },
      "source": [
        "## Question 1\n",
        "\n",
        "Write a function to return the transition matrix for the following markov chain, given the number of states as an argument.\n",
        "\n",
        "The rule for the markov chain is as follows,\n",
        "\n",
        "If current state is i (and if i is not n-1)\n",
        "1. With probability 0.6, it goes to state i+1\n",
        "2. With probability 0.1, it will fall back to state i = 0.\n",
        "2. With probability 0.3, it goes to state i-1 if i is at least 1. If i is instead 0 it stays at state 0.\n",
        "3. At state n-1, instead of the above operations we stay at state n-1 with probability 1\n",
        "\n",
        "Intuitively, this markov chain behaves in the following way, at every step there is an 60% chance that it climbs up by 1, a 10% chance that it falls down completely, and a 30% chance it falls down by 1. If it does reach the final state n-1, it stays there forever.\n",
        "\n",
        "You are **not** allowed to use any for loops for this question, instead use numpy indexing to fill in your matrix. You can assume that n is atleast 4.\n",
        "\n",
        "Hints:\n",
        "1. First write your code in an empty cell for with a hardcoded n value, in this way you can quickly iterate and get the right answer first. Then copy it into the function.\n",
        "2. You can use [Array indexing](https://docs.scipy.org/doc/numpy-1.13.0/user/basics.indexing.html#index-arrays)"
      ]
    },
    {
      "cell_type": "markdown",
      "source": [
        ""
      ],
      "metadata": {
        "id": "tRayRGZuz_BO"
      }
    },
    {
      "cell_type": "code",
      "execution_count": null,
      "metadata": {
        "id": "LkP4NIs-oRgR"
      },
      "outputs": [],
      "source": [
        "##### YOUR CODE HERE\n",
        "def transition_matrix(n):\n",
        "    M = np.zeros((n,n))\n",
        "    # 1. With probability 0.6, it goes to state i+1\n",
        "    for current_state in range(n-1):\n",
        "        next_state = current_state+1\n",
        "        M[current_state,next_state] += 0.6\n",
        "    \n",
        "    # 2. With probability 0.1, it will fall back to state i = 0.\n",
        "    for current_state in range(n-1):\n",
        "        M[current_state,0] += 0.1\n",
        "    \n",
        "    # 3. With probability 0.3, it goes to state i-1 if i is at least 1. If i is instead 0 it stays at state 0.\n",
        "    M[0,0] += 0.3\n",
        "    for current_state in range(1, n-1):\n",
        "        next_state = current_state-1\n",
        "        M[current_state,next_state] += 0.3\n",
        "    \n",
        "    # 4. At state n-1, instead of the above operations we stay at state n-1 with probability 1\n",
        "    M[n-1,n-1] = 1.0\n",
        "    return M.T\n",
        "\n"
      ]
    },
    {
      "cell_type": "code",
      "source": [
        "#TESTING\n",
        "transition_matrix(10)"
      ],
      "metadata": {
        "colab": {
          "base_uri": "https://localhost:8080/"
        },
        "id": "rHIuKF3OzuYy",
        "outputId": "4c310b3b-3ff3-4e83-e163-4060873df53c"
      },
      "execution_count": null,
      "outputs": [
        {
          "output_type": "execute_result",
          "data": {
            "text/plain": [
              "array([[0.4, 0.4, 0.1, 0.1, 0.1, 0.1, 0.1, 0.1, 0.1, 0. ],\n",
              "       [0.6, 0. , 0.3, 0. , 0. , 0. , 0. , 0. , 0. , 0. ],\n",
              "       [0. , 0.6, 0. , 0.3, 0. , 0. , 0. , 0. , 0. , 0. ],\n",
              "       [0. , 0. , 0.6, 0. , 0.3, 0. , 0. , 0. , 0. , 0. ],\n",
              "       [0. , 0. , 0. , 0.6, 0. , 0.3, 0. , 0. , 0. , 0. ],\n",
              "       [0. , 0. , 0. , 0. , 0.6, 0. , 0.3, 0. , 0. , 0. ],\n",
              "       [0. , 0. , 0. , 0. , 0. , 0.6, 0. , 0.3, 0. , 0. ],\n",
              "       [0. , 0. , 0. , 0. , 0. , 0. , 0.6, 0. , 0.3, 0. ],\n",
              "       [0. , 0. , 0. , 0. , 0. , 0. , 0. , 0.6, 0. , 0. ],\n",
              "       [0. , 0. , 0. , 0. , 0. , 0. , 0. , 0. , 0.6, 1. ]])"
            ]
          },
          "metadata": {},
          "execution_count": 4
        }
      ]
    },
    {
      "cell_type": "markdown",
      "metadata": {
        "id": "CnMIEkwIoRgS"
      },
      "source": [
        "To test your function , check that the above returns \n",
        "```\n",
        "array([[0.4, 0.4, 0.1, 0.1, 0.1, 0.1, 0.1, 0.1, 0.1, 0. ],\n",
        "       [0.6, 0. , 0.3, 0. , 0. , 0. , 0. , 0. , 0. , 0. ],\n",
        "       [0. , 0.6, 0. , 0.3, 0. , 0. , 0. , 0. , 0. , 0. ],\n",
        "       [0. , 0. , 0.6, 0. , 0.3, 0. , 0. , 0. , 0. , 0. ],\n",
        "       [0. , 0. , 0. , 0.6, 0. , 0.3, 0. , 0. , 0. , 0. ],\n",
        "       [0. , 0. , 0. , 0. , 0.6, 0. , 0.3, 0. , 0. , 0. ],\n",
        "       [0. , 0. , 0. , 0. , 0. , 0.6, 0. , 0.3, 0. , 0. ],\n",
        "       [0. , 0. , 0. , 0. , 0. , 0. , 0.6, 0. , 0.3, 0. ],\n",
        "       [0. , 0. , 0. , 0. , 0. , 0. , 0. , 0.6, 0. , 0. ],\n",
        "       [0. , 0. , 0. , 0. , 0. , 0. , 0. , 0. , 0.6, 1. ]])\n",
        "```"
      ]
    },
    {
      "cell_type": "markdown",
      "metadata": {
        "id": "jkg690IooRgT"
      },
      "source": [
        "## Question 2\n",
        "\n",
        "Now we want to use the transtion matrix to know what are the probabilites of being in each state after running the markov chain for k steps. For example, for the above markov chain, I want to know after 30 steps, what is the probablity that I have reached the state n-1.\n",
        "\n",
        "Luckily this is fairly easy to calculate, using matrix multiplication. An amazingly useful property of the transition matrix is as follows, if you have vector $p_j$ as the vector of probabilites after step $j$, then $p_{j+1}$ is given by the following matrix vector product.\n",
        "\n",
        "$$ p_{j+1} =  Tp_j $$\n",
        "\n",
        "We will not prove this result here, but if you spend some time thinking about what matrix multiplication is doing here, especially interpret it as taking a linear combination of columns then it should make sense.\n",
        "\n",
        "Thus if someone gave you a probability distribution for the starting state as $p_0$, then the probability distribtion after $k$ steps is simply given by multiplying by the transition matrix k times\n",
        "\n",
        "$$ p_{k} =  T^{k}p_0 $$\n",
        "\n",
        "Implement a function which given an initial distribution `p0`, number of steps `k` and a transition matrix `tm`, it will return the distribution after k steps"
      ]
    },
    {
      "cell_type": "code",
      "execution_count": null,
      "metadata": {
        "id": "mpkegX5ZoRgU"
      },
      "outputs": [],
      "source": [
        "#YOUR CODE HERE\n",
        "def propagate(p0,k,tm):\n",
        "    return np.dot(np.linalg.matrix_power(tm,k), p0)"
      ]
    },
    {
      "cell_type": "code",
      "execution_count": null,
      "metadata": {
        "id": "8JVvmI4eoRgU",
        "colab": {
          "base_uri": "https://localhost:8080/"
        },
        "outputId": "a5c439fc-528b-4d6b-d194-9c7ba322d56c"
      },
      "outputs": [
        {
          "output_type": "execute_result",
          "data": {
            "text/plain": [
              "array([0.16029774, 0.13006664, 0.10561269, 0.08547506, 0.06947427,\n",
              "       0.05552321, 0.04450658, 0.03281234, 0.02049648, 0.29573499])"
            ]
          },
          "metadata": {},
          "execution_count": 6
        }
      ],
      "source": [
        "#TESTING\n",
        "tm = transition_matrix(10)\n",
        "p0 = np.zeros(10)\n",
        "p0[0] = 1\n",
        "pk = propagate(p0,30,tm)\n",
        "pk"
      ]
    },
    {
      "cell_type": "markdown",
      "metadata": {
        "id": "XA6N524goRgU"
      },
      "source": [
        "The above code should return :\n",
        "\n",
        "```\n",
        "array([0.16029774, 0.13006664, 0.10561269, 0.08547506, 0.06947427,\n",
        "       0.05552321, 0.04450658, 0.03281234, 0.02049648, 0.29573499])\n",
        "```"
      ]
    },
    {
      "cell_type": "markdown",
      "metadata": {
        "id": "iILEp-WAoRgV"
      },
      "source": [
        "## Question 3\n",
        "### Part a\n",
        "With this implementation of `propagate`, you can now compute the probability of being in each state of the markov chain after k steps. How many steps does it take for the probability of being in the final state to be at least 0.5?\n",
        "\n",
        "After each step the probability of being in the final state slowly increases: once we are in state n-1, we never leave. At some point this probability will cross 50%. What you need to calculate is how many steps does it take to cross 50%.\n",
        "\n",
        "Again use n=10 transition matrix and start from state 0.\n",
        "\n",
        "Hints:\n",
        "1. Use the while loop"
      ]
    },
    {
      "cell_type": "code",
      "execution_count": null,
      "metadata": {
        "id": "HheudhidoRgV",
        "colab": {
          "base_uri": "https://localhost:8080/"
        },
        "outputId": "3f07875e-57ea-4724-c97a-cbfd51572687"
      },
      "outputs": [
        {
          "output_type": "stream",
          "name": "stdout",
          "text": [
            "On step 50, the probability of being in the final is 50.27%\n"
          ]
        }
      ],
      "source": [
        "#YOUR CODE HERE\n",
        "tm = transition_matrix(10)\n",
        "p0 = np.zeros(10)\n",
        "p0[0] = 1\n",
        "\n",
        "step = 1\n",
        "while True:\n",
        "    pk = propagate(p0,step,tm)\n",
        "    if pk[-1] > 0.5: break\n",
        "    step+=1\n",
        "print(f\"On step {step}, the probability of being in the final is {pk[-1]*100:.2f}%\")"
      ]
    },
    {
      "cell_type": "markdown",
      "metadata": {
        "id": "UubG2NadoRgV"
      },
      "source": [
        "### Part b\n",
        "Convert the above Code into a function that computes the number of steps to 50% probability in the final state given `n` the size of the markov chain"
      ]
    },
    {
      "cell_type": "code",
      "execution_count": null,
      "metadata": {
        "id": "9G51UuOioRgV"
      },
      "outputs": [],
      "source": [
        "#YOUR CODE HERE\n",
        "\n",
        "def compute_n(n, start=None):\n",
        "    tm = transition_matrix(n)\n",
        "    p0 = np.zeros(n)\n",
        "    p0[0] = 1\n",
        "\n",
        "    step = start if start else 1\n",
        "    while True:\n",
        "        pk = propagate(p0,step,tm)\n",
        "        if pk[-1] > 0.5: break\n",
        "        step+=1\n",
        "    \n",
        "    return step"
      ]
    },
    {
      "cell_type": "markdown",
      "metadata": {
        "id": "UGoaguYMoRgV"
      },
      "source": [
        "### Part c\n",
        "Compute and plot the number of steps required for $n$ ranging from 10 to 40.\n",
        "\n",
        "Lookup the plotting function `plt.semilogy`and understand what it does, plot another graph of the number of steps using it.\n",
        "\n",
        "What does the semilogy plot tell you?\n",
        "\n",
        "Save the plots as \"qsn3c.png\" and \"qsn3c_semilogy.png\"\n",
        "\n",
        "**Hint:** if your code takes a long time to run, your implementation of `num_steps` may need to be improved. If you  know the distribution after $j$ steps of the markov chain, is there a way to use it to compute the distribution after $j+1$ steps?"
      ]
    },
    {
      "cell_type": "code",
      "execution_count": null,
      "metadata": {
        "id": "I1cTMJZooRgW",
        "colab": {
          "base_uri": "https://localhost:8080/",
          "height": 298,
          "referenced_widgets": [
            "36388d0549b14f089c7b6c7c9c3bc363",
            "f4dfe4033ad546609eee687f9dcaa846",
            "4912154f9c3c450e990838815b04ad4a",
            "d40b6b6587714daf8a875d0e69305bde",
            "91dcad89f16d4c5aa5311a72fcbb7bb2",
            "e24124b08d634db4ad2634234007170b",
            "6321607221ae4a618a2270a4c5a725a0",
            "97994484f62e42ebb8256f3ac7c82141",
            "2f9b1c2a0e07467e8cbfc62ba33ea6f7",
            "a03ecaba0495438898492ff907e3f088",
            "4ca424d159304aeb832f846b64b28af3"
          ]
        },
        "outputId": "2f7bba54-1305-4b15-8c14-80ad6d8f99d4"
      },
      "outputs": [
        {
          "output_type": "display_data",
          "data": {
            "text/plain": [
              "  0%|          | 0/31 [00:00<?, ?it/s]"
            ],
            "application/vnd.jupyter.widget-view+json": {
              "version_major": 2,
              "version_minor": 0,
              "model_id": "36388d0549b14f089c7b6c7c9c3bc363"
            }
          },
          "metadata": {}
        },
        {
          "output_type": "display_data",
          "data": {
            "text/plain": [
              "<Figure size 432x288 with 1 Axes>"
            ],
            "image/png": "[encoded data removed]"
          },
          "metadata": {
            "needs_background": "light"
          }
        }
      ],
      "source": [
        "#YOUR CODE HERE\n",
        "from tqdm.notebook import tqdm\n",
        "import matplotlib.pyplot as plt\n",
        "\n",
        "steps = []\n",
        "start = 1\n",
        "for n in tqdm(range(10,41)):\n",
        "    step = compute_n(n, start)\n",
        "    steps.append(step)\n",
        "    start = step\n",
        "\n",
        "plt.plot(steps)\n",
        "plt.savefig('qsn3c.png')"
      ]
    },
    {
      "cell_type": "code",
      "source": [
        "plt.semilogy(steps)\n",
        "plt.savefig('qsn3c_semilogy.png')"
      ],
      "metadata": {
        "colab": {
          "base_uri": "https://localhost:8080/",
          "height": 268
        },
        "id": "vbHDQPCXI4nM",
        "outputId": "748c91e9-b425-4ccc-f781-dde54a33ad9f"
      },
      "execution_count": null,
      "outputs": [
        {
          "output_type": "display_data",
          "data": {
            "text/plain": [
              "<Figure size 432x288 with 1 Axes>"
            ],
            "image/png": "[encoded data removed]"
          },
          "metadata": {
            "needs_background": "light"
          }
        }
      ]
    },
    {
      "cell_type": "markdown",
      "metadata": {
        "id": "yXcSRWQooRgW"
      },
      "source": [
        "## Question 4\n",
        "\n",
        "### Part a\n",
        "Now we want to also compute some samples from the markov chain. What does this mean? Given a starting state, the Markov chain says that we move to various different states with some probabilities. We want to use randomness to choose what this next state is. Each call to the function will return a different answer, a new sample.\n",
        "\n",
        "For example consider the markov chain we have been using. It computes the next state by either adding 1 (with probability 0.6), subtracting 1 (probability 0.3), or going back to state 0 (probability 0.1) until it reaches the final state. Once it reaches the final state it stays there forever. If we were starting from state `4` of our Markov chain (for example), then we want to return `5` with probability 0.6, `3` with probability 0.3, and `0` with probability 0.1. \n",
        "\n",
        "Write a function `sample` which takes in a transition matrix `tm` and an initial state `s0` and samples a state to move to starting from `s0`. "
      ]
    },
    {
      "cell_type": "code",
      "execution_count": null,
      "metadata": {
        "id": "F_9X-fAooRgW"
      },
      "outputs": [],
      "source": [
        "import numpy.random as rnd"
      ]
    },
    {
      "cell_type": "code",
      "execution_count": null,
      "metadata": {
        "id": "qa2DywEQoRgW"
      },
      "outputs": [],
      "source": [
        "#YOUR CODE HERE\n",
        "def sample(tm, s0):\n",
        "    return rnd.choice(tm.shape[1], p=tm[:,s0])"
      ]
    },
    {
      "cell_type": "markdown",
      "metadata": {
        "id": "CLrPTH6joRgW"
      },
      "source": [
        "Your implementation should **not** hard-code the probability values from the specific Markov chain we have been working with so far."
      ]
    },
    {
      "cell_type": "markdown",
      "metadata": {
        "id": "9t21w3ypoRgX"
      },
      "source": [
        "### part b\n",
        "\n",
        "With this implementation of `sample`, write a function `sample_k_steps` which runs a random walk in the chain for `k` steps from an initial state `s0`. The random walk works in the following way: we start from `s0` and sample a new state to move to. We then set that new state to be `s0` and sample a new state to move to from there, repeating this until we have stepped `k` times.\n",
        "\n",
        "As an example, in the chain we have been working with so far we can only add 1, subtract 1, or go to 0 each time we step until we reach state `n-1`. When we are in state `n-1` we stay there forever. Thus a potential sample of 25 steps in the `n=10` chain is\n",
        "```\n",
        "array([0,1,2,1,2,3,0,0,1,2,3,4,5,4,3,4,5,6,7,8,9,9,9,9,9,9])\n",
        "```\n",
        "Note that each element of this array is equal to 0, equal to n-1, or is 1 greater or 1 less than the previous one. Further once we have an `n-1` value in our array we have that value for all future elements. \n",
        "\n",
        "Write a function `sample_k_steps` which takes in transition matrix `tm`, number of steps `k`, and  starting state `s0` and returns an array of `k+1` states sampled from the chain.\n",
        "\n",
        "Hint: You can use `sample` from 4a for this"
      ]
    },
    {
      "cell_type": "code",
      "execution_count": null,
      "metadata": {
        "id": "q6aO9JmvoRgX",
        "colab": {
          "base_uri": "https://localhost:8080/"
        },
        "outputId": "636d7c0e-cfc4-43db-ca36-7cf7d3a13af2"
      },
      "outputs": [
        {
          "output_type": "execute_result",
          "data": {
            "text/plain": [
              "array([0, 1, 2, 3, 2, 1, 2, 0, 1, 0, 0, 1, 0, 1, 0, 0, 0, 1, 0, 1, 2, 0,\n",
              "       1, 0, 0, 1])"
            ]
          },
          "metadata": {},
          "execution_count": 13
        }
      ],
      "source": [
        "#YOUR CODE HERE\n",
        "def sample_k_steps(tm,k,s0):\n",
        "    samples = [s0]\n",
        "    for _ in range(k):\n",
        "        s0 = sample(tm, s0)\n",
        "        samples.append(s0)\n",
        "    return np.array(samples)\n",
        "\n",
        "sample_k_steps(tm, 25, 0)"
      ]
    },
    {
      "cell_type": "markdown",
      "metadata": {
        "id": "E_UDLAnFoRgX"
      },
      "source": [
        "Use the below code to test out some of the samples, it samples 20 trajectories of the markov chain and plots them. The plot should show that almost all or all the trajectories would ahve reached the final state by the end. Save this graph as \"qsn4b.png\"."
      ]
    },
    {
      "cell_type": "code",
      "execution_count": null,
      "metadata": {
        "id": "CX8BBF9joRgX",
        "colab": {
          "base_uri": "https://localhost:8080/",
          "height": 265
        },
        "outputId": "4fc6e530-ce59-4f3e-a980-ba8fe9d88e99"
      },
      "outputs": [
        {
          "output_type": "display_data",
          "data": {
            "text/plain": [
              "<Figure size 432x288 with 1 Axes>"
            ],
            "image/png": "[encoded data removed]"
          },
          "metadata": {
            "needs_background": "light"
          }
        }
      ],
      "source": [
        "#TESTING\n",
        "tm = transition_matrix(10)\n",
        "k = 200\n",
        "s0 = 0\n",
        "\n",
        "for i in range(20):\n",
        "    states = sample_k_steps(tm, k, s0)\n",
        "    plt.plot(states)\n",
        "\n",
        "plt.savefig(\"qsn4b.png\")"
      ]
    },
    {
      "cell_type": "markdown",
      "metadata": {
        "id": "LsqXrbh0oRgX"
      },
      "source": [
        "## Question 5\n",
        "\n",
        "We will now use our implementation of `sample` to estimate *hitting times* in a Markov chain. The hitting time between states `i` and `j` is the average number of steps that a random walk starting from state `i` takes to hit state `j`. We will be creating a [Monte Carlo simulation](https://en.wikipedia.org/wiki/Monte_Carlo_method) to estimate this value: if we run many random walks starting from `i` and count the number of steps it takes them to reach `j`, the average number of steps we observe is (hopefully) a good approximation to the true hitting time.\n",
        "\n",
        "Write a function `hitting_time_1_walk` which takes in as arguments a transition matrix `tm`, a starting point `i`, and an ending point `j`. Your function should run a random walk starting from `i` until it hits `j`, and return the number of steps that your walk takes to hit `j`.\n"
      ]
    },
    {
      "cell_type": "code",
      "execution_count": null,
      "metadata": {
        "id": "NE7TbJproRgX"
      },
      "outputs": [],
      "source": [
        "#YOUR CODE HERE\n",
        "def hitting_time_1_walk(tm,i,j):\n",
        "    current_state = i\n",
        "    c = 0\n",
        "    while current_state != j:\n",
        "        current_state = sample(tm, current_state)\n",
        "        c+=1\n",
        "    return c\n"
      ]
    },
    {
      "cell_type": "markdown",
      "metadata": {
        "id": "PHs0wFqHoRgX"
      },
      "source": [
        "Note that when applied to our markov chain from before, `hitting_time_1_walk(tm,0,n-1)` runs a random walk starting from `0` until it hits the end state `n-1`. Consequently, we expect that `hitting_time_1_walk(tm,0,n-1)` will be at most some value `k` with probability equal to `propagate(tm,0,k)[n-1]` (take some time to convince yourself of this if you are not sure of this).\n",
        "\n",
        "1. **Create a new transition matrix `tm` for n = 20**, and create an array of 1000 calls to `hitting_time_1_walk(tm,0,n-1)`. \n",
        "\n",
        "2. Write a function `proportion_at_most` which takes in as arguments an array `arr` and a value `max_value`. It should return an array with `max_value` entries, where the `i`'th entry of the output array is the proportion of the values from `arr` which are at most `i`. For example, `proportion_at_most(arr=[1,2,4,2,6], max_value = 7)` should return `[0,0.2,0.6,0.6,0.8,0.8,1,1]` (or the numpy array equivalent to this)\n",
        "\n",
        "\n",
        "3. Apply this function to the hitting time samples you computed, with `max_value = 2000`.\n",
        "\n",
        "4. Compute the theoretical probability of being in state `n-1` after `k` steps using `propagate`, for every value of `k` between `0` and `2000`. \n",
        "\n",
        "5. Plot the estimated probabilities from 2) and the true probabilities from 3) against each other. Do they agree?\n",
        "\n",
        "\n",
        "Save your plot as `qsn5.png`."
      ]
    },
    {
      "cell_type": "code",
      "execution_count": null,
      "metadata": {
        "id": "QALVaGk8oRgY",
        "colab": {
          "base_uri": "https://localhost:8080/"
        },
        "outputId": "5f75dcbc-07a2-4b9a-9542-9a31d5185837"
      },
      "outputs": [
        {
          "output_type": "execute_result",
          "data": {
            "text/plain": [
              "array([0. , 0.2, 0.6, 0.6, 0.8, 0.8, 1. , 1. ])"
            ]
          },
          "metadata": {},
          "execution_count": 16
        }
      ],
      "source": [
        "#YOUR CODE HERE\n",
        "def proportion_at_most(arr: list, max_value: int):\n",
        "    # create a lookup for normalized frequency of values in arr \n",
        "    numbers, counts = np.unique(arr, return_counts=True)\n",
        "    lookup: dict[int,float] = dict(zip(numbers, counts/len(arr)))\n",
        "    \n",
        "    #Create an empty array of size max_value\n",
        "    out = np.zeros((max_value+1,))\n",
        "    for i in range(max_value+1):\n",
        "        out[i] = out[i-1]+lookup.get(i, 0)\n",
        "    return out\n",
        "\n",
        "proportion_at_most(arr=[1,2,4,2,6], max_value = 7)"
      ]
    },
    {
      "cell_type": "code",
      "source": [
        "tm = transition_matrix(20)\n",
        "arr = [hitting_time_1_walk(tm, 0, 19) for _ in tqdm(range(200))]"
      ],
      "metadata": {
        "id": "rgeeZQhwcbU_",
        "colab": {
          "base_uri": "https://localhost:8080/",
          "height": 49,
          "referenced_widgets": [
            "c0d0d12a85e449a088a891356c58df9d",
            "d49105f6bdf34ce0b48bd23a6a818717",
            "f81b8b56a0ec4beea96e7dd27142988d",
            "8fbd0cf244be44c9b58637dc356768c9",
            "4f888e15066c468b847bd0be97259213",
            "9cfb61cdbb3b4e3b999b27a43e67f9bf",
            "0bad9f4e442040bfb4855c7b92599014",
            "cb5c0435cadc426c93850340a9be992e",
            "2cf356c041374dec98f8c6246d59476f",
            "83c02007b2b046cea7a8e520c3a3616c",
            "a933cae4a69147a7a4da4b99095712e7"
          ]
        },
        "outputId": "7e7244b6-4d55-4eb8-b619-aa7ec5af1f76"
      },
      "execution_count": null,
      "outputs": [
        {
          "output_type": "display_data",
          "data": {
            "text/plain": [
              "  0%|          | 0/200 [00:00<?, ?it/s]"
            ],
            "application/vnd.jupyter.widget-view+json": {
              "version_major": 2,
              "version_minor": 0,
              "model_id": "c0d0d12a85e449a088a891356c58df9d"
            }
          },
          "metadata": {}
        }
      ]
    },
    {
      "cell_type": "code",
      "source": [
        "proportion = proportion_at_most(arr=arr, max_value = 2000)"
      ],
      "metadata": {
        "id": "Y_YSDyEvdD1Z"
      },
      "execution_count": null,
      "outputs": []
    },
    {
      "cell_type": "code",
      "source": [
        "p0 = np.zeros(20)\n",
        "p0[0] = 1\n",
        "theoretical_p = [propagate(p0,i,tm)[-1] for i in tqdm(range(0, 2000))]"
      ],
      "metadata": {
        "colab": {
          "base_uri": "https://localhost:8080/",
          "height": 49,
          "referenced_widgets": [
            "7758991a3c2f4e30b9fdd6e3b4be4579",
            "2b4c24f3e7b545429224825c35a2aab2",
            "220eaa8a2d1549b2b0988033aada4308",
            "7362b3dd9e964ee28f7c294584285364",
            "561c94e6c195499681f00b8c42709793",
            "f5d236b5aa564ba3a8f034f653e722df",
            "ae5d221750e84ad282a266c797d28530",
            "5aee403f825b41f5bc754abc2f53c308",
            "1abf3bd15fc84ce18aabd431ae7ed031",
            "64a9b8125dfd4e068f59f8a0c8fe0e7f",
            "11c3dd5ccc9d4434b4b673e68f6c01dc"
          ]
        },
        "id": "CSBoHmb0eAis",
        "outputId": "0faa9158-cf14-4718-e407-1ff2cc8404ce"
      },
      "execution_count": null,
      "outputs": [
        {
          "output_type": "display_data",
          "data": {
            "text/plain": [
              "  0%|          | 0/2000 [00:00<?, ?it/s]"
            ],
            "application/vnd.jupyter.widget-view+json": {
              "version_major": 2,
              "version_minor": 0,
              "model_id": "7758991a3c2f4e30b9fdd6e3b4be4579"
            }
          },
          "metadata": {}
        }
      ]
    },
    {
      "cell_type": "code",
      "source": [
        "plt.plot(theoretical_p, label='True probability')\n",
        "plt.plot(proportion, label='Estimated probability')\n",
        "plt.legend()\n",
        "plt.savefig('qsn5.png')"
      ],
      "metadata": {
        "colab": {
          "base_uri": "https://localhost:8080/",
          "height": 265
        },
        "id": "lo9H-BHke7Ml",
        "outputId": "2d91938d-d1dc-4b23-918c-667ec604dbec"
      },
      "execution_count": null,
      "outputs": [
        {
          "output_type": "display_data",
          "data": {
            "text/plain": [
              "<Figure size 432x288 with 1 Axes>"
            ],
            "image/png": "[encoded data removed]"
          },
          "metadata": {
            "needs_background": "light"
          }
        }
      ]
    },
    {
      "cell_type": "markdown",
      "metadata": {
        "id": "Bm-rckAQoRgY"
      },
      "source": [
        "## Question 6\n",
        "We will now move away from Markov chains and look towards another use of linear algebra and graphs: clustering algorithms. More specifically, in this exercise we will implement a simple spectral clustering algorithm: we will demonstrate this this algorithm works on a classic synthetic dataset: the 'nested moons' dataset. We will first generate this dataset and identify the ground truth clustering we seek to find. "
      ]
    },
    {
      "cell_type": "code",
      "execution_count": null,
      "metadata": {
        "id": "cTXoe61loRgY",
        "colab": {
          "base_uri": "https://localhost:8080/",
          "height": 282
        },
        "outputId": "e7fc6d4f-4033-4e6d-c085-9470ef1bcc1f"
      },
      "outputs": [
        {
          "output_type": "execute_result",
          "data": {
            "text/plain": [
              "<matplotlib.legend.Legend at 0x7f169fbf1e90>"
            ]
          },
          "metadata": {},
          "execution_count": 21
        },
        {
          "output_type": "display_data",
          "data": {
            "text/plain": [
              "<Figure size 432x288 with 1 Axes>"
            ],
            "image/png": "[encoded data removed]"
          },
          "metadata": {
            "needs_background": "light"
          }
        }
      ],
      "source": [
        "import sklearn.datasets\n",
        "\n",
        "n = 1000\n",
        "X,y = sklearn.datasets.make_moons(n,noise=0.05, random_state = 0)\n",
        "\n",
        "plt.scatter(X[y==0, 0], X[y==0, 1],label=\"True Cluster 1\")\n",
        "plt.scatter(X[y==1, 0], X[y==1, 1],label=\"True Cluster 2\")\n",
        "    \n",
        "    \n",
        "plt.legend()"
      ]
    },
    {
      "cell_type": "markdown",
      "metadata": {
        "id": "93XdMA-foRgY"
      },
      "source": [
        "This dataset consists of $n=1000$ data points in 2-dimensional space. While it seems obvious to our eyes that a good partition of the data exists, many off-the-shelf clustering algorithms fail to fully identify the clusters on this dataset. As an example, here is how the standard K-means clustering algorithm fares on this dataset (we will see more examples of clustering in Lecture 7 when we cover Scikit-learn)."
      ]
    },
    {
      "cell_type": "code",
      "execution_count": null,
      "metadata": {
        "id": "UwlU1rlaoRgY",
        "colab": {
          "base_uri": "https://localhost:8080/",
          "height": 282
        },
        "outputId": "f0eac117-8248-44fd-a3fd-592f467f5057"
      },
      "outputs": [
        {
          "output_type": "execute_result",
          "data": {
            "text/plain": [
              "<matplotlib.legend.Legend at 0x7f169f7f7f10>"
            ]
          },
          "metadata": {},
          "execution_count": 22
        },
        {
          "output_type": "display_data",
          "data": {
            "text/plain": [
              "<Figure size 432x288 with 1 Axes>"
            ],
            "image/png": "[encoded data removed]"
          },
          "metadata": {
            "needs_background": "light"
          }
        }
      ],
      "source": [
        "from sklearn.cluster import KMeans\n",
        "\n",
        "model = KMeans(n_clusters=2, random_state=0)\n",
        "kmeans_labels = model.fit(X).labels_\n",
        "\n",
        "plt.scatter(X[kmeans_labels==0, 0], X[kmeans_labels==0, 1],label=\"K-Means Cluster 1\")\n",
        "plt.scatter(X[kmeans_labels==1, 0], X[kmeans_labels==1, 1],label=\"K-Means Cluster 2\")\n",
        "    \n",
        "    \n",
        "plt.legend()"
      ]
    },
    {
      "cell_type": "markdown",
      "metadata": {
        "id": "q2_BAVMQoRgY"
      },
      "source": [
        "### part (a)\n",
        "$\\newcommand{\\norm}[1]{\\left\\lVert#1\\right\\rVert}$\n",
        "In this exercise, we will implement a basic spectral clustering algorithm which will correctly identify the clusters on this dataset. To begin, we will need to form an \"affinity matrix\": the $(i,j)$ entry of this matrix indicates how close together the $i^{th}$ and $j^{th}$ data points are in space. \n",
        "\n",
        "Let $x_i$ denote the $i^{th}$ point in the data set. Form an $n \\times n$ matrix $A$ where $A_{ij} = e^{-10 \\norm{x_i - x_j}}$ (this constant of $10$ is chosen because it gives good results for this task: it may be tuned in practice). (Here, $\\norm{x_i - x_j}$ is the vector $2$-norm of the difference between $x_i$ and $x_j$.) If you did this correctly, the minimum value in $A$ should be `1.679177168057234e-14`.\n"
      ]
    },
    {
      "cell_type": "code",
      "execution_count": null,
      "metadata": {
        "id": "ckpBgHCmoRgY"
      },
      "outputs": [],
      "source": [
        "#YOUR CODE HERE\n",
        "from scipy.spatial   import distance\n",
        "A = distance.cdist(X, X, metric=lambda u, v: np.exp(-10*np.linalg.norm(u-v)))"
      ]
    },
    {
      "cell_type": "code",
      "source": [
        "A.min()"
      ],
      "metadata": {
        "colab": {
          "base_uri": "https://localhost:8080/"
        },
        "id": "nID_1HPzAbvj",
        "outputId": "05fb7842-af1c-41a9-e381-17af45b1cd6d"
      },
      "execution_count": null,
      "outputs": [
        {
          "output_type": "execute_result",
          "data": {
            "text/plain": [
              "1.679177168057234e-14"
            ]
          },
          "metadata": {},
          "execution_count": 39
        }
      ]
    },
    {
      "cell_type": "markdown",
      "metadata": {
        "id": "dXLWCQa3oRgZ"
      },
      "source": [
        "With this, we generate a [Laplacian matrix](https://www.cs.yale.edu/homes/spielman/561/2012/lect02-12.pdf). We do this in two steps: we first construct a diagonal matrix $D$ which contains the row sums of $A$ on its diagonal, and then we create the Laplacian $L = D- A$.  "
      ]
    },
    {
      "cell_type": "code",
      "execution_count": null,
      "metadata": {
        "id": "jee1b2V4oRgZ"
      },
      "outputs": [],
      "source": [
        "D =  np.diag(A.sum(axis=0))\n",
        "L = D-A"
      ]
    },
    {
      "cell_type": "markdown",
      "metadata": {
        "id": "lvrM-N13oRgZ"
      },
      "source": [
        "The algorithmic task behind spectral clustering algorithms is to find the eigenvector associated with *second smallest* eigenvalue of the matrix $L$. (All eigenvalues of $L$ are positive, and it is a simple exercise to show that the all-ones vector is an eigenvector of $L$ with eigenvalue $0.$) As we will later see, the entries of this vector will enable us to identify the partition in our original dataset. We will build up to this functionality in stages. \n",
        "\n",
        "We begin by writing a linear system solver for the matrix $L$. We will use an adaptation of [Richardson iteration](https://en.wikipedia.org/wiki/Modified_Richardson_iteration) to do this task: the pseudocode for this is given below. \n",
        "\n",
        "```\n",
        "    input) L: an n x n Laplacian matrix, b: an n x 1 vector with entries summing to 0, T: number of iterations\n",
        "    outputs) x: n x 1 vector approximately satisfying Lx =b.\n",
        "\n",
        "    x <- all-zeros vector\n",
        "    steplength = 0.03\n",
        "    for i = 0,1,2,...,T-1:\n",
        "        residual <- b - L*x\n",
        "        x <- x + steplength*residual\n",
        "```\n",
        "\n",
        "Write a function `richardson(L,b,T=500)` which implements the algorithm given above. (Note that the `steplength` parameter of $0.03$ may be optimized slightly, but this value gives good performance for solving linear systems in the Laplacian defined earlier.)"
      ]
    },
    {
      "cell_type": "code",
      "execution_count": null,
      "metadata": {
        "id": "ZsFguu6loRgZ"
      },
      "outputs": [],
      "source": [
        "#YOUR CODE HERE\n",
        "def richardson(L,b,T=500): #in our later code, we will run for T = 500 iterations\n",
        "    x = np.zeros(L.shape[0])\n",
        "    steplength = 0.03\n",
        "    for i in range(T):\n",
        "        residual = b - L @ x\n",
        "        x += steplength * residual\n",
        "    return x"
      ]
    },
    {
      "cell_type": "markdown",
      "metadata": {
        "id": "kqdYmOYQoRgZ"
      },
      "source": [
        "### part (b)\n",
        "\n",
        "While the Richardson iteration above works well on small problems, it converges slowly on larger instances. This is especially true for our Laplacian linear system: the norm of our residual error may remain higher than $10^{-4}$ even after 1000 iterations. To address this issue, we will implement a version of [Nesterov acceleration](https://calculus.subwiki.org/wiki/Nesterov%27s_gradient_acceleration) to improve the convergence of this procedure. The pseudocode for this algorithm is given below: \n",
        "\n",
        "\n",
        "```\n",
        "    input) L: an n x n Laplacian matrix, b: an n x 1 vector with entries summing to 0, tol: error tolerance\n",
        "    outputs) x_T: n x 1 vector approximately satisfying Lx =b.\n",
        "\n",
        "    x_0, y_0 <- all-zeros vector\n",
        "    steplength = 0.03\n",
        "    alpha = 0.9\n",
        "    for i = 0, 1, ... T-1:\n",
        "        x_{i+1} <- y_i + steplength*(b - L*y_i)\n",
        "        y_{i+1} = x_{i+1} + alpha*(x_{i+1} - x_i)\n",
        "        i = i + 1\n",
        "```\n",
        "\n",
        "\n",
        "Here the index $i$ denotes the index of iteration: $y_1$ is a different $n$-dimensional vector to $y_0$ (and likewise with $x$). It does not indicate It may be helpful to un-roll the for loop to see the vectors it defines: if $\\eta$ is the steplength, we see\n",
        "\n",
        "\\begin{align*}\n",
        "x_1 = y_0 + \\eta(b- L y_0) \\\\\n",
        "y_1 = x_1 + \\alpha (x_1 - x_0) \\\\\n",
        "x_2 = y_1 + \\eta (b- L y_1) \\\\\n",
        "y_2 = x_2 + \\alpha (x_2 - x_1) \\\\\n",
        "x_3 = y_2 + \\eta (b- L y_2) \\\\\n",
        "y_3 = x_3 + \\alpha (x_3 - x_2)\n",
        "\\end{align*}\n",
        "\n",
        "and so on. We see that the vector $x_1$ defined on the first line is used to define both $y_1$ on the second line and $y_2$ on the fourth line. You should think of the algorithm as constructing two sequences of vectors $x_i$ and $y_i$: each $x$ vector is a function of the previous $y$ vector, but each $y$ vector is a function of the previous **two** $x$ vectors. You may find it helpful to store two different $x$ vectors (called $x_{current}$ and $x_{old}$ for example) to implement the algorithm.\n",
        "\n",
        "(For those interested in the justification of this procedure, solving the linear equations $Lx = b$ is equivalent to finding the minimizing $x$ for the quadratic $\\frac{1}{2} x^\\top L x - b^\\top x$. In the pseudocode, we apply the Nesterov accelerated gradient method to this problem. The constants of `alpha` and `steplength` can again be slightly improved, but these give good performance for our Laplacian)\n",
        "\n",
        "Write a function `agd(L,b,T=500)` to implement the above pseudocode. "
      ]
    },
    {
      "cell_type": "code",
      "execution_count": null,
      "metadata": {
        "id": "JL7hXQ9goRgZ"
      },
      "outputs": [],
      "source": [
        "#YOUR CODE HERE\n",
        "def agd(L,b,T=500):\n",
        "    x, y = np.zeros((2, L.shape[0]))\n",
        "    steplength = 0.03\n",
        "    alpha = 0.9\n",
        "    for i in range(T):\n",
        "        x_prev = x\n",
        "        x = y + steplength * (b - L @ y)\n",
        "        y = x + alpha * (x - x_prev)\n",
        "    return x"
      ]
    },
    {
      "cell_type": "code",
      "execution_count": null,
      "metadata": {
        "id": "5pRk47qMoRgZ"
      },
      "outputs": [],
      "source": [
        "#TESTING-- try using Richardson and AGD to solve the linear system Lx = v\n",
        "n = 1000\n",
        "np.random.seed(0)\n",
        "v = np.random.rand(n)\n",
        "v -= np.sum(v)/n\n",
        "\n",
        "x = richardson(L, v)\n",
        "x = agd(L, v)"
      ]
    },
    {
      "cell_type": "markdown",
      "metadata": {
        "id": "JYnZNSO-oRgZ"
      },
      "source": [
        "If you did this correctly, you will see that the Nesterov acceleration method converges dramatically faster than Richardson iteration. \n",
        "\n",
        "We will now try to quantify this effect. Modify your implementations of `richardson` and `agd` to additionally return an array containing $\\norm{L x_i - b}$ for each $x_i$ encountered during the while loop of the algorithm. Compare these on a semilogy plot, and label your curves appropriately. Save the figure as `qsn6b.png`. "
      ]
    },
    {
      "cell_type": "code",
      "execution_count": null,
      "metadata": {
        "id": "vf0HElpgoRgZ",
        "colab": {
          "base_uri": "https://localhost:8080/",
          "height": 265
        },
        "outputId": "a1190bc5-9c20-4efb-8ed6-15ff2ee5c823"
      },
      "outputs": [
        {
          "output_type": "display_data",
          "data": {
            "text/plain": [
              "<Figure size 432x288 with 1 Axes>"
            ],
            "image/png": "[encoded data removed]"
          },
          "metadata": {
            "needs_background": "light"
          }
        }
      ],
      "source": [
        "#YOUR CODE HERE\n",
        "def richardson(L,b,T=500): #in our later code, we will run for T = 500 iterations\n",
        "    x = np.zeros(L.shape[0])\n",
        "    error = np.zeros((T,))\n",
        "    steplength = 0.03\n",
        "    for i in range(T):\n",
        "        residual = b - L @ x\n",
        "        x += steplength * residual\n",
        "        error[i] = np.linalg.norm(L@x-b)\n",
        "    return x, error\n",
        "\n",
        "def agd(L,b,T=500):\n",
        "    error = np.zeros((T,))\n",
        "    x, y = np.zeros((2, L.shape[0]))\n",
        "    steplength = 0.03\n",
        "    alpha = 0.9\n",
        "    for i in range(T):\n",
        "        x_prev = x\n",
        "        x = y + steplength * (b - L @ y)\n",
        "        y = x + alpha * (x - x_prev)\n",
        "        error[i] = np.linalg.norm(L@x-b)\n",
        "    return x, error\n",
        "\n",
        "_, error_ric = richardson(L, v)\n",
        "_, error_agd = agd(L, v)\n",
        "\n",
        "plt.plot(error_ric, label='Eichardson')\n",
        "plt.plot(error_agd, label='AGD')\n",
        "plt.legend()\n",
        "plt.savefig('qsn6b.png')"
      ]
    },
    {
      "cell_type": "markdown",
      "metadata": {
        "id": "bDpOw10uoRga"
      },
      "source": [
        "### part (c)\n",
        "\n",
        "\n",
        "We are finally ready to apply our linear system solver to spectral clustering. We do this via a modification of the power method from Lecture 4. We provide the pseudocode for this method below:\n",
        "\n",
        "```\n",
        "    input) L: an n x n Laplacian matrix, iters: number of iterations\n",
        "    outputs) l: the second-smallest eigenvalue of L\n",
        "             v: the corresponding eigenvector\n",
        "\n",
        "    v <- random vector of length n\n",
        "    v <-  v - sum(v)/n \n",
        "    #this ensures v is orthogonal to the all-ones vector (the smallest eigenvalue of L) \n",
        "    for i = 0,1,2...iters-1: \n",
        "        v <- x solving the equation L*x = v\n",
        "        v <-  v - sum(v)/n \n",
        "        #this ensures v is orthogonal to the all-ones vector (the smallest eigenvalue of L) \n",
        "        v <- v / ||v||_2\n",
        "        l <- v^T L v\n",
        "```\n",
        "\n",
        "Here, `||v||_2` denotes the vector $2$-norm (there is a function in numpy to compute this). Write a function `pow_method(L,iters=20)` which implements the above pseudocode and solves the linear systems using your `agd` implementation from part (b). "
      ]
    },
    {
      "cell_type": "code",
      "execution_count": null,
      "metadata": {
        "id": "GkbVjgUIoRga"
      },
      "outputs": [],
      "source": [
        "def pow_method(L,iters=20):\n",
        "    n = L.shape[0]\n",
        "    v = np.random.normal((n,))\n",
        "    v -= np.sum(v)/n\n",
        "    for i in range(iters):\n",
        "        v,_ = richardson(L, v)\n",
        "        v -= np.sum(v)/n\n",
        "        v = v / np.linalg.norm(v)\n",
        "    l = v.T @ L @ v\n",
        "    return l, v\n",
        "\n",
        "l, v = pow_method(L)"
      ]
    },
    {
      "cell_type": "markdown",
      "metadata": {
        "id": "2KDlV6OHoRga"
      },
      "source": [
        "For the matrix $L$ in the problem, the eigenvalue you obtain should be between $0.1$ and $0.2$. \n",
        "\n",
        "We are finally ready to implement spectral clustering. To do this, use the function `np.argsort` to identify the indices of the largest $500$ entries from $v$. These will (hopefully) correspond to the elements of one of the clusters in our dataset. Additionally, compute the indices of the smallest $500$ entries of $v$: these will give the datapoints belonging to the other cluster. \n",
        "\n",
        "Modify the plotting code from the K-means example from earlier to display the computed spectral clusters of our input data. Label your plot appropriately, and save the figure as `qsn6c.png`."
      ]
    },
    {
      "cell_type": "code",
      "execution_count": null,
      "metadata": {
        "id": "7jh_eSIhoRga",
        "colab": {
          "base_uri": "https://localhost:8080/",
          "height": 265
        },
        "outputId": "dbda88f7-6c9b-4b06-b3bc-d5d847520267"
      },
      "outputs": [
        {
          "output_type": "display_data",
          "data": {
            "text/plain": [
              "<Figure size 432x288 with 1 Axes>"
            ],
            "image/png": "[encoded data removed]"
          },
          "metadata": {
            "needs_background": "light"
          }
        }
      ],
      "source": [
        "#YOUR CODE HERE\n",
        "\n",
        "cluster1_idxs, cluster2_idxs = np.argsort(v).reshape((2, int(v.shape[0]/2)))\n",
        "\n",
        "plt.scatter(X[cluster1_idxs, 0], X[cluster1_idxs, 1],label=\"K-Means Cluster 1\")\n",
        "plt.scatter(X[cluster2_idxs, 0], X[cluster2_idxs, 1],label=\"K-Means Cluster 2\")\n",
        "\n",
        "plt.legend()\n",
        "plt.savefig('qsn6c.png')"
      ]
    },
    {
      "cell_type": "markdown",
      "metadata": {
        "id": "aaMnn3DKoRga"
      },
      "source": [
        "# Submission Instructions\n",
        "\n",
        "You need to submit the following in canvas\n",
        "1. This notebook with the code filled in for each question\n",
        "2. The figures\n",
        "    1. qsn3.png\n",
        "    2. qsn4c.png and qsn4c_semilogy.png\n",
        "    3. qsn5.png\n",
        "    4. qsn6b.png\n",
        "    5. qsn6c.png"
      ]
    }
  ],
  "metadata": {
    "kernelspec": {
      "display_name": "Python 3",
      "language": "python",
      "name": "python3"
    },
    "language_info": {
      "codemirror_mode": {
        "name": "ipython",
        "version": 3
      },
      "file_extension": ".py",
      "mimetype": "text/x-python",
      "name": "python",
      "nbconvert_exporter": "python",
      "pygments_lexer": "ipython3",
      "version": "3.7.3"
    },
    "colab": {
      "name": "SciProgramming - Assignment1 - Volkan/Nida.ipynb",
      "provenance": [],
      "collapsed_sections": []
    },
    "widgets": {
      "application/vnd.jupyter.widget-state+json": {
        "36388d0549b14f089c7b6c7c9c3bc363": {
          "model_module": "@jupyter-widgets/controls",
          "model_name": "HBoxModel",
          "model_module_version": "1.5.0",
          "state": {
            "_dom_classes": [],
            "_model_module": "@jupyter-widgets/controls",
            "_model_module_version": "1.5.0",
            "_model_name": "HBoxModel",
            "_view_count": null,
            "_view_module": "@jupyter-widgets/controls",
            "_view_module_version": "1.5.0",
            "_view_name": "HBoxView",
            "box_style": "",
            "children": [
              "IPY_MODEL_f4dfe4033ad546609eee687f9dcaa846",
              "IPY_MODEL_4912154f9c3c450e990838815b04ad4a",
              "IPY_MODEL_d40b6b6587714daf8a875d0e69305bde"
            ],
            "layout": "IPY_MODEL_91dcad89f16d4c5aa5311a72fcbb7bb2"
          }
        },
        "f4dfe4033ad546609eee687f9dcaa846": {
          "model_module": "@jupyter-widgets/controls",
          "model_name": "HTMLModel",
          "model_module_version": "1.5.0",
          "state": {
            "_dom_classes": [],
            "_model_module": "@jupyter-widgets/controls",
            "_model_module_version": "1.5.0",
            "_model_name": "HTMLModel",
            "_view_count": null,
            "_view_module": "@jupyter-widgets/controls",
            "_view_module_version": "1.5.0",
            "_view_name": "HTMLView",
            "description": "",
            "description_tooltip": null,
            "layout": "IPY_MODEL_e24124b08d634db4ad2634234007170b",
            "placeholder": "​",
            "style": "IPY_MODEL_6321607221ae4a618a2270a4c5a725a0",
            "value": "100%"
          }
        },
        "4912154f9c3c450e990838815b04ad4a": {
          "model_module": "@jupyter-widgets/controls",
          "model_name": "FloatProgressModel",
          "model_module_version": "1.5.0",
          "state": {
            "_dom_classes": [],
            "_model_module": "@jupyter-widgets/controls",
            "_model_module_version": "1.5.0",
            "_model_name": "FloatProgressModel",
            "_view_count": null,
            "_view_module": "@jupyter-widgets/controls",
            "_view_module_version": "1.5.0",
            "_view_name": "ProgressView",
            "bar_style": "success",
            "description": "",
            "description_tooltip": null,
            "layout": "IPY_MODEL_97994484f62e42ebb8256f3ac7c82141",
            "max": 31,
            "min": 0,
            "orientation": "horizontal",
            "style": "IPY_MODEL_2f9b1c2a0e07467e8cbfc62ba33ea6f7",
            "value": 31
          }
        },
        "d40b6b6587714daf8a875d0e69305bde": {
          "model_module": "@jupyter-widgets/controls",
          "model_name": "HTMLModel",
          "model_module_version": "1.5.0",
          "state": {
            "_dom_classes": [],
            "_model_module": "@jupyter-widgets/controls",
            "_model_module_version": "1.5.0",
            "_model_name": "HTMLModel",
            "_view_count": null,
            "_view_module": "@jupyter-widgets/controls",
            "_view_module_version": "1.5.0",
            "_view_name": "HTMLView",
            "description": "",
            "description_tooltip": null,
            "layout": "IPY_MODEL_a03ecaba0495438898492ff907e3f088",
            "placeholder": "​",
            "style": "IPY_MODEL_4ca424d159304aeb832f846b64b28af3",
            "value": " 31/31 [00:28&lt;00:00,  1.77s/it]"
          }
        },
        "91dcad89f16d4c5aa5311a72fcbb7bb2": {
          "model_module": "@jupyter-widgets/base",
          "model_name": "LayoutModel",
          "model_module_version": "1.2.0",
          "state": {
            "_model_module": "@jupyter-widgets/base",
            "_model_module_version": "1.2.0",
            "_model_name": "LayoutModel",
            "_view_count": null,
            "_view_module": "@jupyter-widgets/base",
            "_view_module_version": "1.2.0",
            "_view_name": "LayoutView",
            "align_content": null,
            "align_items": null,
            "align_self": null,
            "border": null,
            "bottom": null,
            "display": null,
            "flex": null,
            "flex_flow": null,
            "grid_area": null,
            "grid_auto_columns": null,
            "grid_auto_flow": null,
            "grid_auto_rows": null,
            "grid_column": null,
            "grid_gap": null,
            "grid_row": null,
            "grid_template_areas": null,
            "grid_template_columns": null,
            "grid_template_rows": null,
            "height": null,
            "justify_content": null,
            "justify_items": null,
            "left": null,
            "margin": null,
            "max_height": null,
            "max_width": null,
            "min_height": null,
            "min_width": null,
            "object_fit": null,
            "object_position": null,
            "order": null,
            "overflow": null,
            "overflow_x": null,
            "overflow_y": null,
            "padding": null,
            "right": null,
            "top": null,
            "visibility": null,
            "width": null
          }
        },
        "e24124b08d634db4ad2634234007170b": {
          "model_module": "@jupyter-widgets/base",
          "model_name": "LayoutModel",
          "model_module_version": "1.2.0",
          "state": {
            "_model_module": "@jupyter-widgets/base",
            "_model_module_version": "1.2.0",
            "_model_name": "LayoutModel",
            "_view_count": null,
            "_view_module": "@jupyter-widgets/base",
            "_view_module_version": "1.2.0",
            "_view_name": "LayoutView",
            "align_content": null,
            "align_items": null,
            "align_self": null,
            "border": null,
            "bottom": null,
            "display": null,
            "flex": null,
            "flex_flow": null,
            "grid_area": null,
            "grid_auto_columns": null,
            "grid_auto_flow": null,
            "grid_auto_rows": null,
            "grid_column": null,
            "grid_gap": null,
            "grid_row": null,
            "grid_template_areas": null,
            "grid_template_columns": null,
            "grid_template_rows": null,
            "height": null,
            "justify_content": null,
            "justify_items": null,
            "left": null,
            "margin": null,
            "max_height": null,
            "max_width": null,
            "min_height": null,
            "min_width": null,
            "object_fit": null,
            "object_position": null,
            "order": null,
            "overflow": null,
            "overflow_x": null,
            "overflow_y": null,
            "padding": null,
            "right": null,
            "top": null,
            "visibility": null,
            "width": null
          }
        },
        "6321607221ae4a618a2270a4c5a725a0": {
          "model_module": "@jupyter-widgets/controls",
          "model_name": "DescriptionStyleModel",
          "model_module_version": "1.5.0",
          "state": {
            "_model_module": "@jupyter-widgets/controls",
            "_model_module_version": "1.5.0",
            "_model_name": "DescriptionStyleModel",
            "_view_count": null,
            "_view_module": "@jupyter-widgets/base",
            "_view_module_version": "1.2.0",
            "_view_name": "StyleView",
            "description_width": ""
          }
        },
        "97994484f62e42ebb8256f3ac7c82141": {
          "model_module": "@jupyter-widgets/base",
          "model_name": "LayoutModel",
          "model_module_version": "1.2.0",
          "state": {
            "_model_module": "@jupyter-widgets/base",
            "_model_module_version": "1.2.0",
            "_model_name": "LayoutModel",
            "_view_count": null,
            "_view_module": "@jupyter-widgets/base",
            "_view_module_version": "1.2.0",
            "_view_name": "LayoutView",
            "align_content": null,
            "align_items": null,
            "align_self": null,
            "border": null,
            "bottom": null,
            "display": null,
            "flex": null,
            "flex_flow": null,
            "grid_area": null,
            "grid_auto_columns": null,
            "grid_auto_flow": null,
            "grid_auto_rows": null,
            "grid_column": null,
            "grid_gap": null,
            "grid_row": null,
            "grid_template_areas": null,
            "grid_template_columns": null,
            "grid_template_rows": null,
            "height": null,
            "justify_content": null,
            "justify_items": null,
            "left": null,
            "margin": null,
            "max_height": null,
            "max_width": null,
            "min_height": null,
            "min_width": null,
            "object_fit": null,
            "object_position": null,
            "order": null,
            "overflow": null,
            "overflow_x": null,
            "overflow_y": null,
            "padding": null,
            "right": null,
            "top": null,
            "visibility": null,
            "width": null
          }
        },
        "2f9b1c2a0e07467e8cbfc62ba33ea6f7": {
          "model_module": "@jupyter-widgets/controls",
          "model_name": "ProgressStyleModel",
          "model_module_version": "1.5.0",
          "state": {
            "_model_module": "@jupyter-widgets/controls",
            "_model_module_version": "1.5.0",
            "_model_name": "ProgressStyleModel",
            "_view_count": null,
            "_view_module": "@jupyter-widgets/base",
            "_view_module_version": "1.2.0",
            "_view_name": "StyleView",
            "bar_color": null,
            "description_width": ""
          }
        },
        "a03ecaba0495438898492ff907e3f088": {
          "model_module": "@jupyter-widgets/base",
          "model_name": "LayoutModel",
          "model_module_version": "1.2.0",
          "state": {
            "_model_module": "@jupyter-widgets/base",
            "_model_module_version": "1.2.0",
            "_model_name": "LayoutModel",
            "_view_count": null,
            "_view_module": "@jupyter-widgets/base",
            "_view_module_version": "1.2.0",
            "_view_name": "LayoutView",
            "align_content": null,
            "align_items": null,
            "align_self": null,
            "border": null,
            "bottom": null,
            "display": null,
            "flex": null,
            "flex_flow": null,
            "grid_area": null,
            "grid_auto_columns": null,
            "grid_auto_flow": null,
            "grid_auto_rows": null,
            "grid_column": null,
            "grid_gap": null,
            "grid_row": null,
            "grid_template_areas": null,
            "grid_template_columns": null,
            "grid_template_rows": null,
            "height": null,
            "justify_content": null,
            "justify_items": null,
            "left": null,
            "margin": null,
            "max_height": null,
            "max_width": null,
            "min_height": null,
            "min_width": null,
            "object_fit": null,
            "object_position": null,
            "order": null,
            "overflow": null,
            "overflow_x": null,
            "overflow_y": null,
            "padding": null,
            "right": null,
            "top": null,
            "visibility": null,
            "width": null
          }
        },
        "4ca424d159304aeb832f846b64b28af3": {
          "model_module": "@jupyter-widgets/controls",
          "model_name": "DescriptionStyleModel",
          "model_module_version": "1.5.0",
          "state": {
            "_model_module": "@jupyter-widgets/controls",
            "_model_module_version": "1.5.0",
            "_model_name": "DescriptionStyleModel",
            "_view_count": null,
            "_view_module": "@jupyter-widgets/base",
            "_view_module_version": "1.2.0",
            "_view_name": "StyleView",
            "description_width": ""
          }
        },
        "c0d0d12a85e449a088a891356c58df9d": {
          "model_module": "@jupyter-widgets/controls",
          "model_name": "HBoxModel",
          "model_module_version": "1.5.0",
          "state": {
            "_dom_classes": [],
            "_model_module": "@jupyter-widgets/controls",
            "_model_module_version": "1.5.0",
            "_model_name": "HBoxModel",
            "_view_count": null,
            "_view_module": "@jupyter-widgets/controls",
            "_view_module_version": "1.5.0",
            "_view_name": "HBoxView",
            "box_style": "",
            "children": [
              "IPY_MODEL_d49105f6bdf34ce0b48bd23a6a818717",
              "IPY_MODEL_f81b8b56a0ec4beea96e7dd27142988d",
              "IPY_MODEL_8fbd0cf244be44c9b58637dc356768c9"
            ],
            "layout": "IPY_MODEL_4f888e15066c468b847bd0be97259213"
          }
        },
        "d49105f6bdf34ce0b48bd23a6a818717": {
          "model_module": "@jupyter-widgets/controls",
          "model_name": "HTMLModel",
          "model_module_version": "1.5.0",
          "state": {
            "_dom_classes": [],
            "_model_module": "@jupyter-widgets/controls",
            "_model_module_version": "1.5.0",
            "_model_name": "HTMLModel",
            "_view_count": null,
            "_view_module": "@jupyter-widgets/controls",
            "_view_module_version": "1.5.0",
            "_view_name": "HTMLView",
            "description": "",
            "description_tooltip": null,
            "layout": "IPY_MODEL_9cfb61cdbb3b4e3b999b27a43e67f9bf",
            "placeholder": "​",
            "style": "IPY_MODEL_0bad9f4e442040bfb4855c7b92599014",
            "value": "100%"
          }
        },
        "f81b8b56a0ec4beea96e7dd27142988d": {
          "model_module": "@jupyter-widgets/controls",
          "model_name": "FloatProgressModel",
          "model_module_version": "1.5.0",
          "state": {
            "_dom_classes": [],
            "_model_module": "@jupyter-widgets/controls",
            "_model_module_version": "1.5.0",
            "_model_name": "FloatProgressModel",
            "_view_count": null,
            "_view_module": "@jupyter-widgets/controls",
            "_view_module_version": "1.5.0",
            "_view_name": "ProgressView",
            "bar_style": "success",
            "description": "",
            "description_tooltip": null,
            "layout": "IPY_MODEL_cb5c0435cadc426c93850340a9be992e",
            "max": 200,
            "min": 0,
            "orientation": "horizontal",
            "style": "IPY_MODEL_2cf356c041374dec98f8c6246d59476f",
            "value": 200
          }
        },
        "8fbd0cf244be44c9b58637dc356768c9": {
          "model_module": "@jupyter-widgets/controls",
          "model_name": "HTMLModel",
          "model_module_version": "1.5.0",
          "state": {
            "_dom_classes": [],
            "_model_module": "@jupyter-widgets/controls",
            "_model_module_version": "1.5.0",
            "_model_name": "HTMLModel",
            "_view_count": null,
            "_view_module": "@jupyter-widgets/controls",
            "_view_module_version": "1.5.0",
            "_view_name": "HTMLView",
            "description": "",
            "description_tooltip": null,
            "layout": "IPY_MODEL_83c02007b2b046cea7a8e520c3a3616c",
            "placeholder": "​",
            "style": "IPY_MODEL_a933cae4a69147a7a4da4b99095712e7",
            "value": " 200/200 [00:04&lt;00:00, 30.97it/s]"
          }
        },
        "4f888e15066c468b847bd0be97259213": {
          "model_module": "@jupyter-widgets/base",
          "model_name": "LayoutModel",
          "model_module_version": "1.2.0",
          "state": {
            "_model_module": "@jupyter-widgets/base",
            "_model_module_version": "1.2.0",
            "_model_name": "LayoutModel",
            "_view_count": null,
            "_view_module": "@jupyter-widgets/base",
            "_view_module_version": "1.2.0",
            "_view_name": "LayoutView",
            "align_content": null,
            "align_items": null,
            "align_self": null,
            "border": null,
            "bottom": null,
            "display": null,
            "flex": null,
            "flex_flow": null,
            "grid_area": null,
            "grid_auto_columns": null,
            "grid_auto_flow": null,
            "grid_auto_rows": null,
            "grid_column": null,
            "grid_gap": null,
            "grid_row": null,
            "grid_template_areas": null,
            "grid_template_columns": null,
            "grid_template_rows": null,
            "height": null,
            "justify_content": null,
            "justify_items": null,
            "left": null,
            "margin": null,
            "max_height": null,
            "max_width": null,
            "min_height": null,
            "min_width": null,
            "object_fit": null,
            "object_position": null,
            "order": null,
            "overflow": null,
            "overflow_x": null,
            "overflow_y": null,
            "padding": null,
            "right": null,
            "top": null,
            "visibility": null,
            "width": null
          }
        },
        "9cfb61cdbb3b4e3b999b27a43e67f9bf": {
          "model_module": "@jupyter-widgets/base",
          "model_name": "LayoutModel",
          "model_module_version": "1.2.0",
          "state": {
            "_model_module": "@jupyter-widgets/base",
            "_model_module_version": "1.2.0",
            "_model_name": "LayoutModel",
            "_view_count": null,
            "_view_module": "@jupyter-widgets/base",
            "_view_module_version": "1.2.0",
            "_view_name": "LayoutView",
            "align_content": null,
            "align_items": null,
            "align_self": null,
            "border": null,
            "bottom": null,
            "display": null,
            "flex": null,
            "flex_flow": null,
            "grid_area": null,
            "grid_auto_columns": null,
            "grid_auto_flow": null,
            "grid_auto_rows": null,
            "grid_column": null,
            "grid_gap": null,
            "grid_row": null,
            "grid_template_areas": null,
            "grid_template_columns": null,
            "grid_template_rows": null,
            "height": null,
            "justify_content": null,
            "justify_items": null,
            "left": null,
            "margin": null,
            "max_height": null,
            "max_width": null,
            "min_height": null,
            "min_width": null,
            "object_fit": null,
            "object_position": null,
            "order": null,
            "overflow": null,
            "overflow_x": null,
            "overflow_y": null,
            "padding": null,
            "right": null,
            "top": null,
            "visibility": null,
            "width": null
          }
        },
        "0bad9f4e442040bfb4855c7b92599014": {
          "model_module": "@jupyter-widgets/controls",
          "model_name": "DescriptionStyleModel",
          "model_module_version": "1.5.0",
          "state": {
            "_model_module": "@jupyter-widgets/controls",
            "_model_module_version": "1.5.0",
            "_model_name": "DescriptionStyleModel",
            "_view_count": null,
            "_view_module": "@jupyter-widgets/base",
            "_view_module_version": "1.2.0",
            "_view_name": "StyleView",
            "description_width": ""
          }
        },
        "cb5c0435cadc426c93850340a9be992e": {
          "model_module": "@jupyter-widgets/base",
          "model_name": "LayoutModel",
          "model_module_version": "1.2.0",
          "state": {
            "_model_module": "@jupyter-widgets/base",
            "_model_module_version": "1.2.0",
            "_model_name": "LayoutModel",
            "_view_count": null,
            "_view_module": "@jupyter-widgets/base",
            "_view_module_version": "1.2.0",
            "_view_name": "LayoutView",
            "align_content": null,
            "align_items": null,
            "align_self": null,
            "border": null,
            "bottom": null,
            "display": null,
            "flex": null,
            "flex_flow": null,
            "grid_area": null,
            "grid_auto_columns": null,
            "grid_auto_flow": null,
            "grid_auto_rows": null,
            "grid_column": null,
            "grid_gap": null,
            "grid_row": null,
            "grid_template_areas": null,
            "grid_template_columns": null,
            "grid_template_rows": null,
            "height": null,
            "justify_content": null,
            "justify_items": null,
            "left": null,
            "margin": null,
            "max_height": null,
            "max_width": null,
            "min_height": null,
            "min_width": null,
            "object_fit": null,
            "object_position": null,
            "order": null,
            "overflow": null,
            "overflow_x": null,
            "overflow_y": null,
            "padding": null,
            "right": null,
            "top": null,
            "visibility": null,
            "width": null
          }
        },
        "2cf356c041374dec98f8c6246d59476f": {
          "model_module": "@jupyter-widgets/controls",
          "model_name": "ProgressStyleModel",
          "model_module_version": "1.5.0",
          "state": {
            "_model_module": "@jupyter-widgets/controls",
            "_model_module_version": "1.5.0",
            "_model_name": "ProgressStyleModel",
            "_view_count": null,
            "_view_module": "@jupyter-widgets/base",
            "_view_module_version": "1.2.0",
            "_view_name": "StyleView",
            "bar_color": null,
            "description_width": ""
          }
        },
        "83c02007b2b046cea7a8e520c3a3616c": {
          "model_module": "@jupyter-widgets/base",
          "model_name": "LayoutModel",
          "model_module_version": "1.2.0",
          "state": {
            "_model_module": "@jupyter-widgets/base",
            "_model_module_version": "1.2.0",
            "_model_name": "LayoutModel",
            "_view_count": null,
            "_view_module": "@jupyter-widgets/base",
            "_view_module_version": "1.2.0",
            "_view_name": "LayoutView",
            "align_content": null,
            "align_items": null,
            "align_self": null,
            "border": null,
            "bottom": null,
            "display": null,
            "flex": null,
            "flex_flow": null,
            "grid_area": null,
            "grid_auto_columns": null,
            "grid_auto_flow": null,
            "grid_auto_rows": null,
            "grid_column": null,
            "grid_gap": null,
            "grid_row": null,
            "grid_template_areas": null,
            "grid_template_columns": null,
            "grid_template_rows": null,
            "height": null,
            "justify_content": null,
            "justify_items": null,
            "left": null,
            "margin": null,
            "max_height": null,
            "max_width": null,
            "min_height": null,
            "min_width": null,
            "object_fit": null,
            "object_position": null,
            "order": null,
            "overflow": null,
            "overflow_x": null,
            "overflow_y": null,
            "padding": null,
            "right": null,
            "top": null,
            "visibility": null,
            "width": null
          }
        },
        "a933cae4a69147a7a4da4b99095712e7": {
          "model_module": "@jupyter-widgets/controls",
          "model_name": "DescriptionStyleModel",
          "model_module_version": "1.5.0",
          "state": {
            "_model_module": "@jupyter-widgets/controls",
            "_model_module_version": "1.5.0",
            "_model_name": "DescriptionStyleModel",
            "_view_count": null,
            "_view_module": "@jupyter-widgets/base",
            "_view_module_version": "1.2.0",
            "_view_name": "StyleView",
            "description_width": ""
          }
        },
        "7758991a3c2f4e30b9fdd6e3b4be4579": {
          "model_module": "@jupyter-widgets/controls",
          "model_name": "HBoxModel",
          "model_module_version": "1.5.0",
          "state": {
            "_dom_classes": [],
            "_model_module": "@jupyter-widgets/controls",
            "_model_module_version": "1.5.0",
            "_model_name": "HBoxModel",
            "_view_count": null,
            "_view_module": "@jupyter-widgets/controls",
            "_view_module_version": "1.5.0",
            "_view_name": "HBoxView",
            "box_style": "",
            "children": [
              "IPY_MODEL_2b4c24f3e7b545429224825c35a2aab2",
              "IPY_MODEL_220eaa8a2d1549b2b0988033aada4308",
              "IPY_MODEL_7362b3dd9e964ee28f7c294584285364"
            ],
            "layout": "IPY_MODEL_561c94e6c195499681f00b8c42709793"
          }
        },
        "2b4c24f3e7b545429224825c35a2aab2": {
          "model_module": "@jupyter-widgets/controls",
          "model_name": "HTMLModel",
          "model_module_version": "1.5.0",
          "state": {
            "_dom_classes": [],
            "_model_module": "@jupyter-widgets/controls",
            "_model_module_version": "1.5.0",
            "_model_name": "HTMLModel",
            "_view_count": null,
            "_view_module": "@jupyter-widgets/controls",
            "_view_module_version": "1.5.0",
            "_view_name": "HTMLView",
            "description": "",
            "description_tooltip": null,
            "layout": "IPY_MODEL_f5d236b5aa564ba3a8f034f653e722df",
            "placeholder": "​",
            "style": "IPY_MODEL_ae5d221750e84ad282a266c797d28530",
            "value": "100%"
          }
        },
        "220eaa8a2d1549b2b0988033aada4308": {
          "model_module": "@jupyter-widgets/controls",
          "model_name": "FloatProgressModel",
          "model_module_version": "1.5.0",
          "state": {
            "_dom_classes": [],
            "_model_module": "@jupyter-widgets/controls",
            "_model_module_version": "1.5.0",
            "_model_name": "FloatProgressModel",
            "_view_count": null,
            "_view_module": "@jupyter-widgets/controls",
            "_view_module_version": "1.5.0",
            "_view_name": "ProgressView",
            "bar_style": "success",
            "description": "",
            "description_tooltip": null,
            "layout": "IPY_MODEL_5aee403f825b41f5bc754abc2f53c308",
            "max": 2000,
            "min": 0,
            "orientation": "horizontal",
            "style": "IPY_MODEL_1abf3bd15fc84ce18aabd431ae7ed031",
            "value": 2000
          }
        },
        "7362b3dd9e964ee28f7c294584285364": {
          "model_module": "@jupyter-widgets/controls",
          "model_name": "HTMLModel",
          "model_module_version": "1.5.0",
          "state": {
            "_dom_classes": [],
            "_model_module": "@jupyter-widgets/controls",
            "_model_module_version": "1.5.0",
            "_model_name": "HTMLModel",
            "_view_count": null,
            "_view_module": "@jupyter-widgets/controls",
            "_view_module_version": "1.5.0",
            "_view_name": "HTMLView",
            "description": "",
            "description_tooltip": null,
            "layout": "IPY_MODEL_64a9b8125dfd4e068f59f8a0c8fe0e7f",
            "placeholder": "​",
            "style": "IPY_MODEL_11c3dd5ccc9d4434b4b673e68f6c01dc",
            "value": " 2000/2000 [00:00&lt;00:00, 9754.71it/s]"
          }
        },
        "561c94e6c195499681f00b8c42709793": {
          "model_module": "@jupyter-widgets/base",
          "model_name": "LayoutModel",
          "model_module_version": "1.2.0",
          "state": {
            "_model_module": "@jupyter-widgets/base",
            "_model_module_version": "1.2.0",
            "_model_name": "LayoutModel",
            "_view_count": null,
            "_view_module": "@jupyter-widgets/base",
            "_view_module_version": "1.2.0",
            "_view_name": "LayoutView",
            "align_content": null,
            "align_items": null,
            "align_self": null,
            "border": null,
            "bottom": null,
            "display": null,
            "flex": null,
            "flex_flow": null,
            "grid_area": null,
            "grid_auto_columns": null,
            "grid_auto_flow": null,
            "grid_auto_rows": null,
            "grid_column": null,
            "grid_gap": null,
            "grid_row": null,
            "grid_template_areas": null,
            "grid_template_columns": null,
            "grid_template_rows": null,
            "height": null,
            "justify_content": null,
            "justify_items": null,
            "left": null,
            "margin": null,
            "max_height": null,
            "max_width": null,
            "min_height": null,
            "min_width": null,
            "object_fit": null,
            "object_position": null,
            "order": null,
            "overflow": null,
            "overflow_x": null,
            "overflow_y": null,
            "padding": null,
            "right": null,
            "top": null,
            "visibility": null,
            "width": null
          }
        },
        "f5d236b5aa564ba3a8f034f653e722df": {
          "model_module": "@jupyter-widgets/base",
          "model_name": "LayoutModel",
          "model_module_version": "1.2.0",
          "state": {
            "_model_module": "@jupyter-widgets/base",
            "_model_module_version": "1.2.0",
            "_model_name": "LayoutModel",
            "_view_count": null,
            "_view_module": "@jupyter-widgets/base",
            "_view_module_version": "1.2.0",
            "_view_name": "LayoutView",
            "align_content": null,
            "align_items": null,
            "align_self": null,
            "border": null,
            "bottom": null,
            "display": null,
            "flex": null,
            "flex_flow": null,
            "grid_area": null,
            "grid_auto_columns": null,
            "grid_auto_flow": null,
            "grid_auto_rows": null,
            "grid_column": null,
            "grid_gap": null,
            "grid_row": null,
            "grid_template_areas": null,
            "grid_template_columns": null,
            "grid_template_rows": null,
            "height": null,
            "justify_content": null,
            "justify_items": null,
            "left": null,
            "margin": null,
            "max_height": null,
            "max_width": null,
            "min_height": null,
            "min_width": null,
            "object_fit": null,
            "object_position": null,
            "order": null,
            "overflow": null,
            "overflow_x": null,
            "overflow_y": null,
            "padding": null,
            "right": null,
            "top": null,
            "visibility": null,
            "width": null
          }
        },
        "ae5d221750e84ad282a266c797d28530": {
          "model_module": "@jupyter-widgets/controls",
          "model_name": "DescriptionStyleModel",
          "model_module_version": "1.5.0",
          "state": {
            "_model_module": "@jupyter-widgets/controls",
            "_model_module_version": "1.5.0",
            "_model_name": "DescriptionStyleModel",
            "_view_count": null,
            "_view_module": "@jupyter-widgets/base",
            "_view_module_version": "1.2.0",
            "_view_name": "StyleView",
            "description_width": ""
          }
        },
        "5aee403f825b41f5bc754abc2f53c308": {
          "model_module": "@jupyter-widgets/base",
          "model_name": "LayoutModel",
          "model_module_version": "1.2.0",
          "state": {
            "_model_module": "@jupyter-widgets/base",
            "_model_module_version": "1.2.0",
            "_model_name": "LayoutModel",
            "_view_count": null,
            "_view_module": "@jupyter-widgets/base",
            "_view_module_version": "1.2.0",
            "_view_name": "LayoutView",
            "align_content": null,
            "align_items": null,
            "align_self": null,
            "border": null,
            "bottom": null,
            "display": null,
            "flex": null,
            "flex_flow": null,
            "grid_area": null,
            "grid_auto_columns": null,
            "grid_auto_flow": null,
            "grid_auto_rows": null,
            "grid_column": null,
            "grid_gap": null,
            "grid_row": null,
            "grid_template_areas": null,
            "grid_template_columns": null,
            "grid_template_rows": null,
            "height": null,
            "justify_content": null,
            "justify_items": null,
            "left": null,
            "margin": null,
            "max_height": null,
            "max_width": null,
            "min_height": null,
            "min_width": null,
            "object_fit": null,
            "object_position": null,
            "order": null,
            "overflow": null,
            "overflow_x": null,
            "overflow_y": null,
            "padding": null,
            "right": null,
            "top": null,
            "visibility": null,
            "width": null
          }
        },
        "1abf3bd15fc84ce18aabd431ae7ed031": {
          "model_module": "@jupyter-widgets/controls",
          "model_name": "ProgressStyleModel",
          "model_module_version": "1.5.0",
          "state": {
            "_model_module": "@jupyter-widgets/controls",
            "_model_module_version": "1.5.0",
            "_model_name": "ProgressStyleModel",
            "_view_count": null,
            "_view_module": "@jupyter-widgets/base",
            "_view_module_version": "1.2.0",
            "_view_name": "StyleView",
            "bar_color": null,
            "description_width": ""
          }
        },
        "64a9b8125dfd4e068f59f8a0c8fe0e7f": {
          "model_module": "@jupyter-widgets/base",
          "model_name": "LayoutModel",
          "model_module_version": "1.2.0",
          "state": {
            "_model_module": "@jupyter-widgets/base",
            "_model_module_version": "1.2.0",
            "_model_name": "LayoutModel",
            "_view_count": null,
            "_view_module": "@jupyter-widgets/base",
            "_view_module_version": "1.2.0",
            "_view_name": "LayoutView",
            "align_content": null,
            "align_items": null,
            "align_self": null,
            "border": null,
            "bottom": null,
            "display": null,
            "flex": null,
            "flex_flow": null,
            "grid_area": null,
            "grid_auto_columns": null,
            "grid_auto_flow": null,
            "grid_auto_rows": null,
            "grid_column": null,
            "grid_gap": null,
            "grid_row": null,
            "grid_template_areas": null,
            "grid_template_columns": null,
            "grid_template_rows": null,
            "height": null,
            "justify_content": null,
            "justify_items": null,
            "left": null,
            "margin": null,
            "max_height": null,
            "max_width": null,
            "min_height": null,
            "min_width": null,
            "object_fit": null,
            "object_position": null,
            "order": null,
            "overflow": null,
            "overflow_x": null,
            "overflow_y": null,
            "padding": null,
            "right": null,
            "top": null,
            "visibility": null,
            "width": null
          }
        },
        "11c3dd5ccc9d4434b4b673e68f6c01dc": {
          "model_module": "@jupyter-widgets/controls",
          "model_name": "DescriptionStyleModel",
          "model_module_version": "1.5.0",
          "state": {
            "_model_module": "@jupyter-widgets/controls",
            "_model_module_version": "1.5.0",
            "_model_name": "DescriptionStyleModel",
            "_view_count": null,
            "_view_module": "@jupyter-widgets/base",
            "_view_module_version": "1.2.0",
            "_view_name": "StyleView",
            "description_width": ""
          }
        }
      }
    }
  },
  "nbformat": 4,
  "nbformat_minor": 0
}