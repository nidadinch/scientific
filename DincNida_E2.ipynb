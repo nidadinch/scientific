{
 "cells": [
  {
   "cell_type": "markdown",
   "id": "5c85c0af",
   "metadata": {},
   "source": [
    "## 4. Lists"
   ]
  },
  {
   "cell_type": "markdown",
   "id": "26742a98",
   "metadata": {},
   "source": [
    "### Exercise 4.1: Short questions"
   ]
  },
  {
   "cell_type": "markdown",
   "id": "642a9e55",
   "metadata": {},
   "source": [
    "- (a) Write a function that prints the elements of a list"
   ]
  },
  {
   "cell_type": "code",
   "execution_count": 3,
   "id": "0b83b96c",
   "metadata": {},
   "outputs": [
    {
     "name": "stdout",
     "output_type": "stream",
     "text": [
      "scientific\n",
      "programming\n",
      "with\n",
      "python\n"
     ]
    }
   ],
   "source": [
    "thislist = [\"scientific\", \"programming\", \"with\", \"python\"]\n",
    "\n",
    "print_list(thislist)\n",
    "def print_list(mylist):\n",
    "    for x in mylist:\n",
    "      print(x)"
   ]
  },
  {
   "cell_type": "markdown",
   "id": "d5a2a337",
   "metadata": {},
   "source": [
    "- (b) Write a function that prints the elements of a list in reverse"
   ]
  },
  {
   "cell_type": "code",
   "execution_count": 51,
   "id": "893f2470",
   "metadata": {},
   "outputs": [],
   "source": [
    "def print_list(mylist):\n",
    "    for i in range(len(mylist)):\n",
    "        index = len(mylist) - (i+1)\n",
    "        print(mylist[index])"
   ]
  },
  {
   "cell_type": "code",
   "execution_count": 52,
   "id": "11ce0204",
   "metadata": {},
   "outputs": [
    {
     "name": "stdout",
     "output_type": "stream",
     "text": [
      "python\n",
      "with\n",
      "programming\n",
      "scientific\n"
     ]
    }
   ],
   "source": [
    "thislist = [\"scientific\", \"programming\", \"with\", \"python\"]\n",
    "\n",
    "print_list(thislist)"
   ]
  },
  {
   "cell_type": "markdown",
   "id": "0dfe1139",
   "metadata": {},
   "source": [
    "- (c) Write your own implementation of the len function that returns the number of elements in a list."
   ]
  },
  {
   "cell_type": "code",
   "execution_count": 55,
   "id": "4596dcd1",
   "metadata": {},
   "outputs": [
    {
     "data": {
      "text/plain": [
       "4"
      ]
     },
     "execution_count": 55,
     "metadata": {},
     "output_type": "execute_result"
    }
   ],
   "source": [
    "def length(mylist):\n",
    "    return sum([1 for _ in mylist])\n",
    "\n",
    "thislist = [\"scientific\", \"programming\", \"with\", \"python\"]\n",
    "length(thislist)"
   ]
  },
  {
   "cell_type": "markdown",
   "id": "d410dec0",
   "metadata": {},
   "source": [
    "### Exercise 4.2: Copying lists"
   ]
  },
  {
   "cell_type": "markdown",
   "id": "4d138e54",
   "metadata": {},
   "source": [
    "- (a) Create a list a with some entries."
   ]
  },
  {
   "cell_type": "code",
   "execution_count": 58,
   "id": "85397286",
   "metadata": {},
   "outputs": [],
   "source": [
    "a = [\"scientific\", \"programming\", \"with\", \"python\"]"
   ]
  },
  {
   "cell_type": "markdown",
   "id": "bb772723",
   "metadata": {},
   "source": [
    "- (b) Now set b = a"
   ]
  },
  {
   "cell_type": "code",
   "execution_count": 59,
   "id": "70562709",
   "metadata": {},
   "outputs": [],
   "source": [
    "b = a"
   ]
  },
  {
   "cell_type": "markdown",
   "id": "b0023207",
   "metadata": {},
   "source": [
    "- (c) Change b[1]"
   ]
  },
  {
   "cell_type": "code",
   "execution_count": 61,
   "id": "25338c7b",
   "metadata": {},
   "outputs": [],
   "source": [
    "b[1] = \"changed\""
   ]
  },
  {
   "cell_type": "markdown",
   "id": "880edaca",
   "metadata": {},
   "source": [
    "- (d) What happened to a?"
   ]
  },
  {
   "cell_type": "code",
   "execution_count": 62,
   "id": "a297a4e4",
   "metadata": {},
   "outputs": [
    {
     "name": "stdout",
     "output_type": "stream",
     "text": [
      "['scientific', 'changed', 'with', 'python']\n"
     ]
    }
   ],
   "source": [
    "print(a)"
   ]
  },
  {
   "cell_type": "markdown",
   "id": "617e80b3",
   "metadata": {},
   "source": [
    "List A has been changed too."
   ]
  },
  {
   "cell_type": "markdown",
   "id": "d3b418d9",
   "metadata": {},
   "source": [
    "- (e) Now set c = a[:]"
   ]
  },
  {
   "cell_type": "code",
   "execution_count": 63,
   "id": "ffd737e3",
   "metadata": {},
   "outputs": [],
   "source": [
    "c = a[:]"
   ]
  },
  {
   "cell_type": "markdown",
   "id": "e7bc419b",
   "metadata": {},
   "source": [
    "- (f) Change c[2]"
   ]
  },
  {
   "cell_type": "code",
   "execution_count": 64,
   "id": "f0cc6c69",
   "metadata": {},
   "outputs": [],
   "source": [
    "c[2] = \"changed again\""
   ]
  },
  {
   "cell_type": "markdown",
   "id": "4cb32d6a",
   "metadata": {},
   "source": [
    "- (g) What happened to a?"
   ]
  },
  {
   "cell_type": "code",
   "execution_count": 65,
   "id": "444cc151",
   "metadata": {},
   "outputs": [
    {
     "name": "stdout",
     "output_type": "stream",
     "text": [
      "['scientific', 'changed', 'with', 'python']\n"
     ]
    }
   ],
   "source": [
    "print(a)"
   ]
  },
  {
   "cell_type": "markdown",
   "id": "cc9fc606",
   "metadata": {},
   "source": [
    "List A is same. Nothing happened."
   ]
  },
  {
   "cell_type": "markdown",
   "id": "95d9b795",
   "metadata": {},
   "source": [
    "- Now create a function set_first_elem_to_zero(l) that takes a list, sets its first entry to zero, and returns the list.\n",
    "- What happens to the original list?"
   ]
  },
  {
   "cell_type": "code",
   "execution_count": 67,
   "id": "d7784111",
   "metadata": {},
   "outputs": [],
   "source": [
    "def set_first_elem_to_zero(l):\n",
    "    l[0]=0\n",
    "    return l"
   ]
  },
  {
   "cell_type": "code",
   "execution_count": 71,
   "id": "7d491787",
   "metadata": {},
   "outputs": [
    {
     "name": "stdout",
     "output_type": "stream",
     "text": [
      "[0, 'programming', 'with', 'python']\n",
      "[0, 'programming', 'with', 'python']\n"
     ]
    }
   ],
   "source": [
    "thislist = [\"scientific\", \"programming\", \"with\", \"python\"]\n",
    "\n",
    "print(set_first_elem_to_zero(thislist))\n",
    "print(thislist)"
   ]
  },
  {
   "cell_type": "markdown",
   "id": "9903ea7a",
   "metadata": {},
   "source": [
    "actual list has been changed."
   ]
  },
  {
   "cell_type": "markdown",
   "id": "72556588",
   "metadata": {},
   "source": [
    "Becasue, unlike other languages(JAVA, C#) python has pass by referance.(like Golang) It passes list by referance. Not by value."
   ]
  },
  {
   "cell_type": "markdown",
   "id": "ff32ab98",
   "metadata": {},
   "source": [
    "### Exercise 4.3: Lists of lists"
   ]
  },
  {
   "cell_type": "markdown",
   "id": "1ae6a135",
   "metadata": {},
   "source": [
    "What is the difference between a and b: \n",
    "- a = [[]] * 3\n",
    "- b = [[] for _ in xrange(3)]"
   ]
  },
  {
   "cell_type": "code",
   "execution_count": 73,
   "id": "35d18e28",
   "metadata": {},
   "outputs": [
    {
     "data": {
      "text/plain": [
       "[[], [], []]"
      ]
     },
     "execution_count": 73,
     "metadata": {},
     "output_type": "execute_result"
    }
   ],
   "source": [
    "a = [[]] * 3\n",
    "a"
   ]
  },
  {
   "cell_type": "code",
   "execution_count": 75,
   "id": "f120208c",
   "metadata": {},
   "outputs": [
    {
     "data": {
      "text/plain": [
       "[[], [], []]"
      ]
     },
     "execution_count": 75,
     "metadata": {},
     "output_type": "execute_result"
    }
   ],
   "source": [
    "b = [[] for _ in range(3)]\n",
    "b"
   ]
  },
  {
   "cell_type": "markdown",
   "id": "3f433cbe",
   "metadata": {},
   "source": [
    "In general there are no differance between a and b. Both of them takes lists in a list."
   ]
  },
  {
   "cell_type": "markdown",
   "id": "bc5a4953",
   "metadata": {},
   "source": [
    "### Exercise 4.4: Lists and functions"
   ]
  },
  {
   "cell_type": "markdown",
   "id": "1c915299",
   "metadata": {},
   "source": [
    "- Write a function that takes a list and an index, and sets the value of the list at the given index to 0."
   ]
  },
  {
   "cell_type": "code",
   "execution_count": 76,
   "id": "2bc40006",
   "metadata": {},
   "outputs": [],
   "source": [
    "def set_to_zero(l, i):\n",
    "    l[i]=0\n",
    "    return l"
   ]
  },
  {
   "cell_type": "code",
   "execution_count": 78,
   "id": "8cd0ec75",
   "metadata": {},
   "outputs": [
    {
     "data": {
      "text/plain": [
       "[1, 2, 0]"
      ]
     },
     "execution_count": 78,
     "metadata": {},
     "output_type": "execute_result"
    }
   ],
   "source": [
    "mylist = [1,2,3]\n",
    "set_to_zero(mylist, 2)"
   ]
  },
  {
   "cell_type": "markdown",
   "id": "3547d2e0",
   "metadata": {},
   "source": [
    "### Exercise 4.5: Primes"
   ]
  },
  {
   "cell_type": "markdown",
   "id": "9c706034",
   "metadata": {},
   "source": [
    "- In Section 3 you wrote a function that prints all primes up to n, and a function that prints the first n primes. Update these functions such that they return lists instead."
   ]
  },
  {
   "cell_type": "code",
   "execution_count": 51,
   "id": "828c772a",
   "metadata": {},
   "outputs": [
    {
     "data": {
      "text/plain": [
       "[2, 3, 5, 7, 11, 13, 17, 19, 23, 29, 31, 37, 41, 43, 47, 53, 59, 61, 67, 71]"
      ]
     },
     "execution_count": 51,
     "metadata": {},
     "output_type": "execute_result"
    }
   ],
   "source": [
    "def all_primes(n):\n",
    "    l = []\n",
    "    index = 0\n",
    "    num = 1\n",
    "    while num < n:\n",
    "        if num > 1:\n",
    "            for i in range(2, num):\n",
    "                if (num % i) == 0:\n",
    "                    break\n",
    "            else:\n",
    "                l.append(num)\n",
    "                index += 1\n",
    "        num += 1\n",
    "    return l\n",
    "all_primes(73)"
   ]
  },
  {
   "cell_type": "markdown",
   "id": "cefa56c4",
   "metadata": {},
   "source": [
    "### Exercise 4.6: List comprehensions"
   ]
  },
  {
   "cell_type": "markdown",
   "id": "46289da7",
   "metadata": {},
   "source": [
    "Let i,j = 1,...,n"
   ]
  },
  {
   "cell_type": "markdown",
   "id": "ca003e50",
   "metadata": {},
   "source": [
    "- (a) Generate a list with elements [i,j]."
   ]
  },
  {
   "cell_type": "code",
   "execution_count": 88,
   "id": "e8751399",
   "metadata": {},
   "outputs": [
    {
     "name": "stdout",
     "output_type": "stream",
     "text": [
      "[20, 21, 22, 23, 24]\n"
     ]
    }
   ],
   "source": [
    "i = 20\n",
    "j = 25\n",
    "newlist = [x for x in list(range(i,j))]\n",
    "\n",
    "print(newlist)"
   ]
  },
  {
   "cell_type": "markdown",
   "id": "4193fefa",
   "metadata": {},
   "source": [
    "- (b) Generate a list with elements [i,j] with i < j"
   ]
  },
  {
   "cell_type": "code",
   "execution_count": 92,
   "id": "ec93175d",
   "metadata": {},
   "outputs": [
    {
     "name": "stdout",
     "output_type": "stream",
     "text": [
      "[22, 23, 24]\n"
     ]
    }
   ],
   "source": [
    "i = 22\n",
    "j = 25\n",
    "newlist = [x for x in list(range(i,j)) if i < j]\n",
    "\n",
    "print(newlist)"
   ]
  },
  {
   "cell_type": "markdown",
   "id": "59a838de",
   "metadata": {},
   "source": [
    "- (c) Generate a list with elements i + j with both i and j prime and i > j."
   ]
  },
  {
   "cell_type": "code",
   "execution_count": 96,
   "id": "62179504",
   "metadata": {},
   "outputs": [],
   "source": [
    "from math import sqrt\n",
    "\n",
    "def is_prime(num):\n",
    "     if num > 1:\n",
    "        for i in range(2, num):\n",
    "            if (num % i) == 0:\n",
    "                return False\n",
    "        else:\n",
    "            return True\n",
    "        num += 1\n",
    "        "
   ]
  },
  {
   "cell_type": "code",
   "execution_count": 104,
   "id": "cf4f9411",
   "metadata": {},
   "outputs": [
    {
     "name": "stdout",
     "output_type": "stream",
     "text": [
      "[0, 1, 2, 3, 4, 5, 6, 7, 8, 9, 10, 11, 12, 13, 14, 15, 16, 17, 18, 19, 20, 21, 22, 23, 24, 25, 26, 27, 28, 29, 30, 31, 32, 33, 34, 35, 36, 37, 38, 39, 40, 41, 42, 43, 44, 45, 46, 47, 48, 49, 50, 51]\n"
     ]
    }
   ],
   "source": [
    "i = 29\n",
    "j = 23\n",
    "newlist = [x for x in list(range(i+j)) if i > j and is_prime(i) and is_prime(j)]\n",
    "\n",
    "print(newlist)"
   ]
  },
  {
   "cell_type": "markdown",
   "id": "c7faec3a",
   "metadata": {},
   "source": [
    "- (d) Write a function that evaluates an arbitrary polynomial a0 + a1x + a2x2 + . . . + anxn using a list comprehension, where you are given x and a list with coefficients coefs (hint: use enumerate)\n"
   ]
  },
  {
   "cell_type": "code",
   "execution_count": 123,
   "id": "3427d415",
   "metadata": {},
   "outputs": [
    {
     "data": {
      "text/plain": [
       "182"
      ]
     },
     "execution_count": 123,
     "metadata": {},
     "output_type": "execute_result"
    }
   ],
   "source": [
    "coefs = [2,3,4,5]\n",
    "x = 3\n",
    "\n",
    "def polynomial(x, coefs):\n",
    "    result = 0\n",
    "    for i in coefs:\n",
    "        #print(\"i\", i)\n",
    "        #print(\"x\", x ** (coefs.index(i)))\n",
    "        result += i * (x ** (coefs.index(i)))\n",
    "    return result\n",
    "\n",
    "polynomial(x,coefs)"
   ]
  },
  {
   "cell_type": "markdown",
   "id": "068e5343",
   "metadata": {},
   "source": [
    "### Exercise 4.8: Flatten a list of lists"
   ]
  },
  {
   "cell_type": "markdown",
   "id": "6ccb57e2",
   "metadata": {},
   "source": [
    "- Consider having a list with lists as elements, e.g. [[1,3], [3,6]].\n",
    "Write a function that takes such a list, and returns a list with as elements the elements of the sublists,\n",
    "e.g. [1, 3, 3, 6]."
   ]
  },
  {
   "cell_type": "code",
   "execution_count": 124,
   "id": "d7a5c6ed",
   "metadata": {},
   "outputs": [],
   "source": [
    "lists = [[1,3], [3,6]]"
   ]
  },
  {
   "cell_type": "code",
   "execution_count": 127,
   "id": "dbbe5ce9",
   "metadata": {},
   "outputs": [],
   "source": [
    "def flatten(l):\n",
    "    return [item for sublist in l for item in sublist]"
   ]
  },
  {
   "cell_type": "code",
   "execution_count": 128,
   "id": "8f6e2dfa",
   "metadata": {},
   "outputs": [
    {
     "data": {
      "text/plain": [
       "[1, 3, 3, 6]"
      ]
     },
     "execution_count": 128,
     "metadata": {},
     "output_type": "execute_result"
    }
   ],
   "source": [
    "flatten(lists)"
   ]
  },
  {
   "cell_type": "markdown",
   "id": "eab1179d",
   "metadata": {},
   "source": [
    "### Exercise 4.9: Finding the longest word"
   ]
  },
  {
   "cell_type": "markdown",
   "id": "ebc35d5b",
   "metadata": {},
   "source": [
    "- Write a function that returns the longest word in a variable text that contains a sentence. While text may contain punctuation, these should not be taken into account. What happens with ties?\n",
    "\n",
    "- As an example, consider: “Hello, how was the football match earlier today???”"
   ]
  },
  {
   "cell_type": "code",
   "execution_count": 136,
   "id": "bde01032",
   "metadata": {},
   "outputs": [],
   "source": [
    "import re\n",
    "\n",
    "def find_longest(str):\n",
    "    str = re.sub(r'[^\\w\\s]', '', str)\n",
    "    length = 0\n",
    "    longest = \"\"\n",
    "    \n",
    "    for word in str.split():\n",
    "        if(len(word) > length):\n",
    "            length = len(word)\n",
    "            longest = word\n",
    "     \n",
    "    return longest"
   ]
  },
  {
   "cell_type": "code",
   "execution_count": 138,
   "id": "3b1a9313",
   "metadata": {},
   "outputs": [
    {
     "data": {
      "text/plain": [
       "'football'"
      ]
     },
     "execution_count": 138,
     "metadata": {},
     "output_type": "execute_result"
    }
   ],
   "source": [
    "str = \"Hello, how was the football match earlier today????!!!??\"\n",
    "find_longest(str)"
   ]
  },
  {
   "cell_type": "markdown",
   "id": "f37bf1a1",
   "metadata": {},
   "source": [
    "### Exercise 4.10: Collatz sequence, part 2"
   ]
  },
  {
   "cell_type": "markdown",
   "id": "29da600f",
   "metadata": {},
   "source": [
    "Recall the Collatz sequence problem from Section 1. Our goal is to find the number n < 1, 000, 000 that leads to the longest Collatz sequence.\n",
    "- (a) Write a function that for any n, returns its Collatz sequence as a list"
   ]
  },
  {
   "cell_type": "code",
   "execution_count": 151,
   "id": "5aac9124",
   "metadata": {},
   "outputs": [
    {
     "name": "stdout",
     "output_type": "stream",
     "text": [
      "[310, 155, 466, 233, 700, 350, 175, 526, 263, 790, 395, 1186, 593, 1780, 890, 445, 1336, 668, 334, 167, 502, 251, 754, 377, 1132, 566, 283, 850, 425, 1276, 638, 319, 958, 479, 1438, 719, 2158, 1079, 3238, 1619, 4858, 2429, 7288, 3644, 1822, 911, 2734, 1367, 4102, 2051, 6154, 3077, 9232, 4616, 2308, 1154, 577, 1732, 866, 433, 1300, 650, 325, 976, 488, 244, 122, 61, 184, 92, 46, 23, 70, 35, 106, 53, 160, 80, 40, 20, 10, 5, 16, 8, 4, 2, 1]\n"
     ]
    }
   ],
   "source": [
    "x = 103\n",
    "print(collatz(x))\n",
    "\n",
    "def collatz(x):\n",
    "    mylist = []\n",
    "    while x != 1 and x < 10000000:\n",
    "        if x % 2 == 0:\n",
    "            x = x/2\n",
    "            mylist.append(int(x))\n",
    "        else:\n",
    "            x = 3*x+1\n",
    "            mylist.append(int(x))\n",
    "    return mylist"
   ]
  },
  {
   "cell_type": "markdown",
   "id": "9ba24e24",
   "metadata": {},
   "source": [
    "- (b) Write a function that finds the integer x that leads to the longest Collatz sequence with x < n."
   ]
  },
  {
   "cell_type": "code",
   "execution_count": 165,
   "id": "e7a3b6ba",
   "metadata": {},
   "outputs": [
    {
     "name": "stdout",
     "output_type": "stream",
     "text": [
      "[310, 155, 466, 233, 700, 350, 175, 526, 263, 790, 395, 1186, 593, 1780, 890, 445, 1336, 668, 334, 167, 502, 251, 754, 377, 1132, 566, 283, 850, 425, 1276, 638, 319, 958, 479, 1438, 719, 2158, 1079, 3238]\n"
     ]
    }
   ],
   "source": [
    "x = 103\n",
    "n = 3000\n",
    "\n",
    "def collatz(x,n):\n",
    "    mylist = []\n",
    "    while x != 1 and x < n:\n",
    "        if x % 2 == 0:\n",
    "            x = x/2\n",
    "            mylist.append(int(x))\n",
    "        else:\n",
    "            x = 3*x+1\n",
    "            mylist.append(int(x))\n",
    "    return mylist\n",
    "\n",
    "print(collatz(x,n))\n"
   ]
  },
  {
   "cell_type": "markdown",
   "id": "7cfe3815",
   "metadata": {},
   "source": [
    "### Exercise 4.11: Pivots"
   ]
  },
  {
   "cell_type": "markdown",
   "id": "54a16793",
   "metadata": {},
   "source": [
    "- Write a function that takes a value x and a list ys, and returns a list that contains the value x and all elements of ys such that all values y in ys that are smaller than x come first, then we element x and then the rest of the values in ys,\n",
    "\n",
    "- For example, the output of f(3, [6, 4, 1, 7]) should be [1, 3, 6, 4, 7]"
   ]
  },
  {
   "cell_type": "code",
   "execution_count": 171,
   "id": "8dceda59",
   "metadata": {},
   "outputs": [],
   "source": [
    "def pivots(x, ys):\n",
    "    newlist = []\n",
    "    for i in ys:\n",
    "        if x > i:\n",
    "            newlist.append(i)\n",
    "            ys.remove(i)\n",
    "    newlist.append(x)\n",
    "    for i in ys:\n",
    "        newlist.append(i)\n",
    "    return newlist    "
   ]
  },
  {
   "cell_type": "code",
   "execution_count": 172,
   "id": "9f8e349f",
   "metadata": {},
   "outputs": [
    {
     "data": {
      "text/plain": [
       "[1, 3, 6, 4, 7]"
      ]
     },
     "execution_count": 172,
     "metadata": {},
     "output_type": "execute_result"
    }
   ],
   "source": [
    "x = 3\n",
    "ys =  [6, 4, 1, 7]\n",
    "\n",
    "pivots(x, ys)"
   ]
  },
  {
   "cell_type": "markdown",
   "id": "fc8a2c8e",
   "metadata": {},
   "source": [
    "### Exercise 4.12: Prime challenge"
   ]
  },
  {
   "cell_type": "markdown",
   "id": "1bae80d1",
   "metadata": {},
   "source": [
    "- Write the function primes(n) that return a list with all prime numbers up to n using three (or less) lines of code.\n",
    "- Hint 1: Use lambda functions and list comprehensions.\n",
    "- Hint 2: Use the first two lines to define two helper (lambda) functions."
   ]
  },
  {
   "cell_type": "code",
   "execution_count": 194,
   "id": "26abcd47",
   "metadata": {},
   "outputs": [
    {
     "data": {
      "text/plain": [
       "[2, 3, 5, 7, 11, 13, 17, 19, 23, 29, 31, 37, 41, 43, 47, 53, 59, 61, 67]"
      ]
     },
     "execution_count": 194,
     "metadata": {},
     "output_type": "execute_result"
    }
   ],
   "source": [
    "def primes(n):\n",
    "    return list(filter(lambda x: len(list(filter(lambda n: x % n != 0, range(2, x)))) == x - 2, range(n)))\n",
    "\n",
    "primes(70)"
   ]
  },
  {
   "cell_type": "markdown",
   "id": "5e1c5d09",
   "metadata": {},
   "source": [
    "## 5. Tuples"
   ]
  },
  {
   "cell_type": "markdown",
   "id": "90ba13e9",
   "metadata": {},
   "source": [
    "### Exercise 5.1: Swapping two values"
   ]
  },
  {
   "cell_type": "markdown",
   "id": "c27e00f1",
   "metadata": {},
   "source": [
    "Suppose you have two variables: a and b. Now you want to set a equal to the value of b and at the same time set b equal to the value of a.\n",
    "The following obviously does not work\n",
    "- a=b b=a\n",
    "so in some languages, you need to define a third variable like this\n",
    "- t=a a=b b=t\n",
    "However, in Python you don’t need to do this. How can you swap a and b in one line?"
   ]
  },
  {
   "cell_type": "code",
   "execution_count": 198,
   "id": "e2a14083",
   "metadata": {},
   "outputs": [
    {
     "name": "stdout",
     "output_type": "stream",
     "text": [
      "a 4\n",
      "b 2\n"
     ]
    }
   ],
   "source": [
    "a = 2\n",
    "b = 4\n",
    "\n",
    "a,b = b,a\n",
    "print(\"a\", a)\n",
    "print(\"b\", b)"
   ]
  },
  {
   "cell_type": "markdown",
   "id": "130d34a6",
   "metadata": {},
   "source": [
    "### Exercise 5.2: Zip"
   ]
  },
  {
   "cell_type": "markdown",
   "id": "86584bee",
   "metadata": {},
   "source": [
    "- Suppose we have two lists, x and y that give the x and y coordinates of a set of points. Create a list with the coordinates (x,y) as a tuple. Hint: Find out about the zip function.\n",
    "- You have decided that actually, you need the two seperate lists, but unfortunately, you have thrown them away. How can we use zip to unzip the list of tuples to get two lists again?"
   ]
  },
  {
   "cell_type": "code",
   "execution_count": 33,
   "id": "28343f84",
   "metadata": {},
   "outputs": [
    {
     "name": "stdout",
     "output_type": "stream",
     "text": [
      "((3, 5), (6, 2), (7, 4))\n"
     ]
    }
   ],
   "source": [
    "a = (3,6,7)\n",
    "b = (5,2,4)\n",
    "\n",
    "x = list(zip(a, b))\n",
    "print(tuple(x))"
   ]
  },
  {
   "cell_type": "code",
   "execution_count": 32,
   "id": "a2c9a395",
   "metadata": {},
   "outputs": [
    {
     "name": "stdout",
     "output_type": "stream",
     "text": [
      "[(3, 6, 7), (5, 2, 4)]\n"
     ]
    }
   ],
   "source": [
    "unzipped = list(zip(*x))\n",
    "print(unzipped)"
   ]
  },
  {
   "cell_type": "markdown",
   "id": "7eca2043",
   "metadata": {},
   "source": [
    "### Exercise 5.3: Distances"
   ]
  },
  {
   "cell_type": "markdown",
   "id": "088a5080",
   "metadata": {},
   "source": [
    "- Suppose we have two vectors, x and y, stored as tuples with n elements. Implement functions that compute the l1 and l2 distances between x and y. Note that n is not explicitly given."
   ]
  },
  {
   "cell_type": "code",
   "execution_count": 45,
   "id": "1c734a94",
   "metadata": {},
   "outputs": [],
   "source": [
    "import math\n",
    "\n",
    "def calc_dist(x,y):\n",
    "    x = tuple(list(zip(a, b)))\n",
    "    distance = 0\n",
    "    i = 0\n",
    "    for item in x:\n",
    "        distance += ((item[i]-item[i+1])**2)\n",
    "    return math.sqrt(distance)"
   ]
  },
  {
   "cell_type": "code",
   "execution_count": 46,
   "id": "c29d17db",
   "metadata": {},
   "outputs": [
    {
     "data": {
      "text/plain": [
       "5.385164807134504"
      ]
     },
     "execution_count": 46,
     "metadata": {},
     "output_type": "execute_result"
    }
   ],
   "source": [
    "calc_dist(a,b)"
   ]
  },
  {
   "cell_type": "markdown",
   "id": "69423372",
   "metadata": {},
   "source": [
    "## 6. Dictionaries"
   ]
  },
  {
   "cell_type": "markdown",
   "id": "c7c18e4b",
   "metadata": {},
   "source": [
    "## Exercise 6.1: Printing a dictionary"
   ]
  },
  {
   "cell_type": "markdown",
   "id": "ff87cce0",
   "metadata": {},
   "source": [
    "- Write a function that prints key-value pairs of a dictionary."
   ]
  },
  {
   "cell_type": "code",
   "execution_count": 2,
   "id": "fd7d14bb",
   "metadata": {},
   "outputs": [
    {
     "name": "stdout",
     "output_type": "stream",
     "text": [
      "{'name': 'Scientific Programming', 'class': '4', 'university': 'Akdeniz University'}\n"
     ]
    }
   ],
   "source": [
    "lecture = {\n",
    "    \"name\":\"Scientific Programming\",\n",
    "    \"class\": \"4\",\n",
    "    \"university\": \"Akdeniz University\"\n",
    "}\n",
    "\n",
    "print(lecture)"
   ]
  },
  {
   "cell_type": "markdown",
   "id": "05b89222",
   "metadata": {},
   "source": [
    "### Exercise 6.2: Histogram"
   ]
  },
  {
   "cell_type": "markdown",
   "id": "ba3464c7",
   "metadata": {},
   "source": [
    "- Write a function that takes a list, and returns a dictionary with keys the elements of the list and as value the number of occurances of that element in the list.\n",
    "- After you are done, look up ‘python collections counter’ in Google. Could you use a counter instead?\n",
    " "
   ]
  },
  {
   "cell_type": "code",
   "execution_count": 18,
   "id": "6c1d5428",
   "metadata": {},
   "outputs": [],
   "source": [
    "def counter(l):\n",
    "    my_dict = dict()\n",
    "    for item in l:\n",
    "        if item in my_dict.keys():\n",
    "            my_dict[item] += 1\n",
    "        else:\n",
    "            my_dict[item] = 1\n",
    "    return my_dict"
   ]
  },
  {
   "cell_type": "code",
   "execution_count": 19,
   "id": "d8ed7fd6",
   "metadata": {},
   "outputs": [
    {
     "name": "stdout",
     "output_type": "stream",
     "text": [
      "{1: 1, 2: 1, 3: 2, 4: 1, 5: 2}\n"
     ]
    }
   ],
   "source": [
    "l = [1,2,3,3,4,5,5]\n",
    "print(counter(l))"
   ]
  },
  {
   "cell_type": "code",
   "execution_count": 21,
   "id": "ded01096",
   "metadata": {},
   "outputs": [
    {
     "data": {
      "text/plain": [
       "Counter({1: 1, 2: 1, 3: 2, 4: 1, 5: 2})"
      ]
     },
     "execution_count": 21,
     "metadata": {},
     "output_type": "execute_result"
    }
   ],
   "source": [
    "from collections import Counter\n",
    "\n",
    "dct = Counter(l)\n",
    "dct"
   ]
  },
  {
   "cell_type": "markdown",
   "id": "1c865e11",
   "metadata": {},
   "source": [
    "I could use counter instead. It's easy. As the python source code shows, Counter is just a subclass of dict. Constructing it is O(n), because it has to iterate over the input, but operations on individual elements remain O(1). Same as my function. "
   ]
  },
  {
   "cell_type": "markdown",
   "id": "9ccf1b5c",
   "metadata": {},
   "source": [
    "### Exercise 6.3: Get method"
   ]
  },
  {
   "cell_type": "markdown",
   "id": "230be56e",
   "metadata": {},
   "source": [
    "- Dictionaries have a get method, which takes a key and a default value. If the key is in the dictionary, it returns the value, otherwise, it returns the default value.\n",
    "- Rewrite your code from the previous problem to make use of this get method."
   ]
  },
  {
   "cell_type": "code",
   "execution_count": 24,
   "id": "5833bce2",
   "metadata": {},
   "outputs": [],
   "source": [
    "def counter(l):\n",
    "    my_dict = dict()\n",
    "    for item in l:\n",
    "        if my_dict.get(item) in my_dict.keys():\n",
    "            my_dict[item] += 1\n",
    "        else:\n",
    "            my_dict[item] = 1\n",
    "    return my_dict"
   ]
  },
  {
   "cell_type": "code",
   "execution_count": 25,
   "id": "5bfe7ccd",
   "metadata": {},
   "outputs": [
    {
     "name": "stdout",
     "output_type": "stream",
     "text": [
      "{1: 1, 2: 1, 3: 2, 4: 1, 5: 2}\n"
     ]
    }
   ],
   "source": [
    "l = [1,2,3,3,4,5,5]\n",
    "print(counter(l))"
   ]
  },
  {
   "cell_type": "markdown",
   "id": "df266e65",
   "metadata": {},
   "source": [
    "### Exercise 6.4: Random text generator"
   ]
  },
  {
   "cell_type": "markdown",
   "id": "63f7ce05",
   "metadata": {},
   "source": [
    "Done by seperately."
   ]
  },
  {
   "cell_type": "markdown",
   "id": "63c89457",
   "metadata": {},
   "source": [
    "### Exercise 6.5: Vector functions"
   ]
  },
  {
   "cell_type": "markdown",
   "id": "e36b2c40",
   "metadata": {},
   "source": [
    "- (a) Write a function that adds two (dense) vectors"
   ]
  },
  {
   "cell_type": "code",
   "execution_count": 1,
   "id": "216d6c5c",
   "metadata": {},
   "outputs": [],
   "source": [
    "def add_vectors(a,b):\n",
    "    sum_list = []\n",
    "\n",
    "    for (item1, item2) in zip(a, b):\n",
    "        sum_list.append(item1+item2)\n",
    "\n",
    "    return sum_list"
   ]
  },
  {
   "cell_type": "code",
   "execution_count": 2,
   "id": "dfccc386",
   "metadata": {},
   "outputs": [
    {
     "data": {
      "text/plain": [
       "[5, 7, 9]"
      ]
     },
     "execution_count": 2,
     "metadata": {},
     "output_type": "execute_result"
    }
   ],
   "source": [
    "a = [1, 2, 3]\n",
    "b = [4, 5, 6]\n",
    "\n",
    "add_vectors(a,b)"
   ]
  },
  {
   "cell_type": "markdown",
   "id": "7594a12d",
   "metadata": {},
   "source": [
    "- (b) Write a function that multiplies (i.e. inner product) two (dense) vectors"
   ]
  },
  {
   "cell_type": "code",
   "execution_count": 4,
   "id": "03c108ef",
   "metadata": {},
   "outputs": [],
   "source": [
    "def multiply_vectors(vectora,vectorb):\n",
    "    return [a*b for a,b in zip(vectora,vectorb)]"
   ]
  },
  {
   "cell_type": "code",
   "execution_count": 5,
   "id": "53d3c62e",
   "metadata": {},
   "outputs": [
    {
     "data": {
      "text/plain": [
       "[4, 10, 18]"
      ]
     },
     "execution_count": 5,
     "metadata": {},
     "output_type": "execute_result"
    }
   ],
   "source": [
    "multiply_vectors(a,b)"
   ]
  },
  {
   "cell_type": "markdown",
   "id": "c2699911",
   "metadata": {},
   "source": [
    "- (c) Write a function that adds two sparse vectors"
   ]
  },
  {
   "cell_type": "code",
   "execution_count": 8,
   "id": "dcebf4f0",
   "metadata": {},
   "outputs": [],
   "source": [
    "def add_sparse(a,b):\n",
    "    return {k: a[k]+b[k] for k in a}"
   ]
  },
  {
   "cell_type": "code",
   "execution_count": 9,
   "id": "789f4293",
   "metadata": {},
   "outputs": [
    {
     "data": {
      "text/plain": [
       "{'x': 10, 'y': 2, 'z': 33.5}"
      ]
     },
     "execution_count": 9,
     "metadata": {},
     "output_type": "execute_result"
    }
   ],
   "source": [
    "a = {\n",
    "\"x\": 4,\n",
    "\"y\": 2,\n",
    "\"z\": 1.5\n",
    "}\n",
    "\n",
    "b = {\n",
    "\"x\": 6,\n",
    "\"y\": 0,\n",
    "\"z\": 32\n",
    "}\n",
    "\n",
    "add_sparse(a,b)"
   ]
  },
  {
   "cell_type": "markdown",
   "id": "6f76452a",
   "metadata": {},
   "source": [
    "- (d) Write a function that multiplies two sparse vectors"
   ]
  },
  {
   "cell_type": "code",
   "execution_count": 10,
   "id": "bd8209e6",
   "metadata": {},
   "outputs": [],
   "source": [
    "def multiply_sparse(a,b):\n",
    "    return {k: a[k]*b[k] for k in a}"
   ]
  },
  {
   "cell_type": "code",
   "execution_count": 11,
   "id": "c2f1c39e",
   "metadata": {},
   "outputs": [
    {
     "data": {
      "text/plain": [
       "{'x': 24, 'y': 0, 'z': 48.0}"
      ]
     },
     "execution_count": 11,
     "metadata": {},
     "output_type": "execute_result"
    }
   ],
   "source": [
    "multiply_sparse(a,b)"
   ]
  },
  {
   "cell_type": "markdown",
   "id": "8f8a0dc0",
   "metadata": {},
   "source": [
    "- (e) Write a function that adds a sparse vector and a dense vector"
   ]
  },
  {
   "cell_type": "code",
   "execution_count": 17,
   "id": "5a3d018e",
   "metadata": {},
   "outputs": [],
   "source": [
    "def add_both(sparse,dense):\n",
    "    i = 0\n",
    "    for k in sparse:\n",
    "        sparse[k] = sparse[k]+dense[i]\n",
    "        i+=1\n",
    "        \n",
    "    return sparse"
   ]
  },
  {
   "cell_type": "code",
   "execution_count": 18,
   "id": "8ee97822",
   "metadata": {},
   "outputs": [
    {
     "data": {
      "text/plain": [
       "{'x': 7, 'y': 9, 'z': 9.5}"
      ]
     },
     "execution_count": 18,
     "metadata": {},
     "output_type": "execute_result"
    }
   ],
   "source": [
    "a = {\n",
    "\"x\": 4,\n",
    "\"y\": 2,\n",
    "\"z\": 1.5\n",
    "}\n",
    "\n",
    "b = [3,7,8]\n",
    "add_both(a,b)"
   ]
  },
  {
   "cell_type": "markdown",
   "id": "eca8c221",
   "metadata": {},
   "source": [
    "- (f) Write a function that multiplies a sparse vector and a dense vector"
   ]
  },
  {
   "cell_type": "code",
   "execution_count": 19,
   "id": "2bc155b2",
   "metadata": {},
   "outputs": [],
   "source": [
    "def multiply_both(sparse,dense):\n",
    "    i = 0\n",
    "    for k in sparse:\n",
    "        sparse[k] = sparse[k]*dense[i]\n",
    "        i+=1\n",
    "        \n",
    "    return sparse"
   ]
  },
  {
   "cell_type": "code",
   "execution_count": 20,
   "id": "caf6c942",
   "metadata": {},
   "outputs": [
    {
     "data": {
      "text/plain": [
       "{'x': 12, 'y': 14, 'z': 12.0}"
      ]
     },
     "execution_count": 20,
     "metadata": {},
     "output_type": "execute_result"
    }
   ],
   "source": [
    "a = {\n",
    "\"x\": 4,\n",
    "\"y\": 2,\n",
    "\"z\": 1.5\n",
    "}\n",
    "\n",
    "b = [3,7,8]\n",
    "multiply_both(a,b)"
   ]
  },
  {
   "cell_type": "markdown",
   "id": "dc2900d5",
   "metadata": {},
   "source": [
    "### Exercise 6.6: Reverse look-up"
   ]
  },
  {
   "cell_type": "markdown",
   "id": "6c6e50fe",
   "metadata": {},
   "source": [
    "- Dictionaries are made to look up values by keys. Suppose however, we want to find the key that is associated with some value. Write a function that takes a dictionary and a value, and returns the key associated with this value.\n",
    "- What challenges do you face? How would you deal with those challenges?"
   ]
  },
  {
   "cell_type": "code",
   "execution_count": 27,
   "id": "306b9408",
   "metadata": {},
   "outputs": [],
   "source": [
    "def get_key(dic, val):\n",
    "    for k in dic:\n",
    "        if dic[k] == val:\n",
    "            return k\n",
    "        else:\n",
    "            return 'Not found'"
   ]
  },
  {
   "cell_type": "code",
   "execution_count": 55,
   "id": "5d12e98c",
   "metadata": {},
   "outputs": [
    {
     "data": {
      "text/plain": [
       "'x'"
      ]
     },
     "execution_count": 55,
     "metadata": {},
     "output_type": "execute_result"
    }
   ],
   "source": [
    "a = {\n",
    "\"x\": 4,\n",
    "\"y\": 2,\n",
    "\"z\": 1.5\n",
    "}\n",
    "\n",
    "get_key(a, 4)"
   ]
  },
  {
   "cell_type": "code",
   "execution_count": 56,
   "id": "663e5097",
   "metadata": {},
   "outputs": [
    {
     "data": {
      "text/plain": [
       "'Not found'"
      ]
     },
     "execution_count": 56,
     "metadata": {},
     "output_type": "execute_result"
    }
   ],
   "source": [
    "get_key(a, 3)"
   ]
  },
  {
   "cell_type": "markdown",
   "id": "79953ea3",
   "metadata": {},
   "source": [
    "- I think it was easy by using for loop. When i iterate keys over a dict,  i can access values and checked this value. "
   ]
  }
 ],
 "metadata": {
  "kernelspec": {
   "display_name": "Python 3 (ipykernel)",
   "language": "python",
   "name": "python3"
  },
  "language_info": {
   "codemirror_mode": {
    "name": "ipython",
    "version": 3
   },
   "file_extension": ".py",
   "mimetype": "text/x-python",
   "name": "python",
   "nbconvert_exporter": "python",
   "pygments_lexer": "ipython3",
   "version": "3.8.6"
  }
 },
 "nbformat": 4,
 "nbformat_minor": 5
}
